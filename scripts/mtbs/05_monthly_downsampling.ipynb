{
 "cells": [
  {
   "cell_type": "markdown",
   "metadata": {},
   "source": [
    "<img width=\"50\" src=\"https://carbonplan-assets.s3.amazonaws.com/monogram/dark-small.png\" style=\"margin-left:0px;margin-top:20px\"/>\n",
    "\n",
    "# MTBS monthly downsampling and reprojection\n",
    "\n",
    "_by Joe Hamman (CarbonPlan), August 5, 2020_\n",
    "\n",
    "This notebook downsamples and reprojects monthly MTBS 30m rasters stored in\n",
    "Cloud Optimized GeoTIFF 4000m GeoTIFFs.\n",
    "\n",
    "**Inputs:**\n",
    "\n",
    "- Monthly COGs\n",
    "\n",
    "**Outputs:**\n",
    "\n",
    "- COG outputs after downsampling and reprojection\n",
    "\n",
    "**Notes:**\n",
    "\n",
    "- Source CRS and projection extent come from MTBS\n"
   ]
  },
  {
   "cell_type": "code",
   "execution_count": null,
   "metadata": {},
   "outputs": [],
   "source": [
    "import os"
   ]
  },
  {
   "cell_type": "code",
   "execution_count": null,
   "metadata": {},
   "outputs": [],
   "source": [
    "from carbonplan_data.utils import projections, setup\n",
    "\n",
    "workdir, upload = setup(\"jeremy\")\n",
    "workdir"
   ]
  },
  {
   "cell_type": "code",
   "execution_count": null,
   "metadata": {},
   "outputs": [],
   "source": [
    "from rio_cogeo.cogeo import cog_translate\n",
    "from rio_cogeo.profiles import cog_profiles\n",
    "\n",
    "dst_profile = cog_profiles.get(\"deflate\")"
   ]
  },
  {
   "cell_type": "code",
   "execution_count": null,
   "metadata": {},
   "outputs": [],
   "source": [
    "def get_file(region, fire, year, month):\n",
    "    return {\n",
    "        \"source\": (\n",
    "            workdir\n",
    "            / f\"processed/mtbs/{region}/30m/{fire}_{year}.{month:02g}.tif\"\n",
    "        ).as_posix(),\n",
    "        \"target\": f\"processed/mtbs/{region}/4000m/tif/{fire}.{month:02g}.tif\",\n",
    "    }"
   ]
  },
  {
   "cell_type": "code",
   "execution_count": null,
   "metadata": {},
   "outputs": [],
   "source": [
    "resolution = 4000\n",
    "\n",
    "for year in [1984]:\n",
    "    for month in [1]:\n",
    "        for fire in [\"vlf\"]:\n",
    "            for region in [\"ak\", \"conus\"]:\n",
    "                f = get_file(region, fire, year, month)\n",
    "                crs, extent = projections(\"albers\", region)\n",
    "                resampling = \"average\"\n",
    "                cmd = (\n",
    "                    \"gdalwarp \"\n",
    "                    \"-t_srs '%s' \"\n",
    "                    \"-te %s \"\n",
    "                    \"-tr %s %s \"\n",
    "                    \"-r %s \"\n",
    "                    \"%s \"\n",
    "                    \"%s\"\n",
    "                ) % (\n",
    "                    crs,\n",
    "                    extent,\n",
    "                    resolution,\n",
    "                    resolution,\n",
    "                    resampling,\n",
    "                    f[\"source\"],\n",
    "                    \"./raster.tif\",\n",
    "                )\n",
    "                os.system(cmd)\n",
    "                cog_translate(\"./raster.tif\", \"./raster.tif\", dst_profile)\n",
    "                upload(\"./raster.tif\", f[\"target\"])\n",
    "                os.remove(\"./raster.tif\")"
   ]
  },
  {
   "cell_type": "code",
   "execution_count": null,
   "metadata": {},
   "outputs": [],
   "source": [
    "files = [get_file(\"conus\", \"vlf\", 1984, month)[\"source\"] for month in range(12)]"
   ]
  },
  {
   "cell_type": "code",
   "execution_count": null,
   "metadata": {},
   "outputs": [],
   "source": [
    "resolution = 4000\n",
    "\n",
    "for year in [2017]:\n",
    "    for region in [\"conus\"]:\n",
    "\n",
    "        for fire in [\"vlf\"]:\n",
    "            files = [\n",
    "                get_file(\"conus\", \"vlf\", year, month + 1)[\"source\"]\n",
    "                for month in range(12)\n",
    "            ]\n",
    "            crs, extent = projections(\"albers\", region)\n",
    "            resampling = \"sum\"\n",
    "            cmd = (\n",
    "                \"gdalwarp \"\n",
    "                \"-t_srs '%s' \"\n",
    "                \"-te %s \"\n",
    "                \"-tr %s %s \"\n",
    "                \"-r %s \"\n",
    "                \"%s \"\n",
    "                \"%s\"\n",
    "            ) % (\n",
    "                crs,\n",
    "                extent,\n",
    "                resolution,\n",
    "                resolution,\n",
    "                resampling,\n",
    "                \" \".join(files),\n",
    "                \"./raster.tif\",\n",
    "            )\n",
    "            print(cmd)\n",
    "            os.system(cmd)\n",
    "            # cog_translate(\"./raster.tif\", \"./raster.tif\", dst_profile)\n",
    "            # upload(\"./raster.tif\", f[\"target\"])\n",
    "            # os.remove(\"./raster.tif\")"
   ]
  },
  {
   "cell_type": "code",
   "execution_count": null,
   "metadata": {},
   "outputs": [],
   "source": [
    "import rasterio\n",
    "\n",
    "r = rasterio.open(\n",
    "    \"/Users/freeman/workdir/carbonplan-data/processed/mtbs/conus/30m/vlf_2018.09.tif\"\n",
    ")\n",
    "im = r.read(1)"
   ]
  },
  {
   "cell_type": "code",
   "execution_count": null,
   "metadata": {},
   "outputs": [],
   "source": [
    "r = rasterio.open(\"./raster.tif\")\n",
    "im = r.read(1)"
   ]
  },
  {
   "cell_type": "code",
   "execution_count": null,
   "metadata": {},
   "outputs": [],
   "source": [
    "%matplotlib inline"
   ]
  },
  {
   "cell_type": "code",
   "execution_count": null,
   "metadata": {},
   "outputs": [],
   "source": [
    "from showit import image"
   ]
  },
  {
   "cell_type": "code",
   "execution_count": null,
   "metadata": {},
   "outputs": [],
   "source": [
    "im.sum()"
   ]
  },
  {
   "cell_type": "code",
   "execution_count": null,
   "metadata": {},
   "outputs": [],
   "source": [
    "image(im, size=12, clim=(0, 1))"
   ]
  },
  {
   "cell_type": "code",
   "execution_count": null,
   "metadata": {},
   "outputs": [],
   "source": [
    "from carbonplan_forests import load"
   ]
  },
  {
   "cell_type": "code",
   "execution_count": null,
   "metadata": {},
   "outputs": [],
   "source": [
    "mtbs = load.mtbs(store=\"local\")"
   ]
  },
  {
   "cell_type": "code",
   "execution_count": null,
   "metadata": {},
   "outputs": [],
   "source": [
    "before = mtbs.groupby(\"time.year\").sum().sel(year=2018)[\"vlf\"]"
   ]
  },
  {
   "cell_type": "code",
   "execution_count": null,
   "metadata": {},
   "outputs": [],
   "source": [
    "image(1 - before, size=12, clim=(0, 1))"
   ]
  }
 ],
 "metadata": {
  "kernelspec": {
   "display_name": "Python 3",
   "language": "python",
   "name": "python3"
  },
  "language_info": {
   "codemirror_mode": {
    "name": "ipython",
    "version": 3
   },
   "file_extension": ".py",
   "mimetype": "text/x-python",
   "name": "python",
   "nbconvert_exporter": "python",
   "pygments_lexer": "ipython3",
   "version": "3.7.9"
  }
 },
 "nbformat": 4,
 "nbformat_minor": 4
}
