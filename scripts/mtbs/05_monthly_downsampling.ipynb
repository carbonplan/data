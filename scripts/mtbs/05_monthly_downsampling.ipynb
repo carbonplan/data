{
 "cells": [
  {
   "cell_type": "markdown",
   "metadata": {},
   "source": [
    "<img width=\"50\" src=\"https://carbonplan-assets.s3.amazonaws.com/monogram/dark-small.png\" style=\"margin-left:0px;margin-top:20px\"/>\n",
    "\n",
    "# MTBS monthly downsampling and reprojection\n",
    "\n",
    "_by Joe Hamman (CarbonPlan), August 5, 2020_\n",
    "\n",
    "This notebook downsamples and reprojects monthly MTBS 30m rasters stored in Cloud Optimized GeoTIFF 4000m GeoTIFFs.\n",
    "\n",
    "**Inputs:**\n",
    "\n",
    "- Monthly COGs\n",
    "\n",
    "**Outputs:**\n",
    "\n",
    "- COG outputs after downsampling and reprojection\n",
    "\n",
    "**Notes:**\n",
    "\n",
    "- Source CRS and projection extent come from MTBS\n"
   ]
  },
  {
   "cell_type": "code",
   "execution_count": 1,
   "metadata": {},
   "outputs": [],
   "source": [
    "import os"
   ]
  },
  {
   "cell_type": "code",
   "execution_count": 13,
   "metadata": {},
   "outputs": [
    {
     "data": {
      "text/plain": [
       "PosixPath('/Users/freeman/workdir/carbonplan-data')"
      ]
     },
     "execution_count": 13,
     "metadata": {},
     "output_type": "execute_result"
    }
   ],
   "source": [
    "from carbonplan_data.utils import projections, setup\n",
    "\n",
    "workdir, upload = setup(\"jeremy\")\n",
    "workdir"
   ]
  },
  {
   "cell_type": "code",
   "execution_count": 12,
   "metadata": {},
   "outputs": [],
   "source": [
    "from rio_cogeo.cogeo import cog_translate\n",
    "from rio_cogeo.profiles import cog_profiles\n",
    "\n",
    "dst_profile = cog_profiles.get(\"deflate\")"
   ]
  },
  {
   "cell_type": "code",
   "execution_count": 28,
   "metadata": {},
   "outputs": [],
   "source": [
    "def get_file(region, fire, year, month):\n",
    "    return {\n",
    "        \"source\": (workdir / f\"processed/mtbs/{region}/30m/{fire}_{year}.{month:02g}.tif\").as_posix(),\n",
    "        \"target\": f\"processed/mtbs/{region}/4000m/tif/{fire}.{month:02g}.tif\",\n",
    "    }"
   ]
  },
  {
   "cell_type": "code",
   "execution_count": null,
   "metadata": {},
   "outputs": [],
   "source": [
    "resolution = 4000\n",
    "\n",
    "for year in [1984]:\n",
    "    for month in [1]:\n",
    "        for fire in [\"vlf\"]:\n",
    "            for region in [\"ak\", \"conus\"]:\n",
    "                f = get_file(region, fire, year, month)\n",
    "                crs, extent = projections(\"albers\", region)\n",
    "                resampling = \"average\"\n",
    "                cmd = (\n",
    "                    \"gdalwarp \"\n",
    "                    \"-t_srs '%s' \"\n",
    "                    \"-te %s \"\n",
    "                    \"-tr %s %s \"\n",
    "                    \"-r %s \"\n",
    "                    \"%s \"\n",
    "                    \"%s\"\n",
    "                ) % (\n",
    "                    crs,\n",
    "                    extent,\n",
    "                    resolution,\n",
    "                    resolution,\n",
    "                    resampling,\n",
    "                    f[\"source\"],\n",
    "                    \"./raster.tif\",\n",
    "                )\n",
    "                os.system(cmd)\n",
    "                cog_translate(\"./raster.tif\", \"./raster.tif\", dst_profile)\n",
    "                upload(\"./raster.tif\", f[\"target\"])\n",
    "                os.remove(\"./raster.tif\")"
   ]
  },
  {
   "cell_type": "code",
   "execution_count": 30,
   "metadata": {},
   "outputs": [],
   "source": [
    "files = [get_file('conus', 'vlf', 1984, month)['source'] for month in range(12)]"
   ]
  },
  {
   "cell_type": "code",
   "execution_count": 148,
   "metadata": {},
   "outputs": [
    {
     "name": "stdout",
     "output_type": "stream",
     "text": [
      "gdalwarp -t_srs 'PROJCS[\"Albers_Conical_Equal_Area\",GEOGCS[\"WGS 84\",DATUM[\"WGS_1984\",SPHEROID[\"WGS 84\",6378137,298.257223563,AUTHORITY[\"EPSG\",\"7030\"]],TOWGS84[0,0,0,-0,-0,-0,0],AUTHORITY[\"EPSG\",\"6326\"]],PRIMEM[\"Greenwich\",0,AUTHORITY[\"EPSG\",\"8901\"]],UNIT[\"degree\",0.0174532925199433,AUTHORITY[\"EPSG\",\"9122\"]],AUTHORITY[\"EPSG\",\"4326\"]],PROJECTION[\"Albers_Conic_Equal_Area\"],PARAMETER[\"standard_parallel_1\",29.5],PARAMETER[\"standard_parallel_2\",45.5],PARAMETER[\"latitude_of_center\",23],PARAMETER[\"longitude_of_center\",-96],PARAMETER[\"false_easting\",0],PARAMETER[\"false_northing\",0],UNIT[\"meters\",1]]' -te -2493045.0 177285.0 2342655.0 3310005.0 -tr 4000 4000 -r sum /Users/freeman/workdir/carbonplan-data/processed/mtbs/conus/30m/vlf_2017.01.tif /Users/freeman/workdir/carbonplan-data/processed/mtbs/conus/30m/vlf_2017.02.tif /Users/freeman/workdir/carbonplan-data/processed/mtbs/conus/30m/vlf_2017.03.tif /Users/freeman/workdir/carbonplan-data/processed/mtbs/conus/30m/vlf_2017.04.tif /Users/freeman/workdir/carbonplan-data/processed/mtbs/conus/30m/vlf_2017.05.tif /Users/freeman/workdir/carbonplan-data/processed/mtbs/conus/30m/vlf_2017.06.tif /Users/freeman/workdir/carbonplan-data/processed/mtbs/conus/30m/vlf_2017.07.tif /Users/freeman/workdir/carbonplan-data/processed/mtbs/conus/30m/vlf_2017.08.tif /Users/freeman/workdir/carbonplan-data/processed/mtbs/conus/30m/vlf_2017.09.tif /Users/freeman/workdir/carbonplan-data/processed/mtbs/conus/30m/vlf_2017.10.tif /Users/freeman/workdir/carbonplan-data/processed/mtbs/conus/30m/vlf_2017.11.tif /Users/freeman/workdir/carbonplan-data/processed/mtbs/conus/30m/vlf_2017.12.tif ./raster.tif\n"
     ]
    }
   ],
   "source": [
    "resolution = 4000\n",
    "\n",
    "for year in [2017]:\n",
    "    for region in [\"conus\"]:\n",
    "        \n",
    "        for fire in [\"vlf\"]:\n",
    "            files = [get_file('conus', 'vlf', year, month + 1)['source'] for month in range(12)]\n",
    "            crs, extent = projections(\"albers\", region)\n",
    "            resampling = \"sum\"\n",
    "            cmd = (\n",
    "                \"gdalwarp \"\n",
    "                \"-t_srs '%s' \"\n",
    "                \"-te %s \"\n",
    "                \"-tr %s %s \"\n",
    "                \"-r %s \"\n",
    "                \"%s \"\n",
    "                \"%s\"\n",
    "            ) % (\n",
    "                crs,\n",
    "                extent,\n",
    "                resolution,\n",
    "                resolution,\n",
    "                resampling,\n",
    "                ' '.join(files),\n",
    "                \"./raster.tif\",\n",
    "            )\n",
    "            print(cmd)\n",
    "            os.system(cmd)\n",
    "            #cog_translate(\"./raster.tif\", \"./raster.tif\", dst_profile)\n",
    "            #upload(\"./raster.tif\", f[\"target\"])\n",
    "            #os.remove(\"./raster.tif\")"
   ]
  },
  {
   "cell_type": "code",
   "execution_count": 85,
   "metadata": {},
   "outputs": [],
   "source": [
    "import rasterio\n",
    "r = rasterio.open('/Users/freeman/workdir/carbonplan-data/processed/mtbs/conus/30m/vlf_2018.09.tif')\n",
    "im = r.read(1)"
   ]
  },
  {
   "cell_type": "code",
   "execution_count": 149,
   "metadata": {},
   "outputs": [],
   "source": [
    "r = rasterio.open('./raster.tif')\n",
    "im = r.read(1)"
   ]
  },
  {
   "cell_type": "code",
   "execution_count": 51,
   "metadata": {},
   "outputs": [],
   "source": [
    "%matplotlib inline"
   ]
  },
  {
   "cell_type": "code",
   "execution_count": 52,
   "metadata": {},
   "outputs": [],
   "source": [
    "from showit import image"
   ]
  },
  {
   "cell_type": "code",
   "execution_count": 119,
   "metadata": {},
   "outputs": [
    {
     "data": {
      "text/plain": [
       "4"
      ]
     },
     "execution_count": 119,
     "metadata": {},
     "output_type": "execute_result"
    }
   ],
   "source": [
    "im.sum()"
   ]
  },
  {
   "cell_type": "code",
   "execution_count": 150,
   "metadata": {},
   "outputs": [
    {
     "data": {
      "text/plain": [
       "<matplotlib.image.AxesImage at 0x129725370>"
      ]
     },
     "execution_count": 150,
     "metadata": {},
     "output_type": "execute_result"
    },
    {
     "data": {
      "image/png": "[encoded data removed]",
      "text/plain": [
       "<Figure size 864x864 with 1 Axes>"
      ]
     },
     "metadata": {
      "needs_background": "light"
     },
     "output_type": "display_data"
    }
   ],
   "source": [
    "image(im, size=12, clim=(0,1))"
   ]
  },
  {
   "cell_type": "code",
   "execution_count": 92,
   "metadata": {},
   "outputs": [],
   "source": [
    "from carbonplan_forests import load"
   ]
  },
  {
   "cell_type": "code",
   "execution_count": 93,
   "metadata": {},
   "outputs": [],
   "source": [
    "mtbs = load.mtbs(store='local')"
   ]
  },
  {
   "cell_type": "code",
   "execution_count": 167,
   "metadata": {},
   "outputs": [],
   "source": [
    "before = mtbs.groupby('time.year').sum().sel(year=2018)['vlf']"
   ]
  },
  {
   "cell_type": "code",
   "execution_count": 166,
   "metadata": {},
   "outputs": [
    {
     "data": {
      "text/plain": [
       "<matplotlib.image.AxesImage at 0x129e81130>"
      ]
     },
     "execution_count": 166,
     "metadata": {},
     "output_type": "execute_result"
    },
    {
     "data": {
      "image/png": "[encoded data removed]",
      "text/plain": [
       "<Figure size 864x864 with 1 Axes>"
      ]
     },
     "metadata": {
      "needs_background": "light"
     },
     "output_type": "display_data"
    }
   ],
   "source": [
    "image(1-before, size=12, clim=(0,1))"
   ]
  }
 ],
 "metadata": {
  "kernelspec": {
   "display_name": "Python 3",
   "language": "python",
   "name": "python3"
  },
  "language_info": {
   "codemirror_mode": {
    "name": "ipython",
    "version": 3
   },
   "file_extension": ".py",
   "mimetype": "text/x-python",
   "name": "python",
   "nbconvert_exporter": "python",
   "pygments_lexer": "ipython3",
   "version": "3.8.5"
  }
 },
 "nbformat": 4,
 "nbformat_minor": 4
}
