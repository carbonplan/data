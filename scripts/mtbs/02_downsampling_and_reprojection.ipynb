{
 "cells": [
  {
   "cell_type": "markdown",
   "metadata": {},
   "source": [
    "<img width=\"50\" src=\"https://carbonplan-assets.s3.amazonaws.com/monogram/dark-small.png\" style=\"margin-left:0px;margin-top:20px\"/>\n",
    "\n",
    "# MTBS downsampling and reprojection\n",
    "\n",
    "_by Joe Hamman (CarbonPlan), August 5, 2020_\n",
    "\n",
    "This notebook downsamples and reprojects MTBS 250m yearly rasters stored in\n",
    "Cloud Optimized GeoTIFF into 250m and 4000m GeoTIFFs.\n",
    "\n",
    "**Inputs:**\n",
    "\n",
    "- COG outputs from `01_mtbs_to_cogs.ipynb`\n",
    "\n",
    "**Outputs:**\n",
    "\n",
    "- COG outputs after downsampling and reprojection\n",
    "\n",
    "**Notes:**\n",
    "\n",
    "- Source CRS and projection extent come from MTBS\n"
   ]
  },
  {
   "cell_type": "code",
   "execution_count": null,
   "metadata": {},
   "outputs": [],
   "source": [
    "import os"
   ]
  },
  {
   "cell_type": "code",
   "execution_count": null,
   "metadata": {},
   "outputs": [],
   "source": [
    "from carbonplan_data.utils import projections, setup\n",
    "\n",
    "workdir, upload = setup(\"joe\")\n",
    "workdir"
   ]
  },
  {
   "cell_type": "code",
   "execution_count": null,
   "metadata": {},
   "outputs": [],
   "source": [
    "from rio_cogeo.cogeo import cog_translate\n",
    "from rio_cogeo.profiles import cog_profiles\n",
    "\n",
    "dst_profile = cog_profiles.get(\"deflate\")"
   ]
  },
  {
   "cell_type": "code",
   "execution_count": null,
   "metadata": {},
   "outputs": [],
   "source": [
    "def get_files(region):\n",
    "    return [\n",
    "        {\n",
    "            \"source\": workdir / f\"mtbs/{region}_foresttype/250m/raster.tif\",\n",
    "            \"target\": f\"processed/nftd/{region}/{resolution}m/type.tif\",\n",
    "        },\n",
    "        {\n",
    "            \"source\": workdir / f\"nftd/{region}_forestgroup/250m/raster.tif\",\n",
    "            \"target\": f\"processed/nftd/{region}/{resolution}m/group.tif\",\n",
    "        },\n",
    "        {\n",
    "            \"source\": workdir / f\"nftd/{region}_foresttype/250m/error.tif\",\n",
    "            \"target\": f\"processed/nftd/{region}/{resolution}m/type_error.tif\",\n",
    "        },\n",
    "        {\n",
    "            \"source\": workdir / f\"nftd/{region}_forestgroup/250m/error.tif\",\n",
    "            \"target\": f\"processed/nftd/{region}/{resolution}m/group_error.tif\",\n",
    "        },\n",
    "    ]"
   ]
  },
  {
   "cell_type": "code",
   "execution_count": null,
   "metadata": {},
   "outputs": [],
   "source": [
    "for resolution in [250, 4000]:\n",
    "    for region in [\"ak\", \"conus\"]:\n",
    "        files = get_files(region)\n",
    "        crs, extent = projections(\"albers\", region)\n",
    "        for f in files:\n",
    "            if \"error\" in str(f[\"source\"]):\n",
    "                resampling = \"average\"\n",
    "            elif resolution == 4000:\n",
    "                resampling = \"mode\"\n",
    "            else:\n",
    "                resampling = \"near\"\n",
    "            cmd = (\n",
    "                \"gdalwarp \"\n",
    "                \"-t_srs '%s' \"\n",
    "                \"-te %s \"\n",
    "                \"-tr %s %s \"\n",
    "                \"-r %s \"\n",
    "                \"%s \"\n",
    "                \"%s\"\n",
    "            ) % (\n",
    "                crs,\n",
    "                extent,\n",
    "                resolution,\n",
    "                resolution,\n",
    "                resampling,\n",
    "                f[\"source\"],\n",
    "                \"./raster.tif\",\n",
    "            )\n",
    "            os.system(cmd)\n",
    "            cog_translate(\"./raster.tif\", \"./raster.tif\", dst_profile)\n",
    "            upload(\"./raster.tif\", f[\"target\"])\n",
    "            os.remove(\"./raster.tif\")"
   ]
  }
 ],
 "metadata": {
  "kernelspec": {
   "display_name": "Python 3",
   "language": "python",
   "name": "python3"
  },
  "language_info": {
   "codemirror_mode": {
    "name": "ipython",
    "version": 3
   },
   "file_extension": ".py",
   "mimetype": "text/x-python",
   "name": "python",
   "nbconvert_exporter": "python",
   "pygments_lexer": "ipython3",
   "version": "3.8.2"
  }
 },
 "nbformat": 4,
 "nbformat_minor": 4
}
