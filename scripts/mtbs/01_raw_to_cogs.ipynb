{
 "cells": [
  {
   "cell_type": "markdown",
   "metadata": {},
   "source": [
    "<img width=\"100\" src=\"https://carbonplan-assets.s3.amazonaws.com/monogram/dark-small.png\" style=\"margin-left:0px;margin-top:20px\"/>\n",
    "\n",
    "# MTBS to Cloud Optimized GeoTIFF\n",
    "\n",
    "_by Joe Hamman (CarbonPlan), June 5, 2020_\n",
    "\n",
    "This notebook converts MTBS 30m yearly rasters to Cloud Optimized GeoTIFF and stages them in a Google Cloud Storage bucket. \n",
    "\n",
    "**Inputs:**\n",
    "- `DATA.zip` from MTBS website\n",
    "\n",
    "**Outputs:**\n",
    "- One COG per year: `gs://carbonplan-data/raw/MTBS/30m/<YEAR>/raster.tif`\n",
    "\n",
    "**Notes:**\n",
    "- No reprojection or processing of the data is done in this notebook."
   ]
  },
  {
   "cell_type": "code",
   "execution_count": 1,
   "metadata": {},
   "outputs": [],
   "source": [
    "import io\n",
    "import os.path\n",
    "\n",
    "from rasterio.io import MemoryFile\n",
    "from rio_cogeo.cogeo import cog_translate\n",
    "from rio_cogeo.profiles import cog_profiles\n",
    "\n",
    "from fsspec.implementations import zip\n",
    "import gcsfs\n",
    "\n",
    "# run `gcloud auth login` on the command line, or try switching token to `browser`\n",
    "fs = gcsfs.GCSFileSystem(project='carbonplan', token='/Users/jhamman/.config/gcloud/legacy_credentials/joe@carbonplan.org/adc.json')"
   ]
  },
  {
   "cell_type": "markdown",
   "metadata": {},
   "source": [
    "The input for this script is a zip file called `DATA.zip`.\n",
    "This was downloaded from: https://www.mtbs.gov/direct-download\n",
    "Specifically, it came from:\n",
    "```\n",
    "  - [select] Burn Severity Mosaics\n",
    "    -> [select] Continental U.S.\n",
    "      -> [click] all years\n",
    "        -> [click] Download 34 Files \n",
    "```\n",
    "This file does not need to be un-zipped for the rest of the script to run."
   ]
  },
  {
   "cell_type": "code",
   "execution_count": 2,
   "metadata": {},
   "outputs": [],
   "source": [
    "# raw zip file\n",
    "raw_zips = '~/Downloads/DATA.zip'\n",
    "\n",
    "# This is where we'll write the COGs when we're done\n",
    "bucket = 'carbonplan-data/raw/MTBS/30m/'\n",
    "\n",
    "# This is the COG profile:\n",
    "dst_profile = cog_profiles.get(\"deflate\")"
   ]
  },
  {
   "cell_type": "code",
   "execution_count": 3,
   "metadata": {},
   "outputs": [],
   "source": [
    "def translate(fo, out_file):\n",
    "    '''translate a file object (`fo`) to cloud optimized geotiff\n",
    "    \n",
    "    the resulting COG is written to the filesystem (`fs`) defined above.\n",
    "    '''\n",
    "    dst_profile = cog_profiles.get(\"deflate\")\n",
    "    with MemoryFile() as mem_dst:\n",
    "        # Important, we pass `mem_dst.name` as output dataset path\n",
    "        cog_translate(fo, mem_dst.name, dst_profile, in_memory=True)\n",
    "        print(f'writing to {out_file}')\n",
    "        with fs.open(out_file, 'wb') as f:\n",
    "            f.write(mem_dst.read())"
   ]
  },
  {
   "cell_type": "code",
   "execution_count": 4,
   "metadata": {},
   "outputs": [
    {
     "name": "stderr",
     "output_type": "stream",
     "text": [
      "/Users/jhamman/miniconda3/envs/carbonplan38/lib/python3.8/site-packages/fsspec/implementations/local.py:29: FutureWarning: The default value of auto_mkdir=True has been deprecated and will be changed to auto_mkdir=False by default in a future release.\n",
      "  warnings.warn(\n"
     ]
    },
    {
     "name": "stdout",
     "output_type": "stream",
     "text": [
      "done with carbonplan-data/raw/MTBS/30m/1984.htm\n"
     ]
    },
    {
     "name": "stderr",
     "output_type": "stream",
     "text": [
      "Reading input: <_io.BytesIO object at 0x120265e50>\n",
      "Adding overviews...\n",
      "Updating dataset tags...\n",
      "Writing output to: /vsimem/226f1f10-7e45-4904-810d-b7c34e967649.\n"
     ]
    },
    {
     "name": "stdout",
     "output_type": "stream",
     "text": [
      "writing to carbonplan-data/raw/MTBS/30m/1984.tif\n",
      "done with carbonplan-data/raw/MTBS/30m/1984.tif\n",
      "done with carbonplan-data/raw/MTBS/30m/1985.htm\n"
     ]
    },
    {
     "name": "stderr",
     "output_type": "stream",
     "text": [
      "Reading input: <_io.BytesIO object at 0x11ec2a950>\n",
      "Adding overviews...\n",
      "Updating dataset tags...\n",
      "Writing output to: /vsimem/2c7995cc-8698-4f01-a65c-cb544fc870a7.\n"
     ]
    },
    {
     "name": "stdout",
     "output_type": "stream",
     "text": [
      "writing to carbonplan-data/raw/MTBS/30m/1985.tif\n",
      "done with carbonplan-data/raw/MTBS/30m/1985.tif\n",
      "done with carbonplan-data/raw/MTBS/30m/1986.htm\n"
     ]
    },
    {
     "name": "stderr",
     "output_type": "stream",
     "text": [
      "Reading input: <_io.BytesIO object at 0x11fb88cc0>\n",
      "Adding overviews...\n",
      "Updating dataset tags...\n",
      "Writing output to: /vsimem/ea71d6b5-c651-4331-bb72-dc72441f5bb0.\n"
     ]
    },
    {
     "name": "stdout",
     "output_type": "stream",
     "text": [
      "writing to carbonplan-data/raw/MTBS/30m/1986.tif\n",
      "done with carbonplan-data/raw/MTBS/30m/1986.tif\n",
      "done with carbonplan-data/raw/MTBS/30m/1987.htm\n"
     ]
    },
    {
     "name": "stderr",
     "output_type": "stream",
     "text": [
      "Reading input: <_io.BytesIO object at 0x10ac40220>\n",
      "Adding overviews...\n",
      "Updating dataset tags...\n",
      "Writing output to: /vsimem/301e9709-de87-477b-b076-fec31d849ffe.\n"
     ]
    },
    {
     "name": "stdout",
     "output_type": "stream",
     "text": [
      "writing to carbonplan-data/raw/MTBS/30m/1987.tif\n",
      "done with carbonplan-data/raw/MTBS/30m/1987.tif\n",
      "done with carbonplan-data/raw/MTBS/30m/1988.htm\n"
     ]
    },
    {
     "name": "stderr",
     "output_type": "stream",
     "text": [
      "Reading input: <_io.BytesIO object at 0x13102b1d0>\n",
      "Adding overviews...\n",
      "Updating dataset tags...\n",
      "Writing output to: /vsimem/3d432343-e2d4-4111-9a2d-137f0cdc7bba.\n"
     ]
    },
    {
     "name": "stdout",
     "output_type": "stream",
     "text": [
      "writing to carbonplan-data/raw/MTBS/30m/1988.tif\n",
      "done with carbonplan-data/raw/MTBS/30m/1988.tif\n",
      "done with carbonplan-data/raw/MTBS/30m/1989.htm\n"
     ]
    },
    {
     "name": "stderr",
     "output_type": "stream",
     "text": [
      "Reading input: <_io.BytesIO object at 0x12545ad60>\n",
      "Adding overviews...\n",
      "Updating dataset tags...\n",
      "Writing output to: /vsimem/570007fd-ef71-424b-985f-324067119b94.\n"
     ]
    },
    {
     "name": "stdout",
     "output_type": "stream",
     "text": [
      "writing to carbonplan-data/raw/MTBS/30m/1989.tif\n",
      "done with carbonplan-data/raw/MTBS/30m/1989.tif\n",
      "done with carbonplan-data/raw/MTBS/30m/1990.htm\n"
     ]
    },
    {
     "name": "stderr",
     "output_type": "stream",
     "text": [
      "Reading input: <_io.BytesIO object at 0x11fb88c70>\n",
      "Adding overviews...\n",
      "Updating dataset tags...\n",
      "Writing output to: /vsimem/240a8ee9-39d1-4147-987e-fa95d4177eeb.\n"
     ]
    },
    {
     "name": "stdout",
     "output_type": "stream",
     "text": [
      "writing to carbonplan-data/raw/MTBS/30m/1990.tif\n",
      "done with carbonplan-data/raw/MTBS/30m/1990.tif\n",
      "done with carbonplan-data/raw/MTBS/30m/1991.htm\n"
     ]
    },
    {
     "name": "stderr",
     "output_type": "stream",
     "text": [
      "Reading input: <_io.BytesIO object at 0x12024df90>\n",
      "Adding overviews...\n",
      "Updating dataset tags...\n",
      "Writing output to: /vsimem/8ca93851-6004-4ca7-98b9-5576ce09ad8d.\n"
     ]
    },
    {
     "name": "stdout",
     "output_type": "stream",
     "text": [
      "writing to carbonplan-data/raw/MTBS/30m/1991.tif\n",
      "done with carbonplan-data/raw/MTBS/30m/1991.tif\n",
      "done with carbonplan-data/raw/MTBS/30m/1992.htm\n"
     ]
    },
    {
     "name": "stderr",
     "output_type": "stream",
     "text": [
      "Reading input: <_io.BytesIO object at 0x10adc6450>\n",
      "Adding overviews...\n",
      "Updating dataset tags...\n",
      "Writing output to: /vsimem/ef6fefcf-de2b-441a-a9a6-9e017a46c788.\n"
     ]
    },
    {
     "name": "stdout",
     "output_type": "stream",
     "text": [
      "writing to carbonplan-data/raw/MTBS/30m/1992.tif\n",
      "done with carbonplan-data/raw/MTBS/30m/1992.tif\n",
      "done with carbonplan-data/raw/MTBS/30m/1993.htm\n"
     ]
    },
    {
     "name": "stderr",
     "output_type": "stream",
     "text": [
      "Reading input: <_io.BytesIO object at 0x11fba3360>\n",
      "Adding overviews...\n",
      "Updating dataset tags...\n",
      "Writing output to: /vsimem/de7a2114-0ea5-47c2-98b8-883cf64f891f.\n"
     ]
    },
    {
     "name": "stdout",
     "output_type": "stream",
     "text": [
      "writing to carbonplan-data/raw/MTBS/30m/1993.tif\n",
      "done with carbonplan-data/raw/MTBS/30m/1993.tif\n",
      "done with carbonplan-data/raw/MTBS/30m/1994.htm\n"
     ]
    },
    {
     "name": "stderr",
     "output_type": "stream",
     "text": [
      "Reading input: <_io.BytesIO object at 0x10ac40220>\n",
      "Adding overviews...\n",
      "Updating dataset tags...\n",
      "Writing output to: /vsimem/f9f00a27-4ef7-4c88-af40-6b48dec01e02.\n"
     ]
    },
    {
     "name": "stdout",
     "output_type": "stream",
     "text": [
      "writing to carbonplan-data/raw/MTBS/30m/1994.tif\n",
      "done with carbonplan-data/raw/MTBS/30m/1994.tif\n",
      "done with carbonplan-data/raw/MTBS/30m/1995.htm\n"
     ]
    },
    {
     "name": "stderr",
     "output_type": "stream",
     "text": [
      "Reading input: <_io.BytesIO object at 0x131034e50>\n",
      "Adding overviews...\n",
      "Updating dataset tags...\n",
      "Writing output to: /vsimem/cb860d74-cc31-43b0-b5c1-a665038c9329.\n"
     ]
    },
    {
     "name": "stdout",
     "output_type": "stream",
     "text": [
      "writing to carbonplan-data/raw/MTBS/30m/1995.tif\n",
      "done with carbonplan-data/raw/MTBS/30m/1995.tif\n",
      "done with carbonplan-data/raw/MTBS/30m/1996.htm\n"
     ]
    },
    {
     "name": "stderr",
     "output_type": "stream",
     "text": [
      "Reading input: <_io.BytesIO object at 0x11fba3360>\n",
      "Adding overviews...\n",
      "Updating dataset tags...\n",
      "Writing output to: /vsimem/dc88747b-adc0-4b40-a4f8-88bbc2d0712b.\n"
     ]
    },
    {
     "name": "stdout",
     "output_type": "stream",
     "text": [
      "writing to carbonplan-data/raw/MTBS/30m/1996.tif\n",
      "done with carbonplan-data/raw/MTBS/30m/1996.tif\n",
      "done with carbonplan-data/raw/MTBS/30m/1997.htm\n"
     ]
    },
    {
     "name": "stderr",
     "output_type": "stream",
     "text": [
      "Reading input: <_io.BytesIO object at 0x13102bea0>\n",
      "Adding overviews...\n",
      "Updating dataset tags...\n",
      "Writing output to: /vsimem/b51dc21c-d5e2-4fae-9fe0-5c3c4e55b0dc.\n"
     ]
    },
    {
     "name": "stdout",
     "output_type": "stream",
     "text": [
      "writing to carbonplan-data/raw/MTBS/30m/1997.tif\n",
      "done with carbonplan-data/raw/MTBS/30m/1997.tif\n"
     ]
    },
    {
     "name": "stderr",
     "output_type": "stream",
     "text": [
      "Reading input: <_io.BytesIO object at 0x11fba3310>\n",
      "Adding overviews...\n",
      "Updating dataset tags...\n",
      "Writing output to: /vsimem/e4896c4a-dc51-42dd-873c-6a00a011260c.\n"
     ]
    },
    {
     "name": "stdout",
     "output_type": "stream",
     "text": [
      "writing to carbonplan-data/raw/MTBS/30m/1998.tif\n",
      "done with carbonplan-data/raw/MTBS/30m/1998.tif\n",
      "done with carbonplan-data/raw/MTBS/30m/1999.htm\n"
     ]
    },
    {
     "name": "stderr",
     "output_type": "stream",
     "text": [
      "Reading input: <_io.BytesIO object at 0x11fb88d60>\n",
      "Adding overviews...\n",
      "Updating dataset tags...\n",
      "Writing output to: /vsimem/3e2e7fb9-3240-4f10-8536-dbdb050397b9.\n"
     ]
    },
    {
     "name": "stdout",
     "output_type": "stream",
     "text": [
      "writing to carbonplan-data/raw/MTBS/30m/1999.tif\n",
      "done with carbonplan-data/raw/MTBS/30m/1999.tif\n",
      "done with carbonplan-data/raw/MTBS/30m/2000.htm\n"
     ]
    },
    {
     "name": "stderr",
     "output_type": "stream",
     "text": [
      "Reading input: <_io.BytesIO object at 0x11fba3310>\n",
      "Adding overviews...\n",
      "Updating dataset tags...\n",
      "Writing output to: /vsimem/0f9032c4-6e4d-4258-a423-2e0cc7814c88.\n"
     ]
    },
    {
     "name": "stdout",
     "output_type": "stream",
     "text": [
      "writing to carbonplan-data/raw/MTBS/30m/2000.tif\n",
      "done with carbonplan-data/raw/MTBS/30m/2000.tif\n",
      "done with carbonplan-data/raw/MTBS/30m/2001.htm\n"
     ]
    },
    {
     "name": "stderr",
     "output_type": "stream",
     "text": [
      "Reading input: <_io.BytesIO object at 0x13102b270>\n",
      "Adding overviews...\n",
      "Updating dataset tags...\n",
      "Writing output to: /vsimem/177a3d6f-ac74-4249-ad92-e14a40135d78.\n"
     ]
    },
    {
     "name": "stdout",
     "output_type": "stream",
     "text": [
      "writing to carbonplan-data/raw/MTBS/30m/2001.tif\n",
      "done with carbonplan-data/raw/MTBS/30m/2001.tif\n",
      "done with carbonplan-data/raw/MTBS/30m/2002.htm\n"
     ]
    },
    {
     "name": "stderr",
     "output_type": "stream",
     "text": [
      "Reading input: <_io.BytesIO object at 0x11fba3310>\n",
      "Adding overviews...\n",
      "Updating dataset tags...\n",
      "Writing output to: /vsimem/d25e4780-8d54-4fb1-9e70-c69d74ee62a2.\n"
     ]
    },
    {
     "name": "stdout",
     "output_type": "stream",
     "text": [
      "writing to carbonplan-data/raw/MTBS/30m/2002.tif\n",
      "done with carbonplan-data/raw/MTBS/30m/2002.tif\n",
      "done with carbonplan-data/raw/MTBS/30m/2003.htm\n"
     ]
    },
    {
     "name": "stderr",
     "output_type": "stream",
     "text": [
      "Reading input: <_io.BytesIO object at 0x12024de00>\n",
      "Adding overviews...\n",
      "Updating dataset tags...\n",
      "Writing output to: /vsimem/978db529-2a06-4c7b-8d03-13b89c9d39cc.\n"
     ]
    },
    {
     "name": "stdout",
     "output_type": "stream",
     "text": [
      "writing to carbonplan-data/raw/MTBS/30m/2003.tif\n",
      "done with carbonplan-data/raw/MTBS/30m/2003.tif\n",
      "done with carbonplan-data/raw/MTBS/30m/2004.htm\n"
     ]
    },
    {
     "name": "stderr",
     "output_type": "stream",
     "text": [
      "Reading input: <_io.BytesIO object at 0x12545a6d0>\n",
      "Adding overviews...\n",
      "Updating dataset tags...\n",
      "Writing output to: /vsimem/065d8273-bb86-4cfa-acfd-a0022cdf5fc2.\n"
     ]
    },
    {
     "name": "stdout",
     "output_type": "stream",
     "text": [
      "writing to carbonplan-data/raw/MTBS/30m/2004.tif\n",
      "done with carbonplan-data/raw/MTBS/30m/2004.tif\n",
      "done with carbonplan-data/raw/MTBS/30m/2005.htm\n"
     ]
    },
    {
     "name": "stderr",
     "output_type": "stream",
     "text": [
      "Reading input: <_io.BytesIO object at 0x131034a90>\n",
      "Adding overviews...\n",
      "Updating dataset tags...\n",
      "Writing output to: /vsimem/04982ebf-3dd6-4b66-bfd9-8aba0916e083.\n"
     ]
    },
    {
     "name": "stdout",
     "output_type": "stream",
     "text": [
      "writing to carbonplan-data/raw/MTBS/30m/2005.tif\n",
      "done with carbonplan-data/raw/MTBS/30m/2005.tif\n"
     ]
    },
    {
     "name": "stderr",
     "output_type": "stream",
     "text": [
      "Reading input: <_io.BytesIO object at 0x12027dd60>\n",
      "Adding overviews...\n",
      "Updating dataset tags...\n",
      "Writing output to: /vsimem/b7a88e8f-9673-4fe0-ac44-83d808f5ea23.\n"
     ]
    },
    {
     "name": "stdout",
     "output_type": "stream",
     "text": [
      "writing to carbonplan-data/raw/MTBS/30m/2006.tif\n",
      "done with carbonplan-data/raw/MTBS/30m/2006.tif\n",
      "done with carbonplan-data/raw/MTBS/30m/2007.htm\n"
     ]
    },
    {
     "name": "stderr",
     "output_type": "stream",
     "text": [
      "Reading input: <_io.BytesIO object at 0x12545a450>\n",
      "Adding overviews...\n",
      "Updating dataset tags...\n",
      "Writing output to: /vsimem/7cb38c83-34da-479b-b579-3db3ad3d9c46.\n"
     ]
    },
    {
     "name": "stdout",
     "output_type": "stream",
     "text": [
      "writing to carbonplan-data/raw/MTBS/30m/2007.tif\n",
      "done with carbonplan-data/raw/MTBS/30m/2007.tif\n",
      "done with carbonplan-data/raw/MTBS/30m/2008.htm\n"
     ]
    },
    {
     "name": "stderr",
     "output_type": "stream",
     "text": [
      "Reading input: <_io.BytesIO object at 0x12027d450>\n",
      "Adding overviews...\n",
      "Updating dataset tags...\n",
      "Writing output to: /vsimem/84b5394b-8feb-4b3f-802d-6c445b9e49de.\n"
     ]
    },
    {
     "name": "stdout",
     "output_type": "stream",
     "text": [
      "writing to carbonplan-data/raw/MTBS/30m/2008.tif\n",
      "done with carbonplan-data/raw/MTBS/30m/2008.tif\n",
      "done with carbonplan-data/raw/MTBS/30m/2009.htm\n"
     ]
    },
    {
     "name": "stderr",
     "output_type": "stream",
     "text": [
      "Reading input: <_io.BytesIO object at 0x120265090>\n",
      "Adding overviews...\n",
      "Updating dataset tags...\n",
      "Writing output to: /vsimem/38ec7578-0798-49ff-b6d9-76e0709bee63.\n"
     ]
    },
    {
     "name": "stdout",
     "output_type": "stream",
     "text": [
      "writing to carbonplan-data/raw/MTBS/30m/2009.tif\n",
      "done with carbonplan-data/raw/MTBS/30m/2009.tif\n",
      "done with carbonplan-data/raw/MTBS/30m/2010.htm\n"
     ]
    },
    {
     "name": "stderr",
     "output_type": "stream",
     "text": [
      "Reading input: <_io.BytesIO object at 0x1202e5d60>\n",
      "Adding overviews...\n",
      "Updating dataset tags...\n",
      "Writing output to: /vsimem/e8011539-7be6-42a4-a111-e3fbd0d85019.\n"
     ]
    },
    {
     "name": "stdout",
     "output_type": "stream",
     "text": [
      "writing to carbonplan-data/raw/MTBS/30m/2010.tif\n",
      "done with carbonplan-data/raw/MTBS/30m/2010.tif\n",
      "done with carbonplan-data/raw/MTBS/30m/2011.htm\n"
     ]
    },
    {
     "name": "stderr",
     "output_type": "stream",
     "text": [
      "Reading input: <_io.BytesIO object at 0x12024d1d0>\n",
      "Adding overviews...\n",
      "Updating dataset tags...\n",
      "Writing output to: /vsimem/abd9ae84-17f1-4ef9-8bed-7c72ffc0d8ac.\n"
     ]
    },
    {
     "name": "stdout",
     "output_type": "stream",
     "text": [
      "writing to carbonplan-data/raw/MTBS/30m/2011.tif\n",
      "done with carbonplan-data/raw/MTBS/30m/2011.tif\n",
      "done with carbonplan-data/raw/MTBS/30m/2012.htm\n"
     ]
    },
    {
     "name": "stderr",
     "output_type": "stream",
     "text": [
      "Reading input: <_io.BytesIO object at 0x1202e5680>\n",
      "Adding overviews...\n",
      "Updating dataset tags...\n",
      "Writing output to: /vsimem/457ca9fb-60f0-4153-a610-e544a94ec1aa.\n"
     ]
    },
    {
     "name": "stdout",
     "output_type": "stream",
     "text": [
      "writing to carbonplan-data/raw/MTBS/30m/2012.tif\n",
      "done with carbonplan-data/raw/MTBS/30m/2012.tif\n",
      "done with carbonplan-data/raw/MTBS/30m/2013.htm\n"
     ]
    },
    {
     "name": "stderr",
     "output_type": "stream",
     "text": [
      "Reading input: <_io.BytesIO object at 0x12024d4a0>\n",
      "Adding overviews...\n",
      "Updating dataset tags...\n",
      "Writing output to: /vsimem/39654f18-1cd7-4a2e-bb9d-816d1c24d177.\n"
     ]
    },
    {
     "name": "stdout",
     "output_type": "stream",
     "text": [
      "writing to carbonplan-data/raw/MTBS/30m/2013.tif\n",
      "done with carbonplan-data/raw/MTBS/30m/2013.tif\n",
      "done with carbonplan-data/raw/MTBS/30m/2014.htm\n"
     ]
    },
    {
     "name": "stderr",
     "output_type": "stream",
     "text": [
      "Reading input: <_io.BytesIO object at 0x12024d1d0>\n",
      "Adding overviews...\n",
      "Updating dataset tags...\n",
      "Writing output to: /vsimem/84a9851c-ac1f-4b9f-b908-36576042dd7a.\n"
     ]
    },
    {
     "name": "stdout",
     "output_type": "stream",
     "text": [
      "writing to carbonplan-data/raw/MTBS/30m/2014.tif\n",
      "done with carbonplan-data/raw/MTBS/30m/2014.tif\n"
     ]
    },
    {
     "name": "stderr",
     "output_type": "stream",
     "text": [
      "Reading input: <_io.BytesIO object at 0x12545a130>\n",
      "Adding overviews...\n",
      "Updating dataset tags...\n",
      "Writing output to: /vsimem/5df74f6e-731e-4ffd-8e38-e9c866153097.\n"
     ]
    },
    {
     "name": "stdout",
     "output_type": "stream",
     "text": [
      "writing to carbonplan-data/raw/MTBS/30m/2015.tif\n",
      "done with carbonplan-data/raw/MTBS/30m/2015.tif\n",
      "done with carbonplan-data/raw/MTBS/30m/2016.htm\n"
     ]
    },
    {
     "name": "stderr",
     "output_type": "stream",
     "text": [
      "Reading input: <_io.BytesIO object at 0x1202e54f0>\n",
      "Adding overviews...\n",
      "Updating dataset tags...\n",
      "Writing output to: /vsimem/c0268ba0-c2f3-4952-a1f4-fa2d373bf03f.\n"
     ]
    },
    {
     "name": "stdout",
     "output_type": "stream",
     "text": [
      "writing to carbonplan-data/raw/MTBS/30m/2016.tif\n",
      "done with carbonplan-data/raw/MTBS/30m/2016.tif\n",
      "done with carbonplan-data/raw/MTBS/30m/2017.htm\n"
     ]
    },
    {
     "name": "stderr",
     "output_type": "stream",
     "text": [
      "Reading input: <_io.BytesIO object at 0x12545a5e0>\n",
      "Adding overviews...\n",
      "Updating dataset tags...\n",
      "Writing output to: /vsimem/dea25a04-ba22-40c8-945d-3b12b0f702d6.\n"
     ]
    },
    {
     "name": "stdout",
     "output_type": "stream",
     "text": [
      "writing to carbonplan-data/raw/MTBS/30m/2017.tif\n",
      "done with carbonplan-data/raw/MTBS/30m/2017.tif\n"
     ]
    }
   ],
   "source": [
    "# iterate through the zip file, extracting individual years\n",
    "# write only files with `tif` or `htm` suffixes to the cloud bucket\n",
    "# Warning: this step takes a while to run, go get some coffee.\n",
    "root = zip.ZipFileSystem(raw_zips).get_mapper('composite_data')\n",
    "for key in root:\n",
    "    year = key.split('/')[1]\n",
    "    sub = io.BytesIO(root[key])\n",
    "    r2 = zip.ZipFileSystem(sub).get_mapper('')\n",
    "    \n",
    "    \n",
    "    for fname in r2:\n",
    "        if fname.endswith('tif'):\n",
    "            fo = io.BytesIO(r2[fname])\n",
    "            out_name = os.path.join(bucket, f'{year}.tif')\n",
    "            translate(fo, out_name)\n",
    "        elif fname.endswith('htm'):\n",
    "            out_name = os.path.join(bucket, f'{year}.htm')\n",
    "            with fs.open(out_name, 'wb') as f:\n",
    "                f.write(r2[fname])\n",
    "        else:\n",
    "            continue\n",
    "        print(f'done with {out_name}')"
   ]
  },
  {
   "cell_type": "code",
   "execution_count": null,
   "metadata": {},
   "outputs": [],
   "source": []
  }
 ],
 "metadata": {
  "kernelspec": {
   "display_name": "Python 3",
   "language": "python",
   "name": "python3"
  },
  "language_info": {
   "codemirror_mode": {
    "name": "ipython",
    "version": 3
   },
   "file_extension": ".py",
   "mimetype": "text/x-python",
   "name": "python",
   "nbconvert_exporter": "python",
   "pygments_lexer": "ipython3",
   "version": "3.8.2"
  }
 },
 "nbformat": 4,
 "nbformat_minor": 4
}
