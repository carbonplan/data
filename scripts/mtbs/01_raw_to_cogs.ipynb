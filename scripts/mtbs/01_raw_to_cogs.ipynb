{
 "cells": [
  {
   "cell_type": "markdown",
   "metadata": {},
   "source": [
    "<img width=\"50\" src=\"https://carbonplan-assets.s3.amazonaws.com/monogram/dark-small.png\" style=\"margin-left:0px;margin-top:20px\"/>\n",
    "\n",
    "# MTBS to Cloud Optimized GeoTIFF\n",
    "\n",
    "_by Joe Hamman (CarbonPlan), June 5, 2020_\n",
    "\n",
    "This notebook converts MTBS 30m yearly rasters to Cloud Optimized GeoTIFF and\n",
    "stages them in a Google Cloud Storage bucket.\n",
    "\n",
    "**Inputs:**\n",
    "\n",
    "- `DATA.zip` from MTBS website\n",
    "\n",
    "**Outputs:**\n",
    "\n",
    "- One COG per year: `gs://carbonplan-data/raw/MTBS/30m/<YEAR>/raster.tif`\n",
    "\n",
    "**Notes:**\n",
    "\n",
    "- No reprojection or processing of the data is done in this notebook.\n"
   ]
  },
  {
   "cell_type": "code",
   "execution_count": null,
   "metadata": {},
   "outputs": [],
   "source": [
    "import io\n",
    "import os.path\n",
    "\n",
    "import gcsfs\n",
    "from fsspec.implementations import zip\n",
    "from rasterio.io import MemoryFile\n",
    "from rio_cogeo.cogeo import cog_translate\n",
    "from rio_cogeo.profiles import cog_profiles\n",
    "\n",
    "# run `gcloud auth login` on the command line, or try switching token to `browser`\n",
    "fs = gcsfs.GCSFileSystem(\n",
    "    project=\"carbonplan\",\n",
    "    token=\"/Users/jhamman/.config/gcloud/legacy_credentials/joe@carbonplan.org/adc.json\",\n",
    ")"
   ]
  },
  {
   "cell_type": "markdown",
   "metadata": {},
   "source": [
    "The input for this script is a zip file called `DATA.zip`. This was downloaded\n",
    "from: https://www.mtbs.gov/direct-download Specifically, it came from:\n",
    "\n",
    "```\n",
    "  - [select] Burn Severity Mosaics\n",
    "    -> [select] Continental U.S.\n",
    "      -> [click] all years\n",
    "        -> [click] Download 34 Files\n",
    "```\n",
    "\n",
    "This file does not need to be un-zipped for the rest of the script to run.\n"
   ]
  },
  {
   "cell_type": "code",
   "execution_count": null,
   "metadata": {},
   "outputs": [],
   "source": [
    "# raw zip file\n",
    "raw_zips = \"~/Downloads/DATA.zip\"\n",
    "\n",
    "# This is where we'll write the COGs when we're done\n",
    "bucket = \"carbonplan-data/raw/MTBS/30m/\"\n",
    "\n",
    "# This is the COG profile:\n",
    "dst_profile = cog_profiles.get(\"deflate\")"
   ]
  },
  {
   "cell_type": "code",
   "execution_count": null,
   "metadata": {},
   "outputs": [],
   "source": [
    "def translate(fo, out_file):\n",
    "    \"\"\"translate a file object (`fo`) to cloud optimized geotiff\n",
    "\n",
    "    the resulting COG is written to the filesystem (`fs`) defined above.\n",
    "    \"\"\"\n",
    "    dst_profile = cog_profiles.get(\"deflate\")\n",
    "    with MemoryFile() as mem_dst:\n",
    "        # Important, we pass `mem_dst.name` as output dataset path\n",
    "        cog_translate(fo, mem_dst.name, dst_profile, in_memory=True)\n",
    "        print(f\"writing to {out_file}\")\n",
    "        with fs.open(out_file, \"wb\") as f:\n",
    "            f.write(mem_dst.read())"
   ]
  },
  {
   "cell_type": "code",
   "execution_count": null,
   "metadata": {},
   "outputs": [],
   "source": [
    "# iterate through the zip file, extracting individual years\n",
    "# write only files with `tif` or `htm` suffixes to the cloud bucket\n",
    "# Warning: this step takes a while to run, go get some coffee.\n",
    "root = zip.ZipFileSystem(raw_zips).get_mapper(\"composite_data\")\n",
    "for key in root:\n",
    "    year = key.split(\"/\")[1]\n",
    "    sub = io.BytesIO(root[key])\n",
    "    r2 = zip.ZipFileSystem(sub).get_mapper(\"\")\n",
    "\n",
    "    for fname in r2:\n",
    "        if fname.endswith(\"tif\"):\n",
    "            fo = io.BytesIO(r2[fname])\n",
    "            out_name = os.path.join(bucket, f\"{year}.tif\")\n",
    "            translate(fo, out_name)\n",
    "        elif fname.endswith(\"htm\"):\n",
    "            out_name = os.path.join(bucket, f\"{year}.htm\")\n",
    "            with fs.open(out_name, \"wb\") as f:\n",
    "                f.write(r2[fname])\n",
    "        else:\n",
    "            continue\n",
    "        print(f\"done with {out_name}\")"
   ]
  }
 ],
 "metadata": {
  "kernelspec": {
   "display_name": "Python 3",
   "language": "python",
   "name": "python3"
  },
  "language_info": {
   "codemirror_mode": {
    "name": "ipython",
    "version": 3
   },
   "file_extension": ".py",
   "mimetype": "text/x-python",
   "name": "python",
   "nbconvert_exporter": "python",
   "pygments_lexer": "ipython3",
   "version": "3.8.2"
  }
 },
 "nbformat": 4,
 "nbformat_minor": 4
}
