{
 "cells": [
  {
   "cell_type": "markdown",
   "id": "0",
   "metadata": {},
   "source": [
    "- https://www.worldclim.org/data/worldclim21.html\n",
    "- Citation:\n",
    "\n",
    "  Fick, S.E. and R.J. Hijmans, 2017. WorldClim 2: new 1km spatial resolution\n",
    "  climate surfaces for global land areas. International Journal of Climatology\n",
    "  37 (12): 4302-4315.\n"
   ]
  },
  {
   "cell_type": "code",
   "execution_count": null,
   "id": "1",
   "metadata": {},
   "outputs": [],
   "source": [
    "import xarray as xr\n",
    "\n",
    "import fsspec"
   ]
  },
  {
   "cell_type": "code",
   "execution_count": null,
   "id": "2",
   "metadata": {},
   "outputs": [],
   "source": [
    "month_vars = [\"prec\", \"srad\", \"tavg\", \"tmax\", \"tmin\", \"vapr\", \"wind\"]\n",
    "\n",
    "months = xr.Variable(\"month\", list(range(1, 13)))\n",
    "\n",
    "ds = xr.Dataset()\n",
    "\n",
    "for var in month_vars:\n",
    "    ds[var] = xr.concat(\n",
    "        [\n",
    "            xr.open_rasterio(\n",
    "                f\"gs://carbonplan-scratch/worldclim-raw/wc2.1_30s_{var}/wc2.1_30s_{var}_{m:02d}.tif\",\n",
    "                chunks={\"x\": 8192, \"y\": 8192},\n",
    "            ).squeeze(drop=True)\n",
    "            for m in months.values\n",
    "        ],\n",
    "        dim=months,\n",
    "        compat=\"override\",\n",
    "        coords=\"minimal\",\n",
    "    )"
   ]
  },
  {
   "cell_type": "code",
   "execution_count": null,
   "id": "3",
   "metadata": {},
   "outputs": [],
   "source": [
    "ds"
   ]
  },
  {
   "cell_type": "code",
   "execution_count": null,
   "id": "4",
   "metadata": {},
   "outputs": [],
   "source": [
    "ds[\"elev\"] = xr.open_rasterio(\n",
    "    f\"gs://carbonplan-scratch/worldclim-raw/wc2.1_30s_elev.tif\",\n",
    "    chunks={\"x\": 8192, \"y\": 8192},\n",
    ").squeeze(drop=True)"
   ]
  },
  {
   "cell_type": "code",
   "execution_count": null,
   "id": "5",
   "metadata": {},
   "outputs": [],
   "source": [
    "bio_names = {\n",
    "    \"BIO1\": \"Annual Mean Temperature\",\n",
    "    \"BIO2\": \"Mean Diurnal Range (Mean of monthly (max temp - min temp))\",\n",
    "    \"BIO3\": \"Isothermality (BIO2/BIO7) (×100)\",\n",
    "    \"BIO4\": \"Temperature Seasonality (standard deviation ×100)\",\n",
    "    \"BIO5\": \"Max Temperature of Warmest Month\",\n",
    "    \"BIO6\": \"Min Temperature of Coldest Month\",\n",
    "    \"BIO7\": \"Temperature Annual Range (BIO5-BIO6)\",\n",
    "    \"BIO8\": \"Mean Temperature of Wettest Quarter\",\n",
    "    \"BIO9\": \"Mean Temperature of Driest Quarter\",\n",
    "    \"BIO10\": \"Mean Temperature of Warmest Quarter\",\n",
    "    \"BIO11\": \"Mean Temperature of Coldest Quarter\",\n",
    "    \"BIO12\": \"Annual Precipitation\",\n",
    "    \"BIO13\": \"Precipitation of Wettest Month\",\n",
    "    \"BIO14\": \"Precipitation of Driest Month\",\n",
    "    \"BIO15\": \"Precipitation Seasonality (Coefficient of Variation)\",\n",
    "    \"BIO16\": \"Precipitation of Wettest Quarter\",\n",
    "    \"BIO17\": \"Precipitation of Driest Quarter\",\n",
    "    \"BIO18\": \"Precipitation of Warmest Quarter\",\n",
    "    \"BIO19\": \"Precipitation of Coldest Quarter\",\n",
    "}\n",
    "\n",
    "\n",
    "for bionum in range(1, 20):\n",
    "    ds[f\"BIO{bionum:02d}\"] = xr.open_rasterio(\n",
    "        f\"gs://carbonplan-scratch/worldclim-raw/wc2.1_30s_bio/wc2.1_30s_bio_{bionum}.tif\",\n",
    "        chunks={\"x\": 8192, \"y\": 8192},\n",
    "    ).squeeze(drop=True)\n",
    "    ds[f\"BIO{bionum:02d}\"].attrs[\"description\"] = bio_names[f\"BIO{bionum:d}\"]"
   ]
  },
  {
   "cell_type": "code",
   "execution_count": null,
   "id": "6",
   "metadata": {},
   "outputs": [],
   "source": [
    "mapper = fsspec.get_mapper(\"gs://carbonplan-data/raw/worldclim/30s/raster.zarr\")\n",
    "\n",
    "ds.to_zarr(mapper, consolidated=True)"
   ]
  }
 ],
 "metadata": {
  "kernelspec": {
   "display_name": "Python [conda env:notebook] *",
   "language": "python",
   "name": "conda-env-notebook-py"
  },
  "language_info": {
   "codemirror_mode": {
    "name": "ipython",
    "version": 3
   },
   "file_extension": ".py",
   "mimetype": "text/x-python",
   "name": "python",
   "nbconvert_exporter": "python",
   "pygments_lexer": "ipython3",
   "version": "3.8.8"
  }
 },
 "nbformat": 4,
 "nbformat_minor": 5
}
