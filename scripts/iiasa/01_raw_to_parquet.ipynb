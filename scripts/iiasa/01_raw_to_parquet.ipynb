{
 "cells": [
  {
   "cell_type": "markdown",
   "metadata": {},
   "source": [
    "<img width=\"50\" src=\"https://carbonplan-assets.s3.amazonaws.com/monogram/dark-small.png\" style=\"margin-left:0px;margin-top:20px\"/>\n",
    "\n",
    "# IIASA to Parquet\n",
    "\n",
    "_by Joe Hamman (CarbonPlan), July 1, 2020_\n",
    "\n",
    "This notebook converts IIASA CSV and DAT files to Parquet format and stages them\n",
    "in a Google Cloud Storage bucket.\n",
    "\n",
    "**Inputs:**\n",
    "\n",
    "- various data files downloaded from IIASA website (manual process).\n",
    "\n",
    "**Outputs:**\n",
    "\n",
    "- One Parquet dataset per local data file:\n",
    "  `gs://carbonplan-data-restricted/raw/iiasa/<name>.parquet`\n",
    "\n",
    "**Notes:**\n",
    "\n",
    "- No reprojection or processing of the data is done in this notebook.\n"
   ]
  },
  {
   "cell_type": "code",
   "execution_count": null,
   "metadata": {},
   "outputs": [],
   "source": [
    "import io\n",
    "import os.path\n",
    "import pathlib\n",
    "\n",
    "import gcsfs\n",
    "import pandas as pd\n",
    "\n",
    "# run `gcloud auth login` on the command line, or try switching token to `browser`\n",
    "fs = gcsfs.GCSFileSystem(\n",
    "    project=\"carbonplan\",\n",
    "    token=\"/Users/jhamman/.config/gcloud/legacy_credentials/joe@carbonplan.org/adc.json\",\n",
    ")"
   ]
  },
  {
   "cell_type": "code",
   "execution_count": null,
   "metadata": {},
   "outputs": [],
   "source": [
    "source_dir = pathlib.Path(\"../../carbonplan_data/iiasa/SSP_CMIP6_201811.csv/\")\n",
    "blob_prefix = \"carbonplan-data-restricted/raw/iiasa/SSP_CMIP6_201811\"\n",
    "csvs = source_dir.glob(\"*csv\")\n",
    "\n",
    "for csv in csvs:\n",
    "    blob = f\"{blob_prefix}/{csv.stem.lower()}.parquet\"\n",
    "    print(blob)\n",
    "\n",
    "    df = pd.read_csv(csv)\n",
    "    df.to_parquet(\n",
    "        blob, compression=\"gzip\", open_with=fs.open, engine=\"fastparquet\"\n",
    "    )"
   ]
  },
  {
   "cell_type": "code",
   "execution_count": null,
   "metadata": {},
   "outputs": [],
   "source": [
    "source_dir = pathlib.Path(\"../../carbonplan_data/iiasa/SSP_IAM_V2_201811.csv/\")\n",
    "blob_prefix = \"carbonplan-data-restricted/raw/iiasa/SSP_IAM_V2_201811\"\n",
    "csvs = source_dir.glob(\"*csv\")\n",
    "\n",
    "for csv in csvs:\n",
    "    blob = f\"{blob_prefix}/{csv.stem.lower()}.parquet\"\n",
    "    print(blob)\n",
    "\n",
    "    df = pd.read_csv(csv)\n",
    "    df.to_parquet(\n",
    "        blob, compression=\"gzip\", open_with=fs.open, engine=\"fastparquet\"\n",
    "    )"
   ]
  },
  {
   "cell_type": "code",
   "execution_count": null,
   "metadata": {},
   "outputs": [],
   "source": [
    "source = \"../../carbonplan_data/iiasa/SspDb_compare_regions_2013-06-12.csv\"\n",
    "blob = \"carbonplan-data-restricted/raw/iiasa/SspDb_compare_regions_2013-06-12.parquet\"\n",
    "df = pd.read_csv(source)\n",
    "df.to_parquet(blob, compression=\"gzip\", open_with=fs.open, engine=\"fastparquet\")"
   ]
  },
  {
   "cell_type": "code",
   "execution_count": null,
   "metadata": {},
   "outputs": [],
   "source": [
    "source = \"../../carbonplan_data/iiasa/SspDb_country_data_2013-06-12.csv\"\n",
    "blob = (\n",
    "    \"carbonplan-data-restricted/raw/iiasa/SspDb_country_data_2013-06-12.parquet\"\n",
    ")\n",
    "df = pd.read_csv(source)\n",
    "df.to_parquet(blob, compression=\"gzip\", open_with=fs.open, engine=\"fastparquet\")"
   ]
  },
  {
   "cell_type": "code",
   "execution_count": null,
   "metadata": {},
   "outputs": [],
   "source": [
    "# TODO:\n",
    "\n",
    "- write parser for RCP DAT files."
   ]
  }
 ],
 "metadata": {
  "kernelspec": {
   "display_name": "Python 3",
   "language": "python",
   "name": "python3"
  },
  "language_info": {
   "codemirror_mode": {
    "name": "ipython",
    "version": 3
   },
   "file_extension": ".py",
   "mimetype": "text/x-python",
   "name": "python",
   "nbconvert_exporter": "python",
   "pygments_lexer": "ipython3",
   "version": "3.8.2"
  }
 },
 "nbformat": 4,
 "nbformat_minor": 4
}
