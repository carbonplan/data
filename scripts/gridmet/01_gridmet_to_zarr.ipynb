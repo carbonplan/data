{
 "cells": [
  {
   "cell_type": "markdown",
   "metadata": {},
   "source": [
    "<img width=\"50\" src=\"https://carbonplan-assets.s3.amazonaws.com/monogram/dark-small.png\" style=\"margin-left:0px;margin-top:20px\"/>\n",
    "\n",
    "# gridMET to Zarr\n",
    "\n",
    "_by Joe Hamman (CarbonPlan), June 29, 2020_\n",
    "\n",
    "This notebook converts the raw gridMET dataset to Zarr format.\n",
    "\n",
    "**Inputs:**\n",
    "\n",
    "- inake catalog: `climate.gridmet_opendap`\n",
    "\n",
    "**Outputs:**\n",
    "\n",
    "- Cloud copy of gridMET\n",
    "\n",
    "**Notes:**\n",
    "\n",
    "- No reprojection or processing of the data is done in this notebook.\n"
   ]
  },
  {
   "cell_type": "code",
   "execution_count": null,
   "metadata": {},
   "outputs": [],
   "source": [
    "import gcsfs\n",
    "import intake\n",
    "import xarray as xr\n",
    "import zarr\n",
    "from numcodecs.zlib import Zlib\n",
    "\n",
    "fs = gcsfs.GCSFileSystem(\n",
    "    project=\"carbonplan\",\n",
    "    token=\"/Users/jhamman/.config/gcloud/legacy_credentials/joe@carbonplan.org/adc.json\",\n",
    ")"
   ]
  },
  {
   "cell_type": "code",
   "execution_count": null,
   "metadata": {},
   "outputs": [],
   "source": [
    "years = list(range(1979, 2021))\n",
    "variables = [\n",
    "    \"pr\",\n",
    "    \"tmmn\",\n",
    "    \"tmmx\",\n",
    "    \"rmax\",\n",
    "    \"rmin\",\n",
    "    \"sph\",\n",
    "    \"srad\",\n",
    "    \"th\",\n",
    "    \"vs\",\n",
    "    \"bi\",\n",
    "    \"fm100\",\n",
    "    \"fm1000\",\n",
    "    \"erc\",\n",
    "    \"pdsi\",\n",
    "    \"etr\",\n",
    "    \"pet\",\n",
    "    \"vpd\",\n",
    "]"
   ]
  },
  {
   "cell_type": "code",
   "execution_count": null,
   "metadata": {},
   "outputs": [],
   "source": [
    "source_pattern = (\n",
    "    \"https://www.northwestknowledge.net/metdata/data/{var}_{year}.nc\"\n",
    ")"
   ]
  },
  {
   "cell_type": "code",
   "execution_count": null,
   "metadata": {
    "collapsed": true,
    "jupyter": {
     "outputs_hidden": true
    }
   },
   "outputs": [],
   "source": [
    "ds_list = []\n",
    "for v in variables:\n",
    "    print(v)\n",
    "    ds_list.append(\n",
    "        xr.concat(\n",
    "            [source(variable=v, year=y).to_dask() for y in years], dim=\"day\"\n",
    "        )\n",
    "    )"
   ]
  },
  {
   "cell_type": "code",
   "execution_count": null,
   "metadata": {},
   "outputs": [],
   "source": [
    "ds = xr.merge(ds_list, compat=\"override\")\n",
    "ds[\"crs\"] = ds_list[0][\"crs\"]\n",
    "ds"
   ]
  },
  {
   "cell_type": "code",
   "execution_count": null,
   "metadata": {},
   "outputs": [],
   "source": [
    "ds.nbytes / 1e9"
   ]
  },
  {
   "cell_type": "code",
   "execution_count": null,
   "metadata": {},
   "outputs": [],
   "source": [
    "mapper = fs.get_mapper(\"carbonplan-data/raw/gridmet/4km/raster.zarr\")"
   ]
  },
  {
   "cell_type": "code",
   "execution_count": null,
   "metadata": {},
   "outputs": [],
   "source": [
    "ds = ds.chunk({\"day\": 1000, \"lat\": 256, \"lon\": 256})\n",
    "ds"
   ]
  },
  {
   "cell_type": "code",
   "execution_count": null,
   "metadata": {},
   "outputs": [],
   "source": [
    "encoding = {v: {\"compressor\": Zlib(4)} for v in ds.variables}\n",
    "encoding"
   ]
  },
  {
   "cell_type": "code",
   "execution_count": null,
   "metadata": {},
   "outputs": [],
   "source": [
    "future = ds.to_zarr(mapper, mode=\"w\", encoding=encoding, compute=False)"
   ]
  },
  {
   "cell_type": "code",
   "execution_count": null,
   "metadata": {},
   "outputs": [],
   "source": [
    "from dask.diagnostics import ProgressBar\n",
    "\n",
    "with ProgressBar():\n",
    "    future.compute(scheduler=\"threading\")"
   ]
  }
 ],
 "metadata": {
  "kernelspec": {
   "display_name": "Python 3",
   "language": "python",
   "name": "python3"
  },
  "language_info": {
   "codemirror_mode": {
    "name": "ipython",
    "version": 3
   },
   "file_extension": ".py",
   "mimetype": "text/x-python",
   "name": "python",
   "nbconvert_exporter": "python",
   "pygments_lexer": "ipython3",
   "version": "3.8.2"
  }
 },
 "nbformat": 4,
 "nbformat_minor": 4
}
