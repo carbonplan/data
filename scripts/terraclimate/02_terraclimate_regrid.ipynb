{
 "cells": [
  {
   "cell_type": "markdown",
   "metadata": {},
   "source": [
    "<img width=\"50\" src=\"https://carbonplan-assets.s3.amazonaws.com/monogram/dark-small.png\" style=\"margin-left:0px;margin-top:20px\"/>\n",
    "\n",
    "# Regridding TERRACLIMATE with xesmf\n",
    "\n",
    "_by Joe Hamman (CarbonPlan), June 29, 2020_\n",
    "\n",
    "This notebook converts the raw TERAACLIMATE dataset to Zarr format.\n",
    "\n",
    "**Inputs:**\n",
    "\n",
    "**Outputs:**\n",
    "\n",
    "- Cloud copy of TERRACLIMATE\n",
    "\n",
    "**Notes:**\n",
    "\n",
    "- No reprojection or processing of the data is done in this notebook.\n"
   ]
  },
  {
   "cell_type": "code",
   "execution_count": null,
   "metadata": {},
   "outputs": [],
   "source": [
    "pip install -U xarray==0.16.0 --no-deps"
   ]
  },
  {
   "cell_type": "code",
   "execution_count": null,
   "metadata": {},
   "outputs": [],
   "source": [
    "import fsspec\n",
    "import xarray as xr\n",
    "import xesmf as xe\n",
    "import numpy as np\n",
    "\n",
    "from dask.diagnostics import ProgressBar"
   ]
  },
  {
   "cell_type": "code",
   "execution_count": null,
   "metadata": {},
   "outputs": [],
   "source": [
    "variables = {\n",
    "    #     'conservative': [\n",
    "    #         \"aet\",\n",
    "    #         \"def\",\n",
    "    #         \"pet\",\n",
    "    #         \"ppt\",\n",
    "    #         \"q\",\n",
    "    #         \"srad\",\n",
    "    #     ],\n",
    "    \"bilinear\": [\n",
    "        \"tmax\",\n",
    "        \"tmin\",\n",
    "        \"pdsi\",\n",
    "        \"vap\",\n",
    "        \"vpd\",\n",
    "        \"ws\",\n",
    "        \"soil\",\n",
    "        \"swe\",\n",
    "        # move to conservative after scrable is fixed\n",
    "        \"aet\",\n",
    "        \"def\",\n",
    "        \"pet\",\n",
    "        \"ppt\",\n",
    "        \"q\",\n",
    "        \"srad\",\n",
    "        \"awc\",\n",
    "        \"elevation\",\n",
    "    ]\n",
    "}"
   ]
  },
  {
   "cell_type": "code",
   "execution_count": null,
   "metadata": {},
   "outputs": [],
   "source": [
    "# options\n",
    "name = \"terraclimate\"\n",
    "raw_location = f\"gs://carbonplan-data/raw/terraclimate/4000m/raster.zarr\"\n",
    "target_grid = \"gs://carbonplan-data/processed/grids/conus/4000m/domain.zarr\"\n",
    "# getting weird errors when writing to carbonplan-data\n",
    "target_location = (\n",
    "    f\"gs://carbonplan-data/processed/{name}/conus/4000m/raster.zarr\"\n",
    ")"
   ]
  },
  {
   "cell_type": "code",
   "execution_count": null,
   "metadata": {},
   "outputs": [],
   "source": [
    "mapper = fsspec.get_mapper(target_grid)\n",
    "target_ds = xr.open_zarr(\n",
    "    mapper, consolidated=True\n",
    ")  # .rename({'xc': 'lon', 'yc': 'lat'})\n",
    "target_ds"
   ]
  },
  {
   "cell_type": "code",
   "execution_count": null,
   "metadata": {},
   "outputs": [],
   "source": [
    "mapper = fsspec.get_mapper(raw_location)\n",
    "ds = xr.open_zarr(mapper, consolidated=True)\n",
    "ds"
   ]
  },
  {
   "cell_type": "code",
   "execution_count": null,
   "metadata": {},
   "outputs": [],
   "source": [
    "step = 360 / 8640 + 1e-9\n",
    "global_grid = xe.util.grid_global(step, step)\n",
    "global_grid = global_grid.isel(y=slice(None, None, -1)).isel(\n",
    "    y_b=slice(None, None, -1)\n",
    ")\n",
    "global_grid[\"lat_b\"].values = np.clip(global_grid[\"lat_b\"].values, -90, 90)\n",
    "display(global_grid)\n",
    "\n",
    "# check that this grid is a drop in replacement for the source grid\n",
    "assert np.abs(global_grid.lat.isel(x=0).values - ds.lat.values).max() < 1e-5\n",
    "assert np.abs(global_grid.lon.isel(y=0).values - ds.lon.values).max() < 1e-5\n",
    "assert np.abs(global_grid.lat).max().item() <= 90\n",
    "assert np.abs(global_grid.lat_b).max().item() <= 90\n",
    "\n",
    "# rename grid variables\n",
    "source_ds = ds.rename({\"lon\": \"x\", \"lat\": \"y\"}).assign_coords(\n",
    "    coords=global_grid.coords\n",
    ")"
   ]
  },
  {
   "cell_type": "code",
   "execution_count": null,
   "metadata": {},
   "outputs": [],
   "source": [
    "regridders = {}\n",
    "\n",
    "for method in variables:\n",
    "    regridders[method] = xe.Regridder(\n",
    "        source_ds, target_ds, method, reuse_weights=True\n",
    "    )"
   ]
  },
  {
   "cell_type": "code",
   "execution_count": null,
   "metadata": {},
   "outputs": [],
   "source": [
    "temp = []\n",
    "for method, var_list in variables.items():\n",
    "    regridder = regridders[method]\n",
    "    temp.append(regridder(ds[var_list].chunk({\"lat\": -1, \"lon\": -1})))\n",
    "\n",
    "ds_out = xr.merge(temp, compat=\"override\")"
   ]
  },
  {
   "cell_type": "code",
   "execution_count": null,
   "metadata": {},
   "outputs": [],
   "source": [
    "ds_out"
   ]
  },
  {
   "cell_type": "code",
   "execution_count": null,
   "metadata": {},
   "outputs": [],
   "source": [
    "# fs = fsspec.get_filesystem_class('gs')()\n",
    "# fs.rm(target_location, recursive=True)"
   ]
  },
  {
   "cell_type": "code",
   "execution_count": null,
   "metadata": {},
   "outputs": [],
   "source": [
    "import dask\n",
    "from multiprocessing.pool import ThreadPool\n",
    "\n",
    "with dask.config.set(scheduler=\"threads\", pool=ThreadPool(3)):\n",
    "    with ProgressBar():\n",
    "        mapper2 = fsspec.get_mapper(target_location)\n",
    "        ds_out.to_zarr(mapper2, mode=\"w\", consolidated=True)"
   ]
  },
  {
   "cell_type": "code",
   "execution_count": null,
   "metadata": {},
   "outputs": [],
   "source": [
    "mapper2 = fsspec.get_mapper(target_location)\n",
    "import zarr\n",
    "\n",
    "zarr.consolidate_metadata(mapper2)"
   ]
  }
 ],
 "metadata": {
  "kernelspec": {
   "display_name": "Python 3",
   "language": "python",
   "name": "python3"
  },
  "language_info": {
   "codemirror_mode": {
    "name": "ipython",
    "version": 3
   },
   "file_extension": ".py",
   "mimetype": "text/x-python",
   "name": "python",
   "nbconvert_exporter": "python",
   "pygments_lexer": "ipython3",
   "version": "3.8.6"
  }
 },
 "nbformat": 4,
 "nbformat_minor": 4
}
