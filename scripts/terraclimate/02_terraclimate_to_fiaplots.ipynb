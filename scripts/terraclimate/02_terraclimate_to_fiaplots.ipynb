{
 "cells": [
  {
   "cell_type": "code",
   "execution_count": null,
   "metadata": {},
   "outputs": [],
   "source": [
    "import xarray as xr\n",
    "import pandas as pd\n",
    "import fsspec\n",
    "import dask\n",
    "\n",
    "dask.config.set({\"distributed.logging.distributed\": \"critical\"})"
   ]
  },
  {
   "cell_type": "code",
   "execution_count": null,
   "metadata": {},
   "outputs": [],
   "source": [
    "# from dask.distributed import Client\n",
    "# setup a local dask cluster\n",
    "# client = Client()\n",
    "# client\n",
    "\n",
    "from dask_gateway import Gateway\n",
    "\n",
    "gateway = Gateway()\n",
    "options = gateway.cluster_options()\n",
    "options.worker_cores = 4\n",
    "options.worker_memory = 16\n",
    "cluster = gateway.new_cluster(cluster_options=options)\n",
    "cluster.adapt(minimum=1, maximum=40)\n",
    "cluster"
   ]
  },
  {
   "cell_type": "code",
   "execution_count": null,
   "metadata": {},
   "outputs": [],
   "source": [
    "client = cluster.get_client()\n",
    "client"
   ]
  },
  {
   "cell_type": "code",
   "execution_count": null,
   "metadata": {},
   "outputs": [],
   "source": [
    "bucket = \"gs://carbonplan-data/raw/terraclimate/4000m/raster.zarr\"\n",
    "mapper = fsspec.get_mapper(bucket)"
   ]
  },
  {
   "cell_type": "code",
   "execution_count": null,
   "metadata": {},
   "outputs": [],
   "source": [
    "%%time\n",
    "ds = xr.open_zarr(mapper, consolidated=True)"
   ]
  },
  {
   "cell_type": "code",
   "execution_count": null,
   "metadata": {},
   "outputs": [],
   "source": [
    "ds"
   ]
  },
  {
   "cell_type": "code",
   "execution_count": null,
   "metadata": {},
   "outputs": [],
   "source": [
    "ds.dims"
   ]
  },
  {
   "cell_type": "code",
   "execution_count": null,
   "metadata": {},
   "outputs": [],
   "source": [
    "null_count = ds.isnull().mean(\"time\")\n",
    "null_count = null_count.where(null_count != 1)"
   ]
  },
  {
   "cell_type": "code",
   "execution_count": null,
   "metadata": {},
   "outputs": [],
   "source": [
    "pdsi = null_count.pdsi.load()\n",
    "\n",
    "# [::50, ::50].plot()"
   ]
  },
  {
   "cell_type": "code",
   "execution_count": null,
   "metadata": {},
   "outputs": [],
   "source": [
    "pdsi.coarsen(lat=2, lon=2).mean().plot(robust=True)\n",
    "# pdsi"
   ]
  },
  {
   "cell_type": "code",
   "execution_count": null,
   "metadata": {},
   "outputs": [],
   "source": [
    "df = pd.read_csv(\"FIA_forBill_DroughtRiskV1_08182020.csv\")  # .iloc[0:10000]\n",
    "df.head()"
   ]
  },
  {
   "cell_type": "code",
   "execution_count": null,
   "metadata": {},
   "outputs": [],
   "source": [
    "import math\n",
    "\n",
    "n = 5\n",
    "\n",
    "size = math.ceil(len(df) / n)\n",
    "assert len(df) <= size * n\n",
    "print(size)"
   ]
  },
  {
   "cell_type": "code",
   "execution_count": null,
   "metadata": {},
   "outputs": [],
   "source": [
    "index_ds = df[[\"lat\", \"lon\"]].to_xarray()\n",
    "index_ds"
   ]
  },
  {
   "cell_type": "code",
   "execution_count": null,
   "metadata": {},
   "outputs": [],
   "source": [
    "# %%time\n",
    "# ds_cond = ds.sel(lat=index_ds['lat'], lon=index_ds['lon'], method='nearest')\n",
    "# ds_cond"
   ]
  },
  {
   "cell_type": "code",
   "execution_count": null,
   "metadata": {},
   "outputs": [],
   "source": [
    "from tqdm import tqdm"
   ]
  },
  {
   "cell_type": "code",
   "execution_count": null,
   "metadata": {},
   "outputs": [],
   "source": [
    "ds_list = []\n",
    "for k, ids in tqdm(index_ds.groupby(index_ds.index // size)):\n",
    "    ds_list.append(ds.sel(lat=ids[\"lat\"], lon=ids[\"lon\"], method=\"nearest\"))"
   ]
  },
  {
   "cell_type": "code",
   "execution_count": null,
   "metadata": {},
   "outputs": [],
   "source": [
    "# ds_list[:2]"
   ]
  },
  {
   "cell_type": "code",
   "execution_count": null,
   "metadata": {},
   "outputs": [],
   "source": [
    "sum(d.nbytes for d in ds_list) / 1e9"
   ]
  },
  {
   "cell_type": "code",
   "execution_count": null,
   "metadata": {},
   "outputs": [],
   "source": [
    "parts = []\n",
    "for d in tqdm(ds_list):\n",
    "    part = d.compute()\n",
    "    parts.append(part)"
   ]
  },
  {
   "cell_type": "code",
   "execution_count": null,
   "metadata": {},
   "outputs": [],
   "source": [
    "ds_cond = xr.concat(parts, dim=\"index\")\n",
    "# ds_cond = ds_cond.chunk({'index': 40000, 'time': 240})"
   ]
  },
  {
   "cell_type": "code",
   "execution_count": null,
   "metadata": {},
   "outputs": [],
   "source": [
    "ds_cond.PDSI.isnull().sum(\"index\").plot()"
   ]
  },
  {
   "cell_type": "code",
   "execution_count": null,
   "metadata": {},
   "outputs": [],
   "source": [
    "ds_cond = xr.concat(parts, dim=\"index\")\n",
    "ds_cond = ds_cond.chunk({\"index\": 40000, \"time\": 240})"
   ]
  },
  {
   "cell_type": "code",
   "execution_count": null,
   "metadata": {},
   "outputs": [],
   "source": [
    "from dask.distributed import Client\n",
    "\n",
    "client = Client()\n",
    "client"
   ]
  },
  {
   "cell_type": "code",
   "execution_count": null,
   "metadata": {},
   "outputs": [],
   "source": [
    "bucket = \"gs://carbonplan-scratch/terraclimate-fia-cond.zarr\"\n",
    "mapper2 = fsspec.get_mapper(bucket)\n",
    "\n",
    "ds_cond.to_zarr(mapper2, mode=\"w\")"
   ]
  },
  {
   "cell_type": "code",
   "execution_count": null,
   "metadata": {},
   "outputs": [],
   "source": [
    "# bucket = \"gs://carbonplan-scratch/terraclimate-fia-cond.zarr\"\n",
    "# mapper2 = fsspec.get_mapper(bucket)\n",
    "\n",
    "# ds_cond = xr.open_zarr(mapper2)"
   ]
  },
  {
   "cell_type": "code",
   "execution_count": null,
   "metadata": {},
   "outputs": [],
   "source": [
    "# ds_cond_ann = ds_cond.resample(time='AS').mean()\n",
    "# ds_cond_ann"
   ]
  },
  {
   "cell_type": "code",
   "execution_count": null,
   "metadata": {},
   "outputs": [],
   "source": [
    "def weighted_mean(ds, *args, **kwargs):\n",
    "    weights = ds.time.dt.days_in_month\n",
    "    return ds.weighted(weights).mean(dim=\"time\")\n",
    "\n",
    "\n",
    "ds_cond_ann = ds_cond.resample(time=\"AS\").map(weighted_mean, dim=\"time\")"
   ]
  },
  {
   "cell_type": "code",
   "execution_count": null,
   "metadata": {},
   "outputs": [],
   "source": [
    "ds_cond_ann = ds_cond_ann.chunk({\"index\": -1, \"time\": -1})\n",
    "ds_cond_ann[\"lon\"] = ds_cond_ann[\"lon\"].load()\n",
    "ds_cond_ann[\"lat\"] = ds_cond_ann[\"lat\"].load()\n",
    "ds_cond_ann"
   ]
  },
  {
   "cell_type": "code",
   "execution_count": null,
   "metadata": {},
   "outputs": [],
   "source": [
    "# from zarr.storage import ZipStore\n",
    "\n",
    "# store = ZipStore('terraclimate-fia-cond-ann.zarr.zip', mode='w')"
   ]
  },
  {
   "cell_type": "code",
   "execution_count": null,
   "metadata": {},
   "outputs": [],
   "source": [
    "encoding = {k: {} for k in ds_cond_ann.data_vars}\n",
    "encoding"
   ]
  },
  {
   "cell_type": "code",
   "execution_count": null,
   "metadata": {},
   "outputs": [],
   "source": [
    "bucket = \"gs://carbonplan-scratch/terraclimate-fia-cond-ann-3.zarr\"\n",
    "mapper3 = fsspec.get_mapper(bucket, create=True)\n",
    "\n",
    "from dask.diagnostics import ProgressBar\n",
    "\n",
    "with ProgressBar():\n",
    "    ds_cond_ann.to_zarr(mapper3, mode=\"w\", consolidated=True, encoding=encoding)"
   ]
  },
  {
   "cell_type": "code",
   "execution_count": null,
   "metadata": {},
   "outputs": [],
   "source": [
    "da = ds_cond_ann.PDSI.load()"
   ]
  },
  {
   "cell_type": "code",
   "execution_count": null,
   "metadata": {},
   "outputs": [],
   "source": [
    "da.isel(index=slice(20000))"
   ]
  },
  {
   "cell_type": "code",
   "execution_count": null,
   "metadata": {},
   "outputs": [],
   "source": [
    "da.isnull().sum(\"index\").plot()"
   ]
  }
 ],
 "metadata": {
  "kernelspec": {
   "display_name": "Python 3",
   "language": "python",
   "name": "python3"
  },
  "language_info": {
   "codemirror_mode": {
    "name": "ipython",
    "version": 3
   },
   "file_extension": ".py",
   "mimetype": "text/x-python",
   "name": "python",
   "nbconvert_exporter": "python",
   "pygments_lexer": "ipython3",
   "version": "3.8.6"
  }
 },
 "nbformat": 4,
 "nbformat_minor": 4
}
