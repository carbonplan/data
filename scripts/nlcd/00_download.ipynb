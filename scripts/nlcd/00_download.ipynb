{
 "cells": [
  {
   "cell_type": "markdown",
   "metadata": {},
   "source": [
    "<img width=\"50\" src=\"https://carbonplan-assets.s3.amazonaws.com/monogram/dark-small.png\" style=\"margin-left:0px;margin-top:20px\"/>\n",
    "\n",
    "# Download NLCD\n",
    "\n",
    "_by Joe Hamman (CarbonPlan), June 29, 2020_\n",
    "\n",
    "This notebook downloads local copies of MLRC datasets for processing.\n",
    "\n",
    "**Inputs:**\n",
    "\n",
    "- sources.yaml\n",
    "\n",
    "**Outputs:**\n",
    "\n",
    "- Local copies of MLRC data\n",
    "\n",
    "**Notes:**\n",
    "\n",
    "- No reprojection or processing of the data is done in this notebook.\n"
   ]
  },
  {
   "cell_type": "code",
   "execution_count": null,
   "metadata": {},
   "outputs": [],
   "source": [
    "import os\n",
    "import pathlib\n",
    "import zipfile\n",
    "\n",
    "import urlpath\n",
    "import wget\n",
    "import yaml\n",
    "\n",
    "workdir = pathlib.Path(\"/Users/jhamman/workdir/carbonplan_data_downloads/mlrc/\")\n",
    "workdir.mkdir(parents=True, exist_ok=True)\n",
    "workdir"
   ]
  },
  {
   "cell_type": "code",
   "execution_count": null,
   "metadata": {},
   "outputs": [],
   "source": [
    "with open(\"../../sources.yaml\") as f:\n",
    "    sources = yaml.load(f, Loader=yaml.FullLoader)[\"mlrc\"]"
   ]
  },
  {
   "cell_type": "code",
   "execution_count": null,
   "metadata": {},
   "outputs": [],
   "source": [
    "sources"
   ]
  },
  {
   "cell_type": "code",
   "execution_count": null,
   "metadata": {},
   "outputs": [],
   "source": [
    "for key, dset in sources[\"data\"].items():\n",
    "    if \"download\" in dset[\"actions\"]:\n",
    "        for url in dset[\"urlpath\"]:\n",
    "            url = urlpath.URL(url)\n",
    "            out = workdir / url.name\n",
    "            if not out.exists():\n",
    "                print(f\"downloading {url}\")\n",
    "                wget.download(str(url), out=str(out))\n",
    "\n",
    "            if \"unzip\" in dset[\"actions\"]:\n",
    "                outdir = workdir / out.stem\n",
    "                if not outdir.exists():\n",
    "                    outdir.mkdir(parents=True)\n",
    "                    with zipfile.ZipFile(out, \"r\") as f:\n",
    "                        print(f\"extracting contents of {out}\")\n",
    "                        f.extractall(outdir)"
   ]
  }
 ],
 "metadata": {
  "kernelspec": {
   "display_name": "Python 3",
   "language": "python",
   "name": "python3"
  },
  "language_info": {
   "codemirror_mode": {
    "name": "ipython",
    "version": 3
   },
   "file_extension": ".py",
   "mimetype": "text/x-python",
   "name": "python",
   "nbconvert_exporter": "python",
   "pygments_lexer": "ipython3",
   "version": "3.7.8"
  }
 },
 "nbformat": 4,
 "nbformat_minor": 4
}
