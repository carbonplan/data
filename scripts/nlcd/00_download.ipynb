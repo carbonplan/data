{
 "cells": [
  {
   "cell_type": "markdown",
   "metadata": {},
   "source": [
    "<img width=\"100\" src=\"https://carbonplan-assets.s3.amazonaws.com/monogram/dark-small.png\" style=\"margin-left:0px;margin-top:20px\"/>\n",
    "\n",
    "# Download NLCD\n",
    "\n",
    "_by Joe Hamman (CarbonPlan), June 29, 2020_\n",
    "\n",
    "This notebook downloads local copies of MLRC datasets for processing.\n",
    "\n",
    "**Inputs:**\n",
    "- sources.yaml\n",
    "\n",
    "**Outputs:**\n",
    "- Local copies of MLRC data\n",
    "\n",
    "**Notes:**\n",
    "- No reprojection or processing of the data is done in this notebook."
   ]
  },
  {
   "cell_type": "code",
   "execution_count": 1,
   "metadata": {},
   "outputs": [
    {
     "data": {
      "text/plain": [
       "PosixPath('/Users/jhamman/workdir/carbonplan_data_downloads/mlrc')"
      ]
     },
     "execution_count": 1,
     "metadata": {},
     "output_type": "execute_result"
    }
   ],
   "source": [
    "import os\n",
    "\n",
    "import pathlib\n",
    "import urlpath\n",
    "import yaml\n",
    "import wget\n",
    "import zipfile\n",
    "\n",
    "\n",
    "workdir = pathlib.Path('/Users/jhamman/workdir/carbonplan_data_downloads/mlrc/')\n",
    "workdir.mkdir(parents=True, exist_ok=True)\n",
    "workdir"
   ]
  },
  {
   "cell_type": "code",
   "execution_count": 2,
   "metadata": {},
   "outputs": [],
   "source": [
    "with open('../../intake-catalogs/sources.yaml') as f:\n",
    "    sources = yaml.load(f, Loader=yaml.FullLoader)['mlrc']"
   ]
  },
  {
   "cell_type": "code",
   "execution_count": 3,
   "metadata": {},
   "outputs": [
    {
     "data": {
      "text/plain": [
       "{'description': 'Raw datasets from MRLC',\n",
       " 'metadata': {'url': 'https://www.mrlc.gov/data'},\n",
       " 'data': {'NLCD_Land_Cover_Change_Index_L48_20190424': {'actions': ['download',\n",
       "    'unzip'],\n",
       "   'urlpath': ['https://s3-us-west-2.amazonaws.com/mrlc/NLCD_Land_Cover_Change_Index_L48_20190424.zip']},\n",
       "  'NLCD_Land_Cover_L48_20190424_full_zip': {'actions': ['wget', 'unzip'],\n",
       "   'urlpath': ['https://s3-us-west-2.amazonaws.com/mrlc/NLCD_Land_Cover_L48_20190424_full_zip.zip']},\n",
       "  'NLCD_Land_Cover_AK_20200213': {'actions': ['download', 'unzip'],\n",
       "   'urlpath': ['https://s3-us-west-2.amazonaws.com/mrlc/NLCD_2001_Land_Cover_AK_20200213.zip',\n",
       "    'https://s3-us-west-2.amazonaws.com/mrlc/NLCD_2011_Land_Cover_AK_20200213.zip',\n",
       "    'https://s3-us-west-2.amazonaws.com/mrlc/NLCD_2016_Land_Cover_AK_20200213.zip']},\n",
       "  'nlcd_treecanopy_2019_08_31': {'actions': ['download', 'unzip'],\n",
       "   'urlpath': ['https://s3-us-west-2.amazonaws.com/mrlc/nlcd_2011_treecanopy_2019_08_31.zip',\n",
       "    'https://s3-us-west-2.amazonaws.com/mrlc/nlcd_2016_treecanopy_2019_08_31.zip']},\n",
       "  'nlcd_tcc_coastalAK': {'actions': ['download', 'unzip'],\n",
       "   'urlpath': ['https://s3-us-west-2.amazonaws.com/mrlc/nlcd_tcc_coastalAK_2011.zip',\n",
       "    'https://s3-us-west-2.amazonaws.com/mrlc/nlcd_tcc_coastalAK_2016.zip']}}}"
      ]
     },
     "execution_count": 3,
     "metadata": {},
     "output_type": "execute_result"
    }
   ],
   "source": [
    "sources"
   ]
  },
  {
   "cell_type": "code",
   "execution_count": 4,
   "metadata": {},
   "outputs": [
    {
     "name": "stdout",
     "output_type": "stream",
     "text": [
      "downloading https://s3-us-west-2.amazonaws.com/mrlc/NLCD_2001_Land_Cover_AK_20200213.zip\n",
      "extracting contents of /Users/jhamman/workdir/carbonplan_data_downloads/mlrc/NLCD_2001_Land_Cover_AK_20200213.zip\n",
      "downloading https://s3-us-west-2.amazonaws.com/mrlc/NLCD_2011_Land_Cover_AK_20200213.zip\n",
      "extracting contents of /Users/jhamman/workdir/carbonplan_data_downloads/mlrc/NLCD_2011_Land_Cover_AK_20200213.zip\n",
      "downloading https://s3-us-west-2.amazonaws.com/mrlc/NLCD_2016_Land_Cover_AK_20200213.zip\n",
      "extracting contents of /Users/jhamman/workdir/carbonplan_data_downloads/mlrc/NLCD_2016_Land_Cover_AK_20200213.zip\n",
      "downloading https://s3-us-west-2.amazonaws.com/mrlc/nlcd_2011_treecanopy_2019_08_31.zip\n",
      "extracting contents of /Users/jhamman/workdir/carbonplan_data_downloads/mlrc/nlcd_2011_treecanopy_2019_08_31.zip\n",
      "downloading https://s3-us-west-2.amazonaws.com/mrlc/nlcd_2016_treecanopy_2019_08_31.zip\n",
      "extracting contents of /Users/jhamman/workdir/carbonplan_data_downloads/mlrc/nlcd_2016_treecanopy_2019_08_31.zip\n",
      "downloading https://s3-us-west-2.amazonaws.com/mrlc/nlcd_tcc_coastalAK_2011.zip\n",
      "extracting contents of /Users/jhamman/workdir/carbonplan_data_downloads/mlrc/nlcd_tcc_coastalAK_2011.zip\n",
      "downloading https://s3-us-west-2.amazonaws.com/mrlc/nlcd_tcc_coastalAK_2016.zip\n",
      "extracting contents of /Users/jhamman/workdir/carbonplan_data_downloads/mlrc/nlcd_tcc_coastalAK_2016.zip\n"
     ]
    }
   ],
   "source": [
    "for key, dset in sources['data'].items():\n",
    "    if 'download' in dset['actions']:\n",
    "        for url in dset['urlpath']:\n",
    "            url = urlpath.URL(url)\n",
    "            out = workdir / url.name\n",
    "            if not out.exists():\n",
    "                print(f'downloading {url}')\n",
    "                wget.download(str(url), out=str(out))\n",
    "            \n",
    "            if 'unzip' in dset['actions']:\n",
    "                outdir = workdir / out.stem\n",
    "                if not outdir.exists():\n",
    "                    outdir.mkdir(parents=True)\n",
    "                    with zipfile.ZipFile(out, 'r') as f:\n",
    "                        print(f'extracting contents of {out}')\n",
    "                        f.extractall(outdir)"
   ]
  },
  {
   "cell_type": "code",
   "execution_count": null,
   "metadata": {},
   "outputs": [],
   "source": []
  }
 ],
 "metadata": {
  "kernelspec": {
   "display_name": "Python 3",
   "language": "python",
   "name": "python3"
  },
  "language_info": {
   "codemirror_mode": {
    "name": "ipython",
    "version": 3
   },
   "file_extension": ".py",
   "mimetype": "text/x-python",
   "name": "python",
   "nbconvert_exporter": "python",
   "pygments_lexer": "ipython3",
   "version": "3.8.2"
  }
 },
 "nbformat": 4,
 "nbformat_minor": 4
}
