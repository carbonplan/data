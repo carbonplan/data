{
 "cells": [
  {
   "cell_type": "markdown",
   "metadata": {},
   "source": [
    "<img width=\"100\" src=\"https://carbonplan-assets.s3.amazonaws.com/monogram/dark-small.png\" style=\"margin-left:0px;margin-top:20px\"/>\n",
    "\n",
    "# Download NLCD\n",
    "\n",
    "_by Joe Hamman (CarbonPlan), June 29, 2020_\n",
    "\n",
    "This notebook downloads local copies of MLRC datasets for processing.\n",
    "\n",
    "**Inputs:**\n",
    "- zip files from MRLC website\n",
    "\n",
    "**Outputs:**\n",
    "- Local copies of MLRC data\n",
    "\n",
    "**Notes:**\n",
    "- No reprojection or processing of the data is done in this notebook."
   ]
  },
  {
   "cell_type": "code",
   "execution_count": 16,
   "metadata": {},
   "outputs": [],
   "source": [
    "import io\n",
    "import os\n",
    "\n",
    "from rasterio.io import MemoryFile\n",
    "from rio_cogeo.cogeo import cog_translate\n",
    "from rio_cogeo.profiles import cog_profiles\n",
    "\n",
    "from google.cloud import storage"
   ]
  },
  {
   "cell_type": "code",
   "execution_count": 17,
   "metadata": {},
   "outputs": [],
   "source": [
    "# This is the COG profile:\n",
    "dst_profile = cog_profiles.get(\"deflate\")\n",
    "os.environ['GOOGLE_APPLICATION_CREDENTIALS'] = '/Users/jhamman/.config/gcloud/legacy_credentials/joe@carbonplan.org/adc.json'\n",
    "\n",
    "def upload(src, target, bucket='carbonplan-data'):\n",
    "    \n",
    "    storage_client = storage.Client('carbonplan')\n",
    "    bucket = storage_client.bucket(bucket)\n",
    "    blob = bucket.blob(target)\n",
    "    blob.upload_from_filename(src)\n",
    "    "
   ]
  },
  {
   "cell_type": "markdown",
   "metadata": {},
   "source": [
    "## NLCD_Land_Cover_Change_Index_L48_20190424"
   ]
  },
  {
   "cell_type": "code",
   "execution_count": 20,
   "metadata": {},
   "outputs": [],
   "source": [
    "# raw file\n",
    "source = '/Users/jhamman/workdir/carbonplan_data_downloads/mlrc/NLCD_Land_Cover_Change_Index_L48_20190424/NLCD_Land_Cover_Change_Index_L48_20190424.img'\n",
    "\n",
    "# local target\n",
    "target = './raster.tif'\n",
    "\n",
    "# This is where we'll write the COGs when we're done\n",
    "cloud_target = 'raw/mlrc/NLCD_Land_Cover_Change_Index_L48_20190424/30m/raster.tif'"
   ]
  },
  {
   "cell_type": "code",
   "execution_count": 24,
   "metadata": {},
   "outputs": [],
   "source": [
    "# translate to COG\n",
    "cog_translate(source, target, dst_profile)\n",
    "\n",
    "# Upload to GCS\n",
    "upload(target, cloud_target)\n",
    "\n",
    "# Remove temporary file\n",
    "os.remove(target)"
   ]
  },
  {
   "cell_type": "markdown",
   "metadata": {},
   "source": [
    "## NLCD_Land_Cover_L48_20190424_full_zip"
   ]
  },
  {
   "cell_type": "code",
   "execution_count": null,
   "metadata": {},
   "outputs": [
    {
     "name": "stdout",
     "output_type": "stream",
     "text": [
      "2001\n"
     ]
    },
    {
     "name": "stderr",
     "output_type": "stream",
     "text": [
      "Reading input: /Users/jhamman/workdir/carbonplan_data_downloads/mlrc/NLCD_Land_Cover_L48_20190424_full_zip/NLCD_2001_Land_Cover_L48_20190424.img\n",
      "Adding overviews...\n",
      "Updating dataset tags...\n",
      "Writing output to: ./raster.tif\n"
     ]
    },
    {
     "name": "stdout",
     "output_type": "stream",
     "text": [
      "2004\n"
     ]
    },
    {
     "name": "stderr",
     "output_type": "stream",
     "text": [
      "Reading input: /Users/jhamman/workdir/carbonplan_data_downloads/mlrc/NLCD_Land_Cover_L48_20190424_full_zip/NLCD_2004_Land_Cover_L48_20190424.img\n",
      "Adding overviews...\n",
      "Updating dataset tags...\n",
      "Writing output to: ./raster.tif\n"
     ]
    },
    {
     "name": "stdout",
     "output_type": "stream",
     "text": [
      "2006\n"
     ]
    },
    {
     "name": "stderr",
     "output_type": "stream",
     "text": [
      "Reading input: /Users/jhamman/workdir/carbonplan_data_downloads/mlrc/NLCD_Land_Cover_L48_20190424_full_zip/NLCD_2006_Land_Cover_L48_20190424.img\n",
      "Adding overviews...\n",
      "Updating dataset tags...\n",
      "Writing output to: ./raster.tif\n",
      "Reading input: /Users/jhamman/workdir/carbonplan_data_downloads/mlrc/NLCD_Land_Cover_L48_20190424_full_zip/NLCD_2008_Land_Cover_L48_20190424.img\n"
     ]
    },
    {
     "name": "stdout",
     "output_type": "stream",
     "text": [
      "2008\n"
     ]
    },
    {
     "name": "stderr",
     "output_type": "stream",
     "text": [
      "Adding overviews...\n",
      "Updating dataset tags...\n",
      "Writing output to: ./raster.tif\n"
     ]
    }
   ],
   "source": [
    "target = './raster.tif'\n",
    "\n",
    "for year in [2001, 2004, 2006, 2008, 2011, 2013, 2016]:\n",
    "    print(year)\n",
    "    source = f'/Users/jhamman/workdir/carbonplan_data_downloads/mlrc/NLCD_Land_Cover_L48_20190424_full_zip/NLCD_{year}_Land_Cover_L48_20190424.img'\n",
    "    cloud_target = f'raw/mlrc/NLCD_Land_Cover_L48_20190424_full/30m/{year}.tif'\n",
    "\n",
    "    # translate to COG\n",
    "    cog_translate(source, target, dst_profile)\n",
    "\n",
    "    # Upload to GCS\n",
    "    upload(target, cloud_target)\n",
    "\n",
    "    # Remove temporary file\n",
    "    os.remove(target)\n",
    "    "
   ]
  },
  {
   "cell_type": "code",
   "execution_count": 34,
   "metadata": {},
   "outputs": [
    {
     "name": "stdout",
     "output_type": "stream",
     "text": [
      "here\n"
     ]
    }
   ],
   "source": [
    "print('here')"
   ]
  },
  {
   "cell_type": "code",
   "execution_count": null,
   "metadata": {},
   "outputs": [],
   "source": []
  }
 ],
 "metadata": {
  "kernelspec": {
   "display_name": "Python 3",
   "language": "python",
   "name": "python3"
  },
  "language_info": {
   "codemirror_mode": {
    "name": "ipython",
    "version": 3
   },
   "file_extension": ".py",
   "mimetype": "text/x-python",
   "name": "python",
   "nbconvert_exporter": "python",
   "pygments_lexer": "ipython3",
   "version": "3.8.2"
  }
 },
 "nbformat": 4,
 "nbformat_minor": 4
}
