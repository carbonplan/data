{
 "cells": [
  {
   "cell_type": "markdown",
   "metadata": {},
   "source": [
    "<img width=\"50\" src=\"https://carbonplan-assets.s3.amazonaws.com/monogram/dark-small.png\" style=\"margin-left:0px;margin-top:20px\"/>\n",
    "\n",
    "# Convert NLCD to COG\n",
    "\n",
    "_by Joe Hamman (CarbonPlan), June 29, 2020_\n",
    "\n",
    "This notebook converts local copies of NLDC rasters to COG\n",
    "\n",
    "**Inputs:**\n",
    "\n",
    "- local copies of NLCD data\n",
    "\n",
    "**Outputs:**\n",
    "\n",
    "- COGs published to cloud storage\n",
    "\n",
    "**Notes:**\n",
    "\n",
    "- No reprojection or processing of the data is done in this notebook.\n",
    "- Includes both conus (L48) and alaska (AK)\n",
    "- Paths here need to be harmonized as it was run in two different local\n",
    "  environments\n"
   ]
  },
  {
   "cell_type": "code",
   "execution_count": null,
   "metadata": {},
   "outputs": [],
   "source": [
    "import io\n",
    "import os\n",
    "import pathlib\n",
    "\n",
    "from google.cloud import storage\n",
    "from rasterio.io import MemoryFile\n",
    "from rio_cogeo.cogeo import cog_translate\n",
    "from rio_cogeo.profiles import cog_profiles\n",
    "\n",
    "storage.blob._DEFAULT_CHUNKSIZE = 5 * 1024 * 1024  # 5 MB\n",
    "storage.blob._MAX_MULTIPART_SIZE = 5 * 1024 * 1024  # 5 MB"
   ]
  },
  {
   "cell_type": "code",
   "execution_count": null,
   "metadata": {},
   "outputs": [],
   "source": [
    "# This is the COG profile:\n",
    "dst_profile = cog_profiles.get(\"deflate\")\n",
    "os.environ[\n",
    "    \"GOOGLE_APPLICATION_CREDENTIALS\"\n",
    "] = \"/Users/freeman/.config/gcloud/legacy_credentials/jeremy@carbonplan.org/adc.json\"\n",
    "\n",
    "\n",
    "def upload(src, target, bucket=\"carbonplan-data\"):\n",
    "\n",
    "    storage_client = storage.Client(\"carbonplan\")\n",
    "    bucket = storage_client.bucket(bucket)\n",
    "    blob = bucket.blob(target)\n",
    "    blob.upload_from_filename(src)"
   ]
  },
  {
   "cell_type": "markdown",
   "metadata": {},
   "source": [
    "## NLCD_Land_Cover_Change_Index_L48_20190424\n"
   ]
  },
  {
   "cell_type": "code",
   "execution_count": null,
   "metadata": {},
   "outputs": [],
   "source": [
    "# raw file\n",
    "source = \"/Users/jhamman/workdir/carbonplan_data_downloads/mlrc/NLCD_Land_Cover_Change_Index_L48_20190424/NLCD_Land_Cover_Change_Index_L48_20190424.img\"\n",
    "\n",
    "# local target\n",
    "target = \"./raster.tif\"\n",
    "\n",
    "# This is where we'll write the COGs when we're done\n",
    "cloud_target = (\n",
    "    \"raw/mlrc/NLCD_Land_Cover_Change_Index_L48_20190424/30m/raster.tif\"\n",
    ")"
   ]
  },
  {
   "cell_type": "code",
   "execution_count": null,
   "metadata": {},
   "outputs": [],
   "source": [
    "# translate to COG\n",
    "cog_translate(source, target, dst_profile)\n",
    "\n",
    "# Upload to GCS\n",
    "upload(target, cloud_target)\n",
    "\n",
    "# Remove temporary file\n",
    "os.remove(target)"
   ]
  },
  {
   "cell_type": "markdown",
   "metadata": {},
   "source": [
    "## NLCD_Land_Cover_L48_20190424_full_zip\n"
   ]
  },
  {
   "cell_type": "code",
   "execution_count": null,
   "metadata": {},
   "outputs": [],
   "source": [
    "target = \"./raster.tif\"\n",
    "\n",
    "for year in [2001, 2004, 2006, 2008, 2011, 2013, 2016]:\n",
    "    print(year)\n",
    "    source = f\"/Users/jhamman/workdir/carbonplan_data_downloads/mlrc/NLCD_Land_Cover_L48_20190424_full_zip/NLCD_{year}_Land_Cover_L48_20190424.img\"\n",
    "    cloud_target = f\"raw/mlrc/NLCD_Land_Cover_L48_20190424_full/30m/{year}.tif\"\n",
    "\n",
    "    # translate to COG\n",
    "    cog_translate(source, target, dst_profile)\n",
    "\n",
    "    # Upload to GCS\n",
    "    upload(target, cloud_target)\n",
    "\n",
    "    # Remove temporary file\n",
    "    os.remove(target)"
   ]
  },
  {
   "cell_type": "markdown",
   "metadata": {},
   "source": [
    "## NLCD_Land_Cover_AK_20200213\n"
   ]
  },
  {
   "cell_type": "code",
   "execution_count": null,
   "metadata": {},
   "outputs": [],
   "source": [
    "workdir = pathlib.Path(\"/Users/freeman/workdir/carbonplan_data_downloads/nlcd/\")\n",
    "\n",
    "target = \"./raster.tif\"\n",
    "\n",
    "for year in [2016]:\n",
    "    print(year)\n",
    "    source = (\n",
    "        workdir\n",
    "        / f\"NLCD_{year}_Land_Cover_AK_20200213/NLCD_{year}_Land_Cover_AK_20200213.img\"\n",
    "    )\n",
    "    cloud_target = f\"raw/nlcd/NLCD_Land_Cover_AK_20200213/30m/{year}.tif\"\n",
    "\n",
    "    # translate to COG\n",
    "    cog_translate(source, target, dst_profile)\n",
    "\n",
    "    # Upload to GCS\n",
    "    upload(target, cloud_target)\n",
    "\n",
    "    # Remove temporary file\n",
    "    os.remove(target)"
   ]
  }
 ],
 "metadata": {
  "kernelspec": {
   "display_name": "Python 3",
   "language": "python",
   "name": "python3"
  },
  "language_info": {
   "codemirror_mode": {
    "name": "ipython",
    "version": 3
   },
   "file_extension": ".py",
   "mimetype": "text/x-python",
   "name": "python",
   "nbconvert_exporter": "python",
   "pygments_lexer": "ipython3",
   "version": "3.7.8"
  }
 },
 "nbformat": 4,
 "nbformat_minor": 4
}
