{
 "cells": [
  {
   "cell_type": "markdown",
   "metadata": {},
   "source": [
    "<img width=\"50\" src=\"https://carbonplan-assets.s3.amazonaws.com/monogram/dark-small.png\" style=\"margin-left:0px;margin-top:20px\"/>\n",
    "\n",
    "# NLCD downsampling and reprojection\n",
    "\n",
    "_by Jeremy Freeman (CarbonPlan), August 2, 2020_\n",
    "\n",
    "This notebook downsamples and reprojects NLCD 30m rasters stored in Cloud\n",
    "Optimized GeoTIFF into 30m, 250m, and 4000m GeoTIFFs.\n",
    "\n",
    "**Inputs:**\n",
    "\n",
    "- COG outputs from `01_nlcd_to_cogs.ipynb`\n",
    "\n",
    "**Outputs:**\n",
    "\n",
    "- COG outputs after downsampling and reprojection\n",
    "\n",
    "**Notes:**\n",
    "\n",
    "- Source CRS and projection extent come from NLCD\n"
   ]
  },
  {
   "cell_type": "code",
   "execution_count": null,
   "metadata": {},
   "outputs": [],
   "source": [
    "import os"
   ]
  },
  {
   "cell_type": "code",
   "execution_count": null,
   "metadata": {},
   "outputs": [],
   "source": [
    "from carbonplan_data.utils import projections, setup\n",
    "\n",
    "workdir, upload = setup(\"jeremy\")"
   ]
  },
  {
   "cell_type": "code",
   "execution_count": null,
   "metadata": {},
   "outputs": [],
   "source": [
    "from rio_cogeo.cogeo import cog_translate\n",
    "from rio_cogeo.profiles import cog_profiles\n",
    "\n",
    "dst_profile = cog_profiles.get(\"deflate\")"
   ]
  },
  {
   "cell_type": "code",
   "execution_count": null,
   "metadata": {},
   "outputs": [],
   "source": [
    "def get_file(region, year, resolution):\n",
    "    return {\n",
    "        \"source\": workdir / f\"nlcd/{region}/30m/{year}.tif\",\n",
    "        \"target\": f\"processed/nlcd/{region}/{resolution}m/{year}.tif\",\n",
    "    }"
   ]
  },
  {
   "cell_type": "code",
   "execution_count": null,
   "metadata": {},
   "outputs": [],
   "source": [
    "for resolution in [30]:\n",
    "    for region in [\"ak\", \"conus\"]:\n",
    "        if region == \"ak\":\n",
    "            years = [2011, 2016]\n",
    "        if region == \"conus\":\n",
    "            years = [2001, 2004, 2006, 2008, 2011, 2013, 2016]\n",
    "        for year in years:\n",
    "            f = get_file(region, year, resolution)\n",
    "            crs, extent = projections(\"albers\", region)\n",
    "            if resolution == 30:\n",
    "                resampling = \"near\"\n",
    "            else:\n",
    "                resampling = \"mode\"\n",
    "            cmd = (\n",
    "                \"gdalwarp \"\n",
    "                \"-t_srs '%s' \"\n",
    "                \"-te %s \"\n",
    "                \"-tr %s %s \"\n",
    "                \"-r %s \"\n",
    "                \"%s \"\n",
    "                \"%s\"\n",
    "            ) % (\n",
    "                crs,\n",
    "                extent,\n",
    "                resolution,\n",
    "                resolution,\n",
    "                resampling,\n",
    "                f[\"source\"],\n",
    "                \"./raster.tif\",\n",
    "            )\n",
    "            # os.system(cmd)\n",
    "            # cog_translate('./raster.tif', './raster.tif', dst_profile)\n",
    "            upload(f[\"source\"], f[\"target\"])\n",
    "            # os.remove('./raster.tif')"
   ]
  }
 ],
 "metadata": {
  "kernelspec": {
   "display_name": "Python 3.8.2 64-bit ('carbonplan38': conda)",
   "language": "python",
   "name": "python_defaultSpec_1596491828908"
  },
  "language_info": {
   "codemirror_mode": {
    "name": "ipython",
    "version": 3
   },
   "file_extension": ".py",
   "mimetype": "text/x-python",
   "name": "python",
   "nbconvert_exporter": "python",
   "pygments_lexer": "ipython3",
   "version": "3.8.2-final"
  }
 },
 "nbformat": 4,
 "nbformat_minor": 2
}
