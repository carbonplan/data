{
 "cells": [
  {
   "cell_type": "markdown",
   "metadata": {},
   "source": [
    "<img width=\"50\" src=\"https://carbonplan-assets.s3.amazonaws.com/monogram/dark-small.png\" style=\"margin-left:0px;margin-top:20px\"/>\n",
    "\n",
    "# NLCD downsampling and reprojection\n",
    "\n",
    "_by Jeremy Freeman (CarbonPlan), August 2, 2020_\n",
    "\n",
    "This notebook downsamples and reprojects NLCD 30m rasters stored in Cloud\n",
    "Optimized GeoTIFF into 30m, 250m, and 4000m GeoTIFFs.\n",
    "\n",
    "**Inputs:**\n",
    "\n",
    "- COG outputs from `01_nlcd_to_cogs.ipynb`\n",
    "\n",
    "**Outputs:**\n",
    "\n",
    "- COG outputs after downsampling and reprojection\n",
    "\n",
    "**Notes:**\n",
    "\n",
    "- Source CRS and projection extent come from NLCD\n"
   ]
  },
  {
   "cell_type": "code",
   "execution_count": null,
   "metadata": {},
   "outputs": [],
   "source": [
    "import os"
   ]
  },
  {
   "cell_type": "code",
   "execution_count": null,
   "metadata": {},
   "outputs": [],
   "source": [
    "from carbonplan_data.utils import projections, setup\n",
    "\n",
    "workdir, upload = setup(\"jeremy\")"
   ]
  },
  {
   "cell_type": "code",
   "execution_count": null,
   "metadata": {},
   "outputs": [],
   "source": [
    "from rio_cogeo.cogeo import cog_translate\n",
    "from rio_cogeo.profiles import cog_profiles\n",
    "\n",
    "dst_profile = cog_profiles.get(\"deflate\")"
   ]
  },
  {
   "cell_type": "code",
   "execution_count": null,
   "metadata": {},
   "outputs": [],
   "source": [
    "import rasterio\n",
    "from numpy import asarray, argmax"
   ]
  },
  {
   "cell_type": "code",
   "execution_count": null,
   "metadata": {},
   "outputs": [],
   "source": [
    "def get_file(region, year, resolution, c=None):\n",
    "    if c is not None:\n",
    "        target = f\"processed/nlcd/{region}/{resolution}m/{year}_c{c}.tif\"\n",
    "    else:\n",
    "        target = f\"processed/nlcd/{region}/{resolution}m/{year}.tif\"\n",
    "    return {\n",
    "        \"source\": workdir / f\"nlcd/{region}/30m/{year}.tif\",\n",
    "        \"target\": target,\n",
    "    }"
   ]
  },
  {
   "cell_type": "code",
   "execution_count": null,
   "metadata": {},
   "outputs": [],
   "source": [
    "def loadrio(f):\n",
    "    src = rasterio.open(f)\n",
    "    return src.read(1)"
   ]
  },
  {
   "cell_type": "markdown",
   "metadata": {},
   "source": [
    "### downsample using mode\n"
   ]
  },
  {
   "cell_type": "code",
   "execution_count": null,
   "metadata": {},
   "outputs": [],
   "source": [
    "for resolution in [4000]:\n",
    "    for region in [\"ak\", \"conus\"]:\n",
    "        if region == \"ak\":\n",
    "            years = [2011, 2016]\n",
    "        if region == \"conus\":\n",
    "            years = [2001, 2004, 2006, 2008, 2011, 2013, 2016]\n",
    "        for year in years:\n",
    "            f = get_file(region, year, resolution)\n",
    "            crs, extent = projections(\"albers\", region)\n",
    "            if resolution == 30:\n",
    "                resampling = \"near\"\n",
    "            else:\n",
    "                resampling = \"mode\"\n",
    "            cmd = (\n",
    "                \"gdalwarp \"\n",
    "                \"-t_srs '%s' \"\n",
    "                \"-te %s \"\n",
    "                \"-tr %s %s \"\n",
    "                \"-r %s \"\n",
    "                \"%s \"\n",
    "                \"%s\"\n",
    "            ) % (\n",
    "                crs,\n",
    "                extent,\n",
    "                resolution,\n",
    "                resolution,\n",
    "                resampling,\n",
    "                f[\"source\"],\n",
    "                \"./raster.tif\",\n",
    "            )\n",
    "            os.system(cmd)\n",
    "            cog_translate(\"./raster.tif\", \"./raster.tif\", dst_profile)\n",
    "            upload(\"./raster.tif\", f[\"target\"])\n",
    "            os.remove(\"./raster.tif\")"
   ]
  },
  {
   "cell_type": "markdown",
   "metadata": {},
   "source": [
    "### downsample using thresholding\n"
   ]
  },
  {
   "cell_type": "code",
   "execution_count": null,
   "metadata": {},
   "outputs": [],
   "source": [
    "categories = [\n",
    "    11,\n",
    "    12,\n",
    "    21,\n",
    "    22,\n",
    "    23,\n",
    "    24,\n",
    "    31,\n",
    "    41,\n",
    "    42,\n",
    "    43,\n",
    "    51,\n",
    "    52,\n",
    "    71,\n",
    "    72,\n",
    "    73,\n",
    "    74,\n",
    "    81,\n",
    "    82,\n",
    "    90,\n",
    "    95,\n",
    "]"
   ]
  },
  {
   "cell_type": "code",
   "execution_count": null,
   "metadata": {},
   "outputs": [],
   "source": [
    "for resolution in [4000]:\n",
    "    for region in [\"ak\", \"conus\"]:\n",
    "        if region == \"ak\":\n",
    "            years = [2011, 2016]\n",
    "        if region == \"conus\":\n",
    "            years = [2001, 2004, 2006, 2008, 2011, 2013, 2016]\n",
    "        for year in years:\n",
    "            fbase = get_file(region, year, resolution)\n",
    "            src = rasterio.open(fbase[\"source\"])\n",
    "            band = src.read(1)\n",
    "            profile = src.profile\n",
    "\n",
    "            for category in categories:\n",
    "                print(f\"region {region} year {year} cat {category}\")\n",
    "                f = get_file(region, year, resolution, category)\n",
    "                crs, extent = projections(\"albers\", region)\n",
    "                if resolution == 30:\n",
    "                    resampling = \"near\"\n",
    "                else:\n",
    "                    resampling = \"average\"\n",
    "\n",
    "                out = (band == category).astype(rasterio.uint8)\n",
    "\n",
    "                with rasterio.open(\"./thresholded.tif\", \"w\", **profile) as dst:\n",
    "                    dst.write(out, 1)\n",
    "\n",
    "                cmd = (\n",
    "                    \"gdalwarp \"\n",
    "                    \"-t_srs '%s' \"\n",
    "                    \"-te %s \"\n",
    "                    \"-tr %s %s \"\n",
    "                    \"-r %s \"\n",
    "                    \"-ot Float32 \"\n",
    "                    \"%s \"\n",
    "                    \"%s\"\n",
    "                ) % (\n",
    "                    crs,\n",
    "                    extent,\n",
    "                    resolution,\n",
    "                    resolution,\n",
    "                    resampling,\n",
    "                    \"./thresholded.tif\",\n",
    "                    \"./raster.tif\",\n",
    "                )\n",
    "\n",
    "                os.system(cmd)\n",
    "                cog_translate(\"./raster.tif\", \"./raster.tif\", dst_profile)\n",
    "                upload(\"./raster.tif\", f[\"target\"])\n",
    "                os.remove(\"./thresholded.tif\")\n",
    "                os.remove(\"./raster.tif\")"
   ]
  },
  {
   "cell_type": "markdown",
   "metadata": {},
   "source": [
    "## recreate mode using max\n"
   ]
  },
  {
   "cell_type": "code",
   "execution_count": null,
   "metadata": {},
   "outputs": [],
   "source": [
    "categories = [\n",
    "    11,\n",
    "    12,\n",
    "    21,\n",
    "    22,\n",
    "    23,\n",
    "    24,\n",
    "    31,\n",
    "    41,\n",
    "    42,\n",
    "    43,\n",
    "    51,\n",
    "    52,\n",
    "    71,\n",
    "    72,\n",
    "    73,\n",
    "    74,\n",
    "    81,\n",
    "    82,\n",
    "    90,\n",
    "    95,\n",
    "]"
   ]
  },
  {
   "cell_type": "code",
   "execution_count": null,
   "metadata": {},
   "outputs": [],
   "source": [
    "for resolution in [4000]:\n",
    "    for region in [\"ak\"]:\n",
    "        if region == \"ak\":\n",
    "            years = [2011, 2016]\n",
    "        if region == \"conus\":\n",
    "            years = [2001, 2004, 2006, 2008, 2011, 2013, 2016]\n",
    "        for year in years:\n",
    "            bands = asarray(\n",
    "                [\n",
    "                    loadrio(\n",
    "                        workdir / f\"nlcd/{region}/{resolution}m/{year}_c{c}.tif\"\n",
    "                    )\n",
    "                    for c in categories\n",
    "                ]\n",
    "            )\n",
    "            out = argmax(bands, axis=0)\n",
    "            out_reindexed = argmax(bands, axis=0).astype(rasterio.uint8)\n",
    "            for i, c in enumerate(categories):\n",
    "                out_reindexed[out == i] = c\n",
    "            out_reindexed[bands.sum(axis=0) == 0] = 0\n",
    "\n",
    "            src = rasterio.open(\n",
    "                workdir / f\"nlcd/{region}/{resolution}m/{year}_c11.tif\"\n",
    "            )\n",
    "            profile = src.profile\n",
    "            profile.update(dtype=rasterio.uint8)\n",
    "\n",
    "            with rasterio.open(\"raster.tif\", \"w\", **profile) as dst:\n",
    "                dst.write(out_reindexed, 1)\n",
    "\n",
    "            cog_translate(\"./raster.tif\", f\"./{year}_cmax.tif\", dst_profile)\n",
    "\n",
    "            f = get_file(region, year, resolution, \"max\")\n",
    "            upload(f\"./{year}_cmax.tif\", f[\"target\"])\n",
    "            os.remove(\"./raster.tif\")"
   ]
  }
 ],
 "metadata": {
  "kernelspec": {
   "display_name": "Python 3",
   "language": "python",
   "name": "python3"
  },
  "language_info": {
   "codemirror_mode": {
    "name": "ipython",
    "version": 3
   },
   "file_extension": ".py",
   "mimetype": "text/x-python",
   "name": "python",
   "nbconvert_exporter": "python",
   "pygments_lexer": "ipython3",
   "version": "3.7.8"
  }
 },
 "nbformat": 4,
 "nbformat_minor": 4
}
