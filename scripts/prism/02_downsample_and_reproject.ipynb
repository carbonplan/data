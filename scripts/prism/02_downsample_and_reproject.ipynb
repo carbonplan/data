{
 "cells": [
  {
   "cell_type": "markdown",
   "metadata": {},
   "source": [
    "<img width=\"50\" src=\"https://carbonplan-assets.s3.amazonaws.com/monogram/dark-small.png\" style=\"margin-left:0px;margin-top:20px\"/>\n",
    "\n",
    "# PRISM downsampling and reprojection\n",
    "\n",
    "_by Joe Hamman (CarbonPlan), February 16, 2021_\n",
    "\n",
    "This notebook downsamples and reprojects PRISM 300m climate normal rasters\n",
    "stored in Cloud Optimized GeoTIFF into 4000m GeoTIFFs.\n",
    "\n",
    "**Inputs:**\n",
    "\n",
    "- COG outputs from `01_prism_to_cogs.ipynb`\n",
    "\n",
    "**Outputs:**\n",
    "\n",
    "- COG outputs after downsampling and reprojection\n",
    "\n",
    "**Notes:**\n",
    "\n",
    "- Source CRS and projection extent come from NLCD\n"
   ]
  },
  {
   "cell_type": "code",
   "execution_count": null,
   "metadata": {},
   "outputs": [],
   "source": [
    "import os\n",
    "from carbonplan_data.utils import projections, setup\n",
    "from rio_cogeo.cogeo import cog_translate\n",
    "from rio_cogeo.profiles import cog_profiles\n",
    "import rasterio\n",
    "import fsspec\n",
    "\n",
    "dst_profile = cog_profiles.get(\"deflate\")\n",
    "\n",
    "workdir, upload = setup(\"joe\")"
   ]
  },
  {
   "cell_type": "code",
   "execution_count": null,
   "metadata": {},
   "outputs": [],
   "source": [
    "fs = fsspec.get_filesystem_class(\"gs\")()"
   ]
  },
  {
   "cell_type": "code",
   "execution_count": null,
   "metadata": {},
   "outputs": [],
   "source": [
    "resampling = \"average\"\n",
    "resolution = 4000\n",
    "\n",
    "for region in [\"conus\", \"ak\"]:\n",
    "    crs, extent = projections(\"albers\", region)\n",
    "\n",
    "    for var in [\"ppt\", \"tmean\"]:\n",
    "\n",
    "        print(region, var)\n",
    "\n",
    "        source = f\"carbonplan-data/raw/prism/normals/{region}/800m/{var}.tif\"\n",
    "        cloud_target = (\n",
    "            f\"processed/prism/normals/{region}/{resolution}m/{var}.tif\"\n",
    "        )\n",
    "\n",
    "        local_source = \"./local_source.tif\"\n",
    "        fs.get_file(source, local_source)\n",
    "\n",
    "        cmd = (\n",
    "            \"gdalwarp\",\n",
    "            \"-t_srs\",\n",
    "            f\"'{crs}'\",\n",
    "            \"-te\",\n",
    "            extent,\n",
    "            \"-tr\",\n",
    "            f\"{resolution} {resolution}\",\n",
    "            \"-r\",\n",
    "            resampling,\n",
    "            local_source,\n",
    "            \"./raster.tif\",\n",
    "        )\n",
    "        print(\" \".join(cmd))\n",
    "        os.system(\" \".join(cmd))\n",
    "\n",
    "        cog_translate(\"./raster.tif\", \"./raster.tif\", dst_profile)\n",
    "        upload(\"./raster.tif\", cloud_target)\n",
    "\n",
    "        os.remove(\n",
    "            \"raster.tif\",\n",
    "        )\n",
    "        os.remove(\n",
    "            \"local_source.tif\",\n",
    "        )"
   ]
  }
 ],
 "metadata": {
  "kernelspec": {
   "display_name": "Python 3",
   "language": "python",
   "name": "python3"
  },
  "language_info": {
   "codemirror_mode": {
    "name": "ipython",
    "version": 3
   },
   "file_extension": ".py",
   "mimetype": "text/x-python",
   "name": "python",
   "nbconvert_exporter": "python",
   "pygments_lexer": "ipython3",
   "version": "3.9.2"
  }
 },
 "nbformat": 4,
 "nbformat_minor": 4
}
