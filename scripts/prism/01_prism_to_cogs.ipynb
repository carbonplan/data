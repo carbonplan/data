{
 "cells": [
  {
   "cell_type": "markdown",
   "metadata": {},
   "source": [
    "<img width=\"50\" src=\"https://carbonplan-assets.s3.amazonaws.com/monogram/dark-small.png\" style=\"margin-left:0px;margin-top:20px\"/>\n",
    "\n",
    "# Convert PRISM to COG\n",
    "\n",
    "_by Joe Hamman (CarbonPlan), February 16, 2021_\n",
    "\n",
    "This notebook converts local copies of PRISM normal rasters to COG\n",
    "\n",
    "**Inputs:**\n",
    "\n",
    "- local copies of PRISM data\n",
    "\n",
    "**Outputs:**\n",
    "\n",
    "- COGs published to cloud storage\n",
    "\n",
    "**Notes:**\n"
   ]
  },
  {
   "cell_type": "code",
   "execution_count": null,
   "metadata": {},
   "outputs": [],
   "source": [
    "import io\n",
    "import os\n",
    "import pathlib\n",
    "\n",
    "from google.cloud import storage\n",
    "from rasterio.io import MemoryFile\n",
    "from rio_cogeo.cogeo import cog_translate\n",
    "from rio_cogeo.profiles import cog_profiles\n",
    "\n",
    "from carbonplan_data.utils import setup\n",
    "\n",
    "import xarray as xr\n",
    "import rioxarray\n",
    "\n",
    "storage.blob._DEFAULT_CHUNKSIZE = 5 * 1024 * 1024  # 5 MB\n",
    "storage.blob._MAX_MULTIPART_SIZE = 5 * 1024 * 1024  # 5 MB"
   ]
  },
  {
   "cell_type": "code",
   "execution_count": null,
   "metadata": {},
   "outputs": [],
   "source": [
    "# This is the COG profile:\n",
    "dst_profile = cog_profiles.get(\"deflate\")\n",
    "\n",
    "workdir, upload = setup(\"joe\")"
   ]
  },
  {
   "cell_type": "markdown",
   "metadata": {},
   "source": [
    "## PRISM normals (CONUS and AK)\n"
   ]
  },
  {
   "cell_type": "code",
   "execution_count": null,
   "metadata": {},
   "outputs": [],
   "source": [
    "sources = [\n",
    "    \"/Users/jhamman/workdir/carbonplan_data_downloads/PRISM_tmean_ak_30yr_normal_800mM1_annual_asc/ak_tmean_1981_2010.14.txt\",\n",
    "    \"/Users/jhamman/workdir/carbonplan_data_downloads/PRISM_ppt_ak_30yr_normal_800mM1_annual_asc/ak_ppt_1981_2010.14.txt\",\n",
    "]\n",
    "\n",
    "crs = \"+proj=latlong +ellps=GRS80 +datum=NAD83\"\n",
    "\n",
    "for source in sources:\n",
    "    target = source.replace(\"txt\", \"tif\")\n",
    "    da = xr.open_rasterio(source)\n",
    "    da = da.rio.set_crs(crs)\n",
    "    da.rio.to_raster(target)"
   ]
  },
  {
   "cell_type": "code",
   "execution_count": null,
   "metadata": {},
   "outputs": [],
   "source": [
    "sources = [\n",
    "    \"/Users/jhamman/workdir/carbonplan_data_downloads/ppt_normal/PRISM_ppt_30yr_normal_800mM2_annual_bil.bil\",\n",
    "    \"/Users/jhamman/workdir/carbonplan_data_downloads/tmean_normal/PRISM_tmean_30yr_normal_800mM2_annual_bil.bil\",\n",
    "    \"/Users/jhamman/workdir/carbonplan_data_downloads/PRISM_tmean_ak_30yr_normal_800mM1_annual_asc/ak_tmean_1981_2010.14.tif\",\n",
    "    \"/Users/jhamman/workdir/carbonplan_data_downloads/PRISM_ppt_ak_30yr_normal_800mM1_annual_asc/ak_ppt_1981_2010.14.tif\",\n",
    "]\n",
    "\n",
    "# local target\n",
    "target = \"./raster.tif\"\n",
    "\n",
    "for source in sources:\n",
    "\n",
    "    for var in [\"ppt\", \"tmean\"]:\n",
    "        if var in source:\n",
    "            break\n",
    "\n",
    "    if \"ak\" in source:\n",
    "        region = \"ak\"\n",
    "    else:\n",
    "        region = \"conus\"\n",
    "\n",
    "    # This is where we'll write the COGs when we're done\n",
    "    cloud_target = f\"raw/prism/normals/{region}/800m/{var}.tif\"\n",
    "\n",
    "    # translate to COG\n",
    "    cog_translate(source, target, dst_profile)\n",
    "\n",
    "    # Upload to GCS\n",
    "    upload(target, cloud_target)\n",
    "\n",
    "    # Remove temporary file\n",
    "    os.remove(target)"
   ]
  }
 ],
 "metadata": {
  "kernelspec": {
   "display_name": "Python 3",
   "language": "python",
   "name": "python3"
  },
  "language_info": {
   "codemirror_mode": {
    "name": "ipython",
    "version": 3
   },
   "file_extension": ".py",
   "mimetype": "text/x-python",
   "name": "python",
   "nbconvert_exporter": "python",
   "pygments_lexer": "ipython3",
   "version": "3.9.2"
  }
 },
 "nbformat": 4,
 "nbformat_minor": 4
}
