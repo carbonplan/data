{
 "cells": [
  {
   "cell_type": "code",
   "execution_count": null,
   "metadata": {},
   "outputs": [],
   "source": [
    "import wget\n",
    "import os\n",
    "import zipfile\n",
    "import pathlib\n",
    "\n",
    "from carbonplan_data.utils import setup\n",
    "\n",
    "workdir, upload = setup(\"joe\")"
   ]
  },
  {
   "cell_type": "code",
   "execution_count": null,
   "metadata": {},
   "outputs": [],
   "source": [
    "files = [\n",
    "    (\n",
    "        \"http://services.nacse.org/prism/data/public/normals/800m/ppt/14\",\n",
    "        f\"{workdir}/ppt_normal.zip\",\n",
    "    ),\n",
    "    (\n",
    "        \"http://services.nacse.org/prism/data/public/normals/800m/tmean/14\",\n",
    "        f\"{workdir}/tmean_normal.zip\",\n",
    "    ),\n",
    "    (\n",
    "        \"https://prism.oregonstate.edu/projects/public/alaska/grids/tmean/PRISM_tmean_ak_30yr_normal_800mM1_annual_asc.zip\",\n",
    "        f\"{workdir}/PRISM_tmean_ak_30yr_normal_800mM1_annual_asc.zip\",\n",
    "    ),\n",
    "    (\n",
    "        \"https://prism.oregonstate.edu/projects/public/alaska/grids/ppt/PRISM_ppt_ak_30yr_normal_800mM1_annual_asc.zip\",\n",
    "        f\"{workdir}/PRISM_ppt_ak_30yr_normal_800mM1_annual_asc.zip\",\n",
    "    ),\n",
    "]\n",
    "\n",
    "for src, dst in files:\n",
    "    dst = pathlib.Path(dst)\n",
    "    if not dst.exists:\n",
    "        wget.download(src, out=dst)\n",
    "\n",
    "    outdir = workdir / dst.stem\n",
    "    with zipfile.ZipFile(dst, \"r\") as f:\n",
    "        #         print(f\"extracting contents of {dst}\")\n",
    "        print(outdir)\n",
    "        f.extractall(outdir)"
   ]
  }
 ],
 "metadata": {
  "kernelspec": {
   "display_name": "Python 3",
   "language": "python",
   "name": "python3"
  },
  "language_info": {
   "codemirror_mode": {
    "name": "ipython",
    "version": 3
   },
   "file_extension": ".py",
   "mimetype": "text/x-python",
   "name": "python",
   "nbconvert_exporter": "python",
   "pygments_lexer": "ipython3",
   "version": "3.9.2"
  }
 },
 "nbformat": 4,
 "nbformat_minor": 4
}
