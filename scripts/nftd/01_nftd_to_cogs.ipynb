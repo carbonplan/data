{
 "cells": [
  {
   "cell_type": "markdown",
   "metadata": {},
   "source": [
    "<img width=\"50\" src=\"https://carbonplan-assets.s3.amazonaws.com/monogram/dark-small.png\" style=\"margin-left:0px;margin-top:20px\"/>\n",
    "\n",
    "# Convert NFTD to COGs\n",
    "\n",
    "_by Jeremy Freeman (CarbonPlan), August 1, 2020_\n",
    "\n",
    "This notebook converts local copies of NFTD datasets to cloud optimized\n",
    "GeoTIFFs.\n",
    "\n",
    "**Inputs:**\n",
    "\n",
    "- downloaded files from UFSF raster gateway\n",
    "\n",
    "**Outputs:**\n",
    "\n",
    "- Cloud optimized GeoTIFFs\n",
    "\n",
    "**Notes:**\n",
    "\n",
    "- No reprojection or processing of the data is done in this notebook.\n"
   ]
  },
  {
   "cell_type": "code",
   "execution_count": null,
   "metadata": {},
   "outputs": [],
   "source": [
    "import io\n",
    "import os\n",
    "import pathlib\n",
    "\n",
    "from google.cloud import storage\n",
    "from rasterio.io import MemoryFile\n",
    "from rio_cogeo.cogeo import cog_translate\n",
    "from rio_cogeo.profiles import cog_profiles"
   ]
  },
  {
   "cell_type": "code",
   "execution_count": null,
   "metadata": {},
   "outputs": [],
   "source": [
    "storage.blob._DEFAULT_CHUNKSIZE = 5 * 1024 * 1024  # 5 MB\n",
    "storage.blob._MAX_MULTIPART_SIZE = 5 * 1024 * 1024  # 5 MB"
   ]
  },
  {
   "cell_type": "code",
   "execution_count": null,
   "metadata": {},
   "outputs": [],
   "source": [
    "dst_profile = cog_profiles.get(\"deflate\")\n",
    "os.environ[\n",
    "    \"GOOGLE_APPLICATION_CREDENTIALS\"\n",
    "] = \"/Users/freeman/.config/gcloud/legacy_credentials/jeremy@carbonplan.org/adc.json\"\n",
    "\n",
    "\n",
    "def upload(src, target, bucket=\"carbonplan-data\"):\n",
    "    storage_client = storage.Client(\"carbonplan\")\n",
    "    bucket = storage_client.bucket(bucket)\n",
    "    blob = bucket.blob(target)\n",
    "    blob.upload_from_filename(src)"
   ]
  },
  {
   "cell_type": "markdown",
   "metadata": {},
   "source": [
    "## Iterate over datasets\n"
   ]
  },
  {
   "cell_type": "code",
   "execution_count": null,
   "metadata": {},
   "outputs": [],
   "source": [
    "# conus forest group\n",
    "workdir = pathlib.Path(\"/Users/freeman/workdir/carbonplan_data_downloads/nftd/\")\n",
    "source = workdir / \"conus_forestgroup\" / \"conus_forestgroup.img\"\n",
    "target = workdir / \"conus_forestgroup\" / \"raster.tif\"\n",
    "cloud = \"raw/nftd/conus_forestgroup/30m/raster.tif\""
   ]
  },
  {
   "cell_type": "code",
   "execution_count": null,
   "metadata": {},
   "outputs": [],
   "source": [
    "files = [\n",
    "    {\n",
    "        \"source\": workdir / \"conus_forestgroup\" / \"conus_forestgroup.img\",\n",
    "        \"target\": workdir / \"conus_forestgroup\" / \"raster.tif\",\n",
    "        \"cloud\": \"raw/nftd/conus_forestgroup/250m/raster.tif\",\n",
    "    },\n",
    "    {\n",
    "        \"source\": workdir / \"conus_forestgroup\" / \"conus_forestgroup_error.img\",\n",
    "        \"target\": workdir / \"conus_forestgroup\" / \"error.tif\",\n",
    "        \"cloud\": \"raw/nftd/conus_forestgroup/250m/error.tif\",\n",
    "    },\n",
    "    {\n",
    "        \"source\": workdir / \"conus_forest-type\" / \"conus_foresttype.img\",\n",
    "        \"target\": workdir / \"conus_forest-type\" / \"raster.tif\",\n",
    "        \"cloud\": \"raw/nftd/conus_foresttype/250m/raster.tif\",\n",
    "    },\n",
    "    {\n",
    "        \"source\": workdir / \"conus_forest-type\" / \"conus_foresttype_error.img\",\n",
    "        \"target\": workdir / \"conus_forest-type\" / \"error.tif\",\n",
    "        \"cloud\": \"raw/nftd/conus_foresttype/250m/error.tif\",\n",
    "    },\n",
    "    {\n",
    "        \"source\": workdir / \"ak_forestgroup\" / \"alaska_forestgroup_63360.img\",\n",
    "        \"target\": workdir / \"ak_forestgroup\" / \"raster.tif\",\n",
    "        \"cloud\": \"raw/nftd/ak_forestgroup/250m/raster.tif\",\n",
    "    },\n",
    "    {\n",
    "        \"source\": workdir\n",
    "        / \"ak_forestgroup\"\n",
    "        / \"alaska_forestgroup_confidence_63360.img\",\n",
    "        \"target\": workdir / \"ak_forestgroup\" / \"error.tif\",\n",
    "        \"cloud\": \"raw/nftd/ak_forestgroup/250m/error.tif\",\n",
    "    },\n",
    "    {\n",
    "        \"source\": workdir / \"ak_forest-type\" / \"alaska_foresttype_63360.img\",\n",
    "        \"target\": workdir / \"ak_forest-type\" / \"raster.tif\",\n",
    "        \"cloud\": \"raw/nftd/ak_foresttype/250m/raster.tif\",\n",
    "    },\n",
    "    {\n",
    "        \"source\": workdir\n",
    "        / \"ak_forest-type\"\n",
    "        / \"alaska_foresttype_confidence_63360.img\",\n",
    "        \"target\": workdir / \"ak_forest-type\" / \"error.tif\",\n",
    "        \"cloud\": \"raw/nftd/ak_foresttype/250m/error.tif\",\n",
    "    },\n",
    "]"
   ]
  },
  {
   "cell_type": "code",
   "execution_count": null,
   "metadata": {},
   "outputs": [],
   "source": [
    "# convert to cogs\n",
    "[cog_translate(f[\"source\"], f[\"target\"], dst_profile) for f in files]"
   ]
  },
  {
   "cell_type": "code",
   "execution_count": null,
   "metadata": {},
   "outputs": [],
   "source": [
    "# upload to cloud storage\n",
    "[upload(f[\"target\"], f[\"cloud\"]) for f in files]"
   ]
  }
 ],
 "metadata": {
  "kernelspec": {
   "display_name": "Python 3",
   "language": "python",
   "name": "python3"
  },
  "language_info": {
   "codemirror_mode": {
    "name": "ipython",
    "version": 3
   },
   "file_extension": ".py",
   "mimetype": "text/x-python",
   "name": "python",
   "nbconvert_exporter": "python",
   "pygments_lexer": "ipython3",
   "version": "3.8.2"
  }
 },
 "nbformat": 4,
 "nbformat_minor": 4
}
