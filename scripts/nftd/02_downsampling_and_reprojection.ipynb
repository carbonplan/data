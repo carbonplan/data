{
 "cells": [
  {
   "cell_type": "markdown",
   "metadata": {},
   "source": [
    "<img width=\"50\" src=\"https://carbonplan-assets.s3.amazonaws.com/monogram/dark-small.png\" style=\"margin-left:0px;margin-top:20px\"/>\n",
    "\n",
    "# NFTD downsampling and reprojection\n",
    "\n",
    "_by Jeremy Freeman (CarbonPlan), August 2, 2020_\n",
    "\n",
    "This notebook converts NFTD 250m yearly rasters stored in Cloud Optimized GeoTIFF\n",
    "into 400m GeoTIFFs.\n",
    "\n",
    "**Inputs:**\n",
    "\n",
    "- COG outputs from `01_nftd_to_cogs.ipynb`\n",
    "\n",
    "**Outputs:**\n",
    "\n",
    "- 1 Zarr archive:\n",
    "  `gs://carbonplan-data/processed/MTBS/raster.zarr/<RESOLUTION>/<VAR>`\n",
    "\n",
    "**Notes:**\n",
    "\n",
    "- In the process of processing this dataset, we found that the behavior in\n",
    "  rasterio's `reproject` function was sensitive to the package version for\n",
    "  rasterio and/or gdal. Versions we found to work were\n",
    "  `rasterio=1.0.25,gdal=2.4.2`. Versions that we found to fail were\n",
    "  `rasterio=1.1.5,gdal=3.1.0`\n"
   ]
  }
 ],
 "metadata": {
  "kernelspec": {
   "display_name": "Python 3",
   "language": "python",
   "name": "python3"
  },
  "language_info": {
   "codemirror_mode": {
    "name": "ipython",
    "version": 3
   },
   "file_extension": ".py",
   "mimetype": "text/x-python",
   "name": "python",
   "nbconvert_exporter": "python",
   "pygments_lexer": "ipython3",
   "version": "3.7.6"
  }
 },
 "nbformat": 4,
 "nbformat_minor": 2
}
