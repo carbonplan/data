{
 "cells": [
  {
   "cell_type": "markdown",
   "metadata": {},
   "source": [
    "<img width=\"50\" src=\"https://carbonplan-assets.s3.amazonaws.com/monogram/dark-small.png\" style=\"margin-left:0px;margin-top:20px\"/>\n",
    "\n",
    "# NFTD downsampling and reprojection\n",
    "\n",
    "_by Jeremy Freeman (CarbonPlan), August 2, 2020_\n",
    "\n",
    "This notebook downsamples and reprojects NFTD 250m yearly rasters stored in\n",
    "Cloud Optimized GeoTIFF into 250m and 4000m GeoTIFFs.\n",
    "\n",
    "**Inputs:**\n",
    "\n",
    "- COG outputs from `01_nftd_to_cogs.ipynb`\n",
    "\n",
    "**Outputs:**\n",
    "\n",
    "- COG outputs after downsampling and reprojection\n",
    "\n",
    "**Notes:**\n",
    "\n",
    "- Source CRS and projection extent come from NLCD\n"
   ]
  },
  {
   "cell_type": "code",
   "execution_count": null,
   "metadata": {},
   "outputs": [],
   "source": [
    "import os"
   ]
  },
  {
   "cell_type": "code",
   "execution_count": null,
   "metadata": {},
   "outputs": [],
   "source": [
    "from carbonplan_data.utils import projections, setup\n",
    "\n",
    "workdir, upload = setup(\"jeremy\")"
   ]
  },
  {
   "cell_type": "code",
   "execution_count": null,
   "metadata": {},
   "outputs": [],
   "source": [
    "from rio_cogeo.cogeo import cog_translate\n",
    "from rio_cogeo.profiles import cog_profiles\n",
    "import rasterio\n",
    "\n",
    "dst_profile = cog_profiles.get(\"deflate\")"
   ]
  },
  {
   "cell_type": "code",
   "execution_count": null,
   "metadata": {},
   "outputs": [],
   "source": [
    "def get_files(region, resolution):\n",
    "    return [\n",
    "        {\n",
    "            \"source\": workdir / f\"raw/nftd/{region}_foresttype/250m/raster.tif\",\n",
    "            \"target\": f\"processed/nftd/{region}/{resolution}m/type.tif\",\n",
    "        },\n",
    "        {\n",
    "            \"source\": workdir\n",
    "            / f\"raw/nftd/{region}_forestgroup/250m/raster.tif\",\n",
    "            \"target\": f\"processed/nftd/{region}/{resolution}m/group.tif\",\n",
    "        },\n",
    "        {\n",
    "            \"source\": workdir / f\"raw/nftd/{region}_foresttype/250m/error.tif\",\n",
    "            \"target\": f\"processed/nftd/{region}/{resolution}m/type_error.tif\",\n",
    "        },\n",
    "        {\n",
    "            \"source\": workdir / f\"raw/nftd/{region}_forestgroup/250m/error.tif\",\n",
    "            \"target\": f\"processed/nftd/{region}/{resolution}m/group_error.tif\",\n",
    "        },\n",
    "    ]"
   ]
  },
  {
   "cell_type": "code",
   "execution_count": null,
   "metadata": {},
   "outputs": [],
   "source": [
    "for resolution in [250, 4000]:\n",
    "    for region in [\"ak\", \"conus\"]:\n",
    "        files = get_files(region, resolution)\n",
    "        crs, extent = projections(\"albers\", region)\n",
    "        for f in files:\n",
    "            if \"error\" in str(f[\"source\"]):\n",
    "                resampling = \"average\"\n",
    "            elif resolution == 4000:\n",
    "                resampling = \"mode\"\n",
    "            else:\n",
    "                resampling = \"near\"\n",
    "            cmd = (\n",
    "                \"gdalwarp \"\n",
    "                \"-t_srs '%s' \"\n",
    "                \"-te %s \"\n",
    "                \"-tr %s %s \"\n",
    "                \"-r %s \"\n",
    "                \"%s \"\n",
    "                \"%s\"\n",
    "            ) % (\n",
    "                crs,\n",
    "                extent,\n",
    "                resolution,\n",
    "                resolution,\n",
    "                resampling,\n",
    "                f[\"source\"],\n",
    "                \"./raster.tif\",\n",
    "            )\n",
    "            os.system(cmd)\n",
    "            cog_translate(\"./raster.tif\", \"./raster.tif\", dst_profile)\n",
    "            upload(\"./raster.tif\", f[\"target\"])\n",
    "            os.remove(\"./raster.tif\")"
   ]
  },
  {
   "cell_type": "markdown",
   "metadata": {},
   "source": [
    "### downsample using thresholding\n"
   ]
  },
  {
   "cell_type": "code",
   "execution_count": null,
   "metadata": {},
   "outputs": [],
   "source": [
    "groups = [\n",
    "    100,\n",
    "    120,\n",
    "    140,\n",
    "    160,\n",
    "    180,\n",
    "    200,\n",
    "    220,\n",
    "    240,\n",
    "    260,\n",
    "    280,\n",
    "    300,\n",
    "    320,\n",
    "    340,\n",
    "    360,\n",
    "    370,\n",
    "    380,\n",
    "    400,\n",
    "    500,\n",
    "    600,\n",
    "    700,\n",
    "    800,\n",
    "    900,\n",
    "    910,\n",
    "    920,\n",
    "    940,\n",
    "    950,\n",
    "    980,\n",
    "    990,\n",
    "]"
   ]
  },
  {
   "cell_type": "code",
   "execution_count": null,
   "metadata": {},
   "outputs": [],
   "source": [
    "for resolution in [4000]:\n",
    "    for region in [\"ak\", \"conus\"]:\n",
    "        src = rasterio.open(workdir / f\"processed/nftd/{region}/250m/group.tif\")\n",
    "        band = src.read(1)\n",
    "        profile = src.profile\n",
    "        profile[\"dtype\"] = \"uint8\"\n",
    "\n",
    "        for group in groups:\n",
    "            print(f\"region {region} cat {group}\")\n",
    "            crs, extent = projections(\"albers\", region)\n",
    "            out = (band == group).astype(rasterio.uint8)\n",
    "            resampling = \"average\"\n",
    "\n",
    "            with rasterio.open(\"./thresholded.tif\", \"w\", **profile) as dst:\n",
    "                dst.write(out, 1)\n",
    "\n",
    "            cmd = (\n",
    "                \"gdalwarp \"\n",
    "                \"-t_srs '%s' \"\n",
    "                \"-te %s \"\n",
    "                \"-tr %s %s \"\n",
    "                \"-r %s \"\n",
    "                \"-ot Float32 \"\n",
    "                \"%s \"\n",
    "                \"%s\"\n",
    "            ) % (\n",
    "                crs,\n",
    "                extent,\n",
    "                resolution,\n",
    "                resolution,\n",
    "                resampling,\n",
    "                \"./thresholded.tif\",\n",
    "                \"./raster.tif\",\n",
    "            )\n",
    "\n",
    "            os.system(cmd)\n",
    "            cog_translate(\"./raster.tif\", \"./raster.tif\", dst_profile)\n",
    "            upload(\n",
    "                \"./raster.tif\",\n",
    "                f\"processed/nftd/{region}/{resolution}m/group_g{group}.tif\",\n",
    "            )\n",
    "            os.remove(\"./thresholded.tif\")\n",
    "            os.remove(\"./raster.tif\")"
   ]
  }
 ],
 "metadata": {
  "kernelspec": {
   "display_name": "Python 3",
   "language": "python",
   "name": "python3"
  },
  "language_info": {
   "codemirror_mode": {
    "name": "ipython",
    "version": 3
   },
   "file_extension": ".py",
   "mimetype": "text/x-python",
   "name": "python",
   "nbconvert_exporter": "python",
   "pygments_lexer": "ipython3",
   "version": "3.7.8"
  }
 },
 "nbformat": 4,
 "nbformat_minor": 4
}
