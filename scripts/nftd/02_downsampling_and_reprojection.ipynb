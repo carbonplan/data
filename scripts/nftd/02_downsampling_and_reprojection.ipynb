{
 "cells": [
  {
   "cell_type": "markdown",
   "metadata": {},
   "source": [
    "<img width=\"50\" src=\"https://carbonplan-assets.s3.amazonaws.com/monogram/dark-small.png\" style=\"margin-left:0px;margin-top:20px\"/>\n",
    "\n",
    "# NFTD downsampling and reprojection\n",
    "\n",
    "_by Jeremy Freeman (CarbonPlan), August 2, 2020_\n",
    "\n",
    "This notebook downsamples and reprojects NFTD 250m yearly rasters stored in\n",
    "Cloud Optimized GeoTIFF into 250m and 4000m GeoTIFFs.\n",
    "\n",
    "**Inputs:**\n",
    "\n",
    "- COG outputs from `01_nftd_to_cogs.ipynb`\n",
    "\n",
    "**Outputs:**\n",
    "\n",
    "- COG outputs after downsampling and reprojection\n",
    "\n",
    "**Notes:**\n",
    "\n",
    "- Source CRS and projection extent come from NLCD\n"
   ]
  },
  {
   "cell_type": "code",
   "execution_count": 43,
   "metadata": {},
   "outputs": [],
   "source": [
    "import os"
   ]
  },
  {
   "cell_type": "code",
   "execution_count": 44,
   "metadata": {},
   "outputs": [],
   "source": [
    "from carbonplan_data.utils import projections, setup\n",
    "\n",
    "workdir, upload = setup(\"jeremy\")"
   ]
  },
  {
   "cell_type": "code",
   "execution_count": 3,
   "metadata": {},
   "outputs": [],
   "source": [
    "from rio_cogeo.cogeo import cog_translate\n",
    "from rio_cogeo.profiles import cog_profiles\n",
    "import rasterio\n",
    "\n",
    "dst_profile = cog_profiles.get(\"deflate\")"
   ]
  },
  {
   "cell_type": "code",
   "execution_count": 4,
   "metadata": {},
   "outputs": [],
   "source": [
    "def get_files(region, resolution):\n",
    "    return [\n",
    "        {\n",
    "            \"source\": workdir / f\"raw/nftd/{region}_foresttype/250m/raster.tif\",\n",
    "            \"target\": f\"processed/nftd/{region}/{resolution}m/type.tif\",\n",
    "        },\n",
    "        {\n",
    "            \"source\": workdir / f\"raw/nftd/{region}_forestgroup/250m/raster.tif\",\n",
    "            \"target\": f\"processed/nftd/{region}/{resolution}m/group.tif\",\n",
    "        },\n",
    "        {\n",
    "            \"source\": workdir / f\"raw/nftd/{region}_foresttype/250m/error.tif\",\n",
    "            \"target\": f\"processed/nftd/{region}/{resolution}m/type_error.tif\",\n",
    "        },\n",
    "        {\n",
    "            \"source\": workdir / f\"raw/nftd/{region}_forestgroup/250m/error.tif\",\n",
    "            \"target\": f\"processed/nftd/{region}/{resolution}m/group_error.tif\",\n",
    "        },\n",
    "    ]"
   ]
  },
  {
   "cell_type": "code",
   "execution_count": null,
   "metadata": {},
   "outputs": [],
   "source": [
    "for resolution in [250, 4000]:\n",
    "    for region in [\"ak\", \"conus\"]:\n",
    "        files = get_files(region, resolution)\n",
    "        crs, extent = projections(\"albers\", region)\n",
    "        for f in files:\n",
    "            if \"error\" in str(f[\"source\"]):\n",
    "                resampling = \"average\"\n",
    "            elif resolution == 4000:\n",
    "                resampling = \"mode\"\n",
    "            else:\n",
    "                resampling = \"near\"\n",
    "            cmd = (\n",
    "                \"gdalwarp \"\n",
    "                \"-t_srs '%s' \"\n",
    "                \"-te %s \"\n",
    "                \"-tr %s %s \"\n",
    "                \"-r %s \"\n",
    "                \"%s \"\n",
    "                \"%s\"\n",
    "            ) % (\n",
    "                crs,\n",
    "                extent,\n",
    "                resolution,\n",
    "                resolution,\n",
    "                resampling,\n",
    "                f[\"source\"],\n",
    "                \"./raster.tif\",\n",
    "            )\n",
    "            os.system(cmd)\n",
    "            cog_translate(\"./raster.tif\", \"./raster.tif\", dst_profile)\n",
    "            upload(\"./raster.tif\", f[\"target\"])\n",
    "            os.remove(\"./raster.tif\")"
   ]
  },
  {
   "cell_type": "markdown",
   "metadata": {},
   "source": [
    "### downsample using thresholding"
   ]
  },
  {
   "cell_type": "code",
   "execution_count": 5,
   "metadata": {},
   "outputs": [],
   "source": [
    "groups = [100, 120, 140, 160, 180, 200, 220, 240, 260, 280, 300, 320,\n",
    "       340, 360, 370, 380, 400, 500, 600, 700, 800, 900, 910, 920, 940,\n",
    "       950, 980, 990]"
   ]
  },
  {
   "cell_type": "code",
   "execution_count": 11,
   "metadata": {},
   "outputs": [
    {
     "name": "stdout",
     "output_type": "stream",
     "text": [
      "region ak cat 100\n"
     ]
    },
    {
     "name": "stderr",
     "output_type": "stream",
     "text": [
      "/usr/local/lib/python3.8/site-packages/rio_cogeo/cogeo.py:154: IncompatibleBlockRasterSize: Block Size are bigger than raster sizes. Setting blocksize to 256\n",
      "  warnings.warn(\n",
      "Reading input: ./raster.tif\n",
      "Adding overviews...\n",
      "Updating dataset tags...\n",
      "Writing output to: ./raster.tif\n"
     ]
    },
    {
     "name": "stdout",
     "output_type": "stream",
     "text": [
      "region ak cat 120\n"
     ]
    },
    {
     "name": "stderr",
     "output_type": "stream",
     "text": [
      "Reading input: ./raster.tif\n",
      "Adding overviews...\n",
      "Updating dataset tags...\n",
      "Writing output to: ./raster.tif\n"
     ]
    },
    {
     "name": "stdout",
     "output_type": "stream",
     "text": [
      "region ak cat 140\n"
     ]
    },
    {
     "name": "stderr",
     "output_type": "stream",
     "text": [
      "Reading input: ./raster.tif\n",
      "Adding overviews...\n",
      "Updating dataset tags...\n",
      "Writing output to: ./raster.tif\n"
     ]
    },
    {
     "name": "stdout",
     "output_type": "stream",
     "text": [
      "region ak cat 160\n"
     ]
    },
    {
     "name": "stderr",
     "output_type": "stream",
     "text": [
      "Reading input: ./raster.tif\n",
      "Adding overviews...\n",
      "Updating dataset tags...\n",
      "Writing output to: ./raster.tif\n"
     ]
    },
    {
     "name": "stdout",
     "output_type": "stream",
     "text": [
      "region ak cat 180\n"
     ]
    },
    {
     "name": "stderr",
     "output_type": "stream",
     "text": [
      "Reading input: ./raster.tif\n",
      "Adding overviews...\n",
      "Updating dataset tags...\n",
      "Writing output to: ./raster.tif\n"
     ]
    },
    {
     "name": "stdout",
     "output_type": "stream",
     "text": [
      "region ak cat 200\n"
     ]
    },
    {
     "name": "stderr",
     "output_type": "stream",
     "text": [
      "Reading input: ./raster.tif\n",
      "Adding overviews...\n",
      "Updating dataset tags...\n",
      "Writing output to: ./raster.tif\n"
     ]
    },
    {
     "name": "stdout",
     "output_type": "stream",
     "text": [
      "region ak cat 220\n"
     ]
    },
    {
     "name": "stderr",
     "output_type": "stream",
     "text": [
      "Reading input: ./raster.tif\n",
      "Adding overviews...\n",
      "Updating dataset tags...\n",
      "Writing output to: ./raster.tif\n"
     ]
    },
    {
     "name": "stdout",
     "output_type": "stream",
     "text": [
      "region ak cat 240\n"
     ]
    },
    {
     "name": "stderr",
     "output_type": "stream",
     "text": [
      "Reading input: ./raster.tif\n",
      "Adding overviews...\n",
      "Updating dataset tags...\n",
      "Writing output to: ./raster.tif\n"
     ]
    },
    {
     "name": "stdout",
     "output_type": "stream",
     "text": [
      "region ak cat 260\n"
     ]
    },
    {
     "name": "stderr",
     "output_type": "stream",
     "text": [
      "Reading input: ./raster.tif\n",
      "Adding overviews...\n",
      "Updating dataset tags...\n",
      "Writing output to: ./raster.tif\n"
     ]
    },
    {
     "name": "stdout",
     "output_type": "stream",
     "text": [
      "region ak cat 280\n"
     ]
    },
    {
     "name": "stderr",
     "output_type": "stream",
     "text": [
      "Reading input: ./raster.tif\n",
      "Adding overviews...\n",
      "Updating dataset tags...\n",
      "Writing output to: ./raster.tif\n"
     ]
    },
    {
     "name": "stdout",
     "output_type": "stream",
     "text": [
      "region ak cat 300\n"
     ]
    },
    {
     "name": "stderr",
     "output_type": "stream",
     "text": [
      "Reading input: ./raster.tif\n",
      "Adding overviews...\n",
      "Updating dataset tags...\n",
      "Writing output to: ./raster.tif\n"
     ]
    },
    {
     "name": "stdout",
     "output_type": "stream",
     "text": [
      "region ak cat 320\n"
     ]
    },
    {
     "name": "stderr",
     "output_type": "stream",
     "text": [
      "Reading input: ./raster.tif\n",
      "Adding overviews...\n",
      "Updating dataset tags...\n",
      "Writing output to: ./raster.tif\n"
     ]
    },
    {
     "name": "stdout",
     "output_type": "stream",
     "text": [
      "region ak cat 340\n"
     ]
    },
    {
     "name": "stderr",
     "output_type": "stream",
     "text": [
      "Reading input: ./raster.tif\n",
      "Adding overviews...\n",
      "Updating dataset tags...\n",
      "Writing output to: ./raster.tif\n"
     ]
    },
    {
     "name": "stdout",
     "output_type": "stream",
     "text": [
      "region ak cat 360\n"
     ]
    },
    {
     "name": "stderr",
     "output_type": "stream",
     "text": [
      "Reading input: ./raster.tif\n",
      "Adding overviews...\n",
      "Updating dataset tags...\n",
      "Writing output to: ./raster.tif\n"
     ]
    },
    {
     "name": "stdout",
     "output_type": "stream",
     "text": [
      "region ak cat 370\n"
     ]
    },
    {
     "name": "stderr",
     "output_type": "stream",
     "text": [
      "Reading input: ./raster.tif\n",
      "Adding overviews...\n",
      "Updating dataset tags...\n",
      "Writing output to: ./raster.tif\n"
     ]
    },
    {
     "name": "stdout",
     "output_type": "stream",
     "text": [
      "region ak cat 380\n"
     ]
    },
    {
     "name": "stderr",
     "output_type": "stream",
     "text": [
      "Reading input: ./raster.tif\n",
      "Adding overviews...\n",
      "Updating dataset tags...\n",
      "Writing output to: ./raster.tif\n"
     ]
    },
    {
     "name": "stdout",
     "output_type": "stream",
     "text": [
      "region ak cat 400\n"
     ]
    },
    {
     "name": "stderr",
     "output_type": "stream",
     "text": [
      "Reading input: ./raster.tif\n",
      "Adding overviews...\n",
      "Updating dataset tags...\n",
      "Writing output to: ./raster.tif\n"
     ]
    },
    {
     "name": "stdout",
     "output_type": "stream",
     "text": [
      "region ak cat 500\n"
     ]
    },
    {
     "name": "stderr",
     "output_type": "stream",
     "text": [
      "Reading input: ./raster.tif\n",
      "Adding overviews...\n",
      "Updating dataset tags...\n",
      "Writing output to: ./raster.tif\n"
     ]
    },
    {
     "name": "stdout",
     "output_type": "stream",
     "text": [
      "region ak cat 600\n"
     ]
    },
    {
     "name": "stderr",
     "output_type": "stream",
     "text": [
      "Reading input: ./raster.tif\n",
      "Adding overviews...\n",
      "Updating dataset tags...\n",
      "Writing output to: ./raster.tif\n"
     ]
    },
    {
     "name": "stdout",
     "output_type": "stream",
     "text": [
      "region ak cat 700\n"
     ]
    },
    {
     "name": "stderr",
     "output_type": "stream",
     "text": [
      "Reading input: ./raster.tif\n",
      "Adding overviews...\n",
      "Updating dataset tags...\n",
      "Writing output to: ./raster.tif\n"
     ]
    },
    {
     "name": "stdout",
     "output_type": "stream",
     "text": [
      "region ak cat 800\n"
     ]
    },
    {
     "name": "stderr",
     "output_type": "stream",
     "text": [
      "Reading input: ./raster.tif\n",
      "Adding overviews...\n",
      "Updating dataset tags...\n",
      "Writing output to: ./raster.tif\n"
     ]
    },
    {
     "name": "stdout",
     "output_type": "stream",
     "text": [
      "region ak cat 900\n"
     ]
    },
    {
     "name": "stderr",
     "output_type": "stream",
     "text": [
      "Reading input: ./raster.tif\n",
      "Adding overviews...\n",
      "Updating dataset tags...\n",
      "Writing output to: ./raster.tif\n"
     ]
    },
    {
     "name": "stdout",
     "output_type": "stream",
     "text": [
      "region ak cat 910\n"
     ]
    },
    {
     "name": "stderr",
     "output_type": "stream",
     "text": [
      "Reading input: ./raster.tif\n",
      "Adding overviews...\n",
      "Updating dataset tags...\n",
      "Writing output to: ./raster.tif\n"
     ]
    },
    {
     "name": "stdout",
     "output_type": "stream",
     "text": [
      "region ak cat 920\n"
     ]
    },
    {
     "name": "stderr",
     "output_type": "stream",
     "text": [
      "Reading input: ./raster.tif\n",
      "Adding overviews...\n",
      "Updating dataset tags...\n",
      "Writing output to: ./raster.tif\n"
     ]
    },
    {
     "name": "stdout",
     "output_type": "stream",
     "text": [
      "region ak cat 940\n"
     ]
    },
    {
     "name": "stderr",
     "output_type": "stream",
     "text": [
      "Reading input: ./raster.tif\n",
      "Adding overviews...\n",
      "Updating dataset tags...\n",
      "Writing output to: ./raster.tif\n"
     ]
    },
    {
     "name": "stdout",
     "output_type": "stream",
     "text": [
      "region ak cat 950\n"
     ]
    },
    {
     "name": "stderr",
     "output_type": "stream",
     "text": [
      "Reading input: ./raster.tif\n",
      "Adding overviews...\n",
      "Updating dataset tags...\n",
      "Writing output to: ./raster.tif\n"
     ]
    },
    {
     "name": "stdout",
     "output_type": "stream",
     "text": [
      "region ak cat 980\n"
     ]
    },
    {
     "name": "stderr",
     "output_type": "stream",
     "text": [
      "Reading input: ./raster.tif\n",
      "Adding overviews...\n",
      "Updating dataset tags...\n",
      "Writing output to: ./raster.tif\n"
     ]
    },
    {
     "name": "stdout",
     "output_type": "stream",
     "text": [
      "region ak cat 990\n"
     ]
    },
    {
     "name": "stderr",
     "output_type": "stream",
     "text": [
      "Reading input: ./raster.tif\n",
      "Adding overviews...\n",
      "Updating dataset tags...\n",
      "Writing output to: ./raster.tif\n"
     ]
    },
    {
     "name": "stdout",
     "output_type": "stream",
     "text": [
      "region conus cat 100\n"
     ]
    },
    {
     "name": "stderr",
     "output_type": "stream",
     "text": [
      "Reading input: ./raster.tif\n",
      "Adding overviews...\n",
      "Updating dataset tags...\n",
      "Writing output to: ./raster.tif\n"
     ]
    },
    {
     "name": "stdout",
     "output_type": "stream",
     "text": [
      "region conus cat 120\n"
     ]
    },
    {
     "name": "stderr",
     "output_type": "stream",
     "text": [
      "Reading input: ./raster.tif\n",
      "Adding overviews...\n",
      "Updating dataset tags...\n",
      "Writing output to: ./raster.tif\n"
     ]
    },
    {
     "name": "stdout",
     "output_type": "stream",
     "text": [
      "region conus cat 140\n"
     ]
    },
    {
     "name": "stderr",
     "output_type": "stream",
     "text": [
      "Reading input: ./raster.tif\n",
      "Adding overviews...\n",
      "Updating dataset tags...\n",
      "Writing output to: ./raster.tif\n"
     ]
    },
    {
     "name": "stdout",
     "output_type": "stream",
     "text": [
      "region conus cat 160\n"
     ]
    },
    {
     "name": "stderr",
     "output_type": "stream",
     "text": [
      "Reading input: ./raster.tif\n",
      "Adding overviews...\n",
      "Updating dataset tags...\n",
      "Writing output to: ./raster.tif\n"
     ]
    },
    {
     "name": "stdout",
     "output_type": "stream",
     "text": [
      "region conus cat 180\n"
     ]
    },
    {
     "name": "stderr",
     "output_type": "stream",
     "text": [
      "Reading input: ./raster.tif\n",
      "Adding overviews...\n",
      "Updating dataset tags...\n",
      "Writing output to: ./raster.tif\n"
     ]
    },
    {
     "name": "stdout",
     "output_type": "stream",
     "text": [
      "region conus cat 200\n"
     ]
    },
    {
     "name": "stderr",
     "output_type": "stream",
     "text": [
      "Reading input: ./raster.tif\n",
      "Adding overviews...\n",
      "Updating dataset tags...\n",
      "Writing output to: ./raster.tif\n"
     ]
    },
    {
     "name": "stdout",
     "output_type": "stream",
     "text": [
      "region conus cat 220\n"
     ]
    },
    {
     "name": "stderr",
     "output_type": "stream",
     "text": [
      "Reading input: ./raster.tif\n",
      "Adding overviews...\n",
      "Updating dataset tags...\n",
      "Writing output to: ./raster.tif\n"
     ]
    },
    {
     "name": "stdout",
     "output_type": "stream",
     "text": [
      "region conus cat 240\n"
     ]
    },
    {
     "name": "stderr",
     "output_type": "stream",
     "text": [
      "Reading input: ./raster.tif\n",
      "Adding overviews...\n",
      "Updating dataset tags...\n",
      "Writing output to: ./raster.tif\n"
     ]
    },
    {
     "name": "stdout",
     "output_type": "stream",
     "text": [
      "region conus cat 260\n"
     ]
    },
    {
     "name": "stderr",
     "output_type": "stream",
     "text": [
      "Reading input: ./raster.tif\n",
      "Adding overviews...\n",
      "Updating dataset tags...\n",
      "Writing output to: ./raster.tif\n"
     ]
    },
    {
     "name": "stdout",
     "output_type": "stream",
     "text": [
      "region conus cat 280\n"
     ]
    },
    {
     "name": "stderr",
     "output_type": "stream",
     "text": [
      "Reading input: ./raster.tif\n",
      "Adding overviews...\n",
      "Updating dataset tags...\n",
      "Writing output to: ./raster.tif\n"
     ]
    },
    {
     "name": "stdout",
     "output_type": "stream",
     "text": [
      "region conus cat 300\n"
     ]
    },
    {
     "name": "stderr",
     "output_type": "stream",
     "text": [
      "Reading input: ./raster.tif\n",
      "Adding overviews...\n",
      "Updating dataset tags...\n",
      "Writing output to: ./raster.tif\n"
     ]
    },
    {
     "name": "stdout",
     "output_type": "stream",
     "text": [
      "region conus cat 320\n"
     ]
    },
    {
     "name": "stderr",
     "output_type": "stream",
     "text": [
      "Reading input: ./raster.tif\n",
      "Adding overviews...\n",
      "Updating dataset tags...\n",
      "Writing output to: ./raster.tif\n"
     ]
    },
    {
     "name": "stdout",
     "output_type": "stream",
     "text": [
      "region conus cat 340\n"
     ]
    },
    {
     "name": "stderr",
     "output_type": "stream",
     "text": [
      "Reading input: ./raster.tif\n",
      "Adding overviews...\n",
      "Updating dataset tags...\n",
      "Writing output to: ./raster.tif\n"
     ]
    },
    {
     "name": "stdout",
     "output_type": "stream",
     "text": [
      "region conus cat 360\n"
     ]
    },
    {
     "name": "stderr",
     "output_type": "stream",
     "text": [
      "Reading input: ./raster.tif\n",
      "Adding overviews...\n",
      "Updating dataset tags...\n",
      "Writing output to: ./raster.tif\n"
     ]
    },
    {
     "name": "stdout",
     "output_type": "stream",
     "text": [
      "region conus cat 370\n"
     ]
    },
    {
     "name": "stderr",
     "output_type": "stream",
     "text": [
      "Reading input: ./raster.tif\n",
      "Adding overviews...\n",
      "Updating dataset tags...\n",
      "Writing output to: ./raster.tif\n"
     ]
    },
    {
     "name": "stdout",
     "output_type": "stream",
     "text": [
      "region conus cat 380\n"
     ]
    },
    {
     "name": "stderr",
     "output_type": "stream",
     "text": [
      "Reading input: ./raster.tif\n",
      "Adding overviews...\n",
      "Updating dataset tags...\n",
      "Writing output to: ./raster.tif\n"
     ]
    },
    {
     "name": "stdout",
     "output_type": "stream",
     "text": [
      "region conus cat 400\n"
     ]
    },
    {
     "name": "stderr",
     "output_type": "stream",
     "text": [
      "Reading input: ./raster.tif\n",
      "Adding overviews...\n",
      "Updating dataset tags...\n",
      "Writing output to: ./raster.tif\n"
     ]
    },
    {
     "name": "stdout",
     "output_type": "stream",
     "text": [
      "region conus cat 500\n"
     ]
    },
    {
     "name": "stderr",
     "output_type": "stream",
     "text": [
      "Reading input: ./raster.tif\n",
      "Adding overviews...\n",
      "Updating dataset tags...\n",
      "Writing output to: ./raster.tif\n"
     ]
    },
    {
     "name": "stdout",
     "output_type": "stream",
     "text": [
      "region conus cat 600\n"
     ]
    },
    {
     "name": "stderr",
     "output_type": "stream",
     "text": [
      "Reading input: ./raster.tif\n",
      "Adding overviews...\n",
      "Updating dataset tags...\n",
      "Writing output to: ./raster.tif\n"
     ]
    },
    {
     "name": "stdout",
     "output_type": "stream",
     "text": [
      "region conus cat 700\n"
     ]
    },
    {
     "name": "stderr",
     "output_type": "stream",
     "text": [
      "Reading input: ./raster.tif\n",
      "Adding overviews...\n",
      "Updating dataset tags...\n",
      "Writing output to: ./raster.tif\n"
     ]
    },
    {
     "name": "stdout",
     "output_type": "stream",
     "text": [
      "region conus cat 800\n"
     ]
    },
    {
     "name": "stderr",
     "output_type": "stream",
     "text": [
      "Reading input: ./raster.tif\n",
      "Adding overviews...\n",
      "Updating dataset tags...\n",
      "Writing output to: ./raster.tif\n"
     ]
    },
    {
     "name": "stdout",
     "output_type": "stream",
     "text": [
      "region conus cat 900\n"
     ]
    },
    {
     "name": "stderr",
     "output_type": "stream",
     "text": [
      "Reading input: ./raster.tif\n",
      "Adding overviews...\n",
      "Updating dataset tags...\n",
      "Writing output to: ./raster.tif\n"
     ]
    },
    {
     "name": "stdout",
     "output_type": "stream",
     "text": [
      "region conus cat 910\n"
     ]
    },
    {
     "name": "stderr",
     "output_type": "stream",
     "text": [
      "Reading input: ./raster.tif\n",
      "Adding overviews...\n",
      "Updating dataset tags...\n",
      "Writing output to: ./raster.tif\n"
     ]
    },
    {
     "name": "stdout",
     "output_type": "stream",
     "text": [
      "region conus cat 920\n"
     ]
    },
    {
     "name": "stderr",
     "output_type": "stream",
     "text": [
      "Reading input: ./raster.tif\n",
      "Adding overviews...\n",
      "Updating dataset tags...\n",
      "Writing output to: ./raster.tif\n"
     ]
    },
    {
     "name": "stdout",
     "output_type": "stream",
     "text": [
      "region conus cat 940\n"
     ]
    },
    {
     "name": "stderr",
     "output_type": "stream",
     "text": [
      "Reading input: ./raster.tif\n",
      "Adding overviews...\n",
      "Updating dataset tags...\n",
      "Writing output to: ./raster.tif\n"
     ]
    },
    {
     "name": "stdout",
     "output_type": "stream",
     "text": [
      "region conus cat 950\n"
     ]
    },
    {
     "name": "stderr",
     "output_type": "stream",
     "text": [
      "Reading input: ./raster.tif\n",
      "Adding overviews...\n",
      "Updating dataset tags...\n",
      "Writing output to: ./raster.tif\n"
     ]
    },
    {
     "name": "stdout",
     "output_type": "stream",
     "text": [
      "region conus cat 980\n"
     ]
    },
    {
     "name": "stderr",
     "output_type": "stream",
     "text": [
      "Reading input: ./raster.tif\n",
      "Adding overviews...\n",
      "Updating dataset tags...\n",
      "Writing output to: ./raster.tif\n"
     ]
    },
    {
     "name": "stdout",
     "output_type": "stream",
     "text": [
      "region conus cat 990\n"
     ]
    },
    {
     "name": "stderr",
     "output_type": "stream",
     "text": [
      "Reading input: ./raster.tif\n",
      "Adding overviews...\n",
      "Updating dataset tags...\n",
      "Writing output to: ./raster.tif\n"
     ]
    }
   ],
   "source": [
    "for resolution in [4000]:\n",
    "    for region in [\"ak\", \"conus\"]:\n",
    "        src = rasterio.open(workdir / f\"processed/nftd/{region}/250m/group.tif\")\n",
    "        band = src.read(1)\n",
    "        profile = src.profile\n",
    "        profile['dtype'] = 'uint8'\n",
    "\n",
    "        for group in groups:\n",
    "            print(f\"region {region} cat {group}\")\n",
    "            crs, extent = projections(\"albers\", region)\n",
    "            out = (band == group).astype(rasterio.uint8)\n",
    "            resampling = \"average\"\n",
    "            \n",
    "            with rasterio.open(\"./thresholded.tif\", \"w\", **profile) as dst:\n",
    "                dst.write(out, 1)\n",
    "\n",
    "            cmd = (\n",
    "                \"gdalwarp \"\n",
    "                \"-t_srs '%s' \"\n",
    "                \"-te %s \"\n",
    "                \"-tr %s %s \"\n",
    "                \"-r %s \"\n",
    "                \"-ot Float32 \"\n",
    "                \"%s \"\n",
    "                \"%s\"\n",
    "            ) % (\n",
    "                crs,\n",
    "                extent,\n",
    "                resolution,\n",
    "                resolution,\n",
    "                resampling,\n",
    "                \"./thresholded.tif\",\n",
    "                \"./raster.tif\",\n",
    "            )\n",
    "\n",
    "            os.system(cmd)\n",
    "            cog_translate(\"./raster.tif\", \"./raster.tif\", dst_profile)\n",
    "            upload(\"./raster.tif\", f\"processed/nftd/{region}/{resolution}m/group_g{group}.tif\")\n",
    "            os.remove(\"./thresholded.tif\")\n",
    "            os.remove(\"./raster.tif\")"
   ]
  },
  {
   "cell_type": "code",
   "execution_count": null,
   "metadata": {},
   "outputs": [],
   "source": []
  }
 ],
 "metadata": {
  "kernelspec": {
   "display_name": "Python 3",
   "language": "python",
   "name": "python3"
  },
  "language_info": {
   "codemirror_mode": {
    "name": "ipython",
    "version": 3
   },
   "file_extension": ".py",
   "mimetype": "text/x-python",
   "name": "python",
   "nbconvert_exporter": "python",
   "pygments_lexer": "ipython3",
   "version": "3.8.5"
  }
 },
 "nbformat": 4,
 "nbformat_minor": 4
}
