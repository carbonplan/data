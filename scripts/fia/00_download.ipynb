{
 "cells": [
  {
   "cell_type": "markdown",
   "metadata": {},
   "source": [
    "<img width=\"100\" src=\"https://carbonplan-assets.s3.amazonaws.com/monogram/dark-small.png\" style=\"margin-left:0px;margin-top:20px\"/>\n",
    "\n",
    "# Download FIA Database\n",
    "\n",
    "_by Joe Hamman (CarbonPlan), June 29, 2020_\n",
    "\n",
    "This notebook downloads local copies of the FIA database for processing.\n",
    "\n",
    "**Inputs:**\n",
    "- sources.yaml\n",
    "\n",
    "**Outputs:**\n",
    "- Local copies of the FIA database\n",
    "\n",
    "**Notes:**\n",
    "- No reprojection or processing of the data is done in this notebook."
   ]
  },
  {
   "cell_type": "code",
   "execution_count": null,
   "metadata": {},
   "outputs": [],
   "source": [
    "from .._utils import process_sources"
   ]
  },
  {
   "cell_type": "code",
   "execution_count": 1,
   "metadata": {},
   "outputs": [
    {
     "data": {
      "text/plain": [
       "PosixPath('/Users/jhamman/workdir/carbonplan_data_downloads/fia')"
      ]
     },
     "execution_count": 1,
     "metadata": {},
     "output_type": "execute_result"
    }
   ],
   "source": [
    "import os\n",
    "\n",
    "import pathlib\n",
    "import urlpath\n",
    "import yaml\n",
    "import wget\n",
    "import zipfile\n",
    "\n",
    "\n",
    "workdir = pathlib.Path('/Users/jhamman/workdir/carbonplan_data_downloads/fia/')\n",
    "workdir.mkdir(parents=True, exist_ok=True)\n",
    "workdir"
   ]
  },
  {
   "cell_type": "code",
   "execution_count": 2,
   "metadata": {},
   "outputs": [],
   "source": [
    "with open('../../intake-catalogs/sources.yaml') as f:\n",
    "    sources = yaml.load(f, Loader=yaml.FullLoader)['fia']"
   ]
  },
  {
   "cell_type": "code",
   "execution_count": 3,
   "metadata": {},
   "outputs": [
    {
     "data": {
      "text/plain": [
       "{'description': 'Raw datasets from Forest Inventory Analysis',\n",
       " 'metadata': {'url': 'https://apps.fs.usda.gov/fia/datamart/datamart.html'},\n",
       " 'data': {'entire': {'actions': ['download', 'unzip'],\n",
       "   'urlpath': ['https://apps.fs.usda.gov/fia/datamart/CSV/ENTIRE.zip']}}}"
      ]
     },
     "execution_count": 3,
     "metadata": {},
     "output_type": "execute_result"
    }
   ],
   "source": [
    "sources"
   ]
  },
  {
   "cell_type": "code",
   "execution_count": 6,
   "metadata": {},
   "outputs": [
    {
     "name": "stdout",
     "output_type": "stream",
     "text": [
      "downloading https://apps.fs.usda.gov/fia/datamart/CSV/ENTIRE.zip\n",
      "extracting contents of /Users/jhamman/workdir/carbonplan_data_downloads/fia/ENTIRE.zip\n"
     ]
    }
   ],
   "source": [
    "for key, dset in sources['data'].items():\n",
    "    if 'download' in dset['actions']:\n",
    "        for url in dset['urlpath']:\n",
    "            url = urlpath.URL(url)\n",
    "            out = workdir / url.name\n",
    "            if not out.exists():\n",
    "                print(f'downloading {url}')\n",
    "                wget.download(str(url), out=str(out))\n",
    "            \n",
    "            if 'unzip' in dset['actions']:\n",
    "                outdir = workdir / out.stem\n",
    "                if not outdir.exists():\n",
    "                    outdir.mkdir(parents=True)\n",
    "                    with zipfile.ZipFile(out, 'r') as f:\n",
    "                        print(f'extracting contents of {out}')\n",
    "                        f.extractall(outdir)"
   ]
  },
  {
   "cell_type": "code",
   "execution_count": 7,
   "metadata": {},
   "outputs": [
    {
     "name": "stdout",
     "output_type": "stream",
     "text": [
      "here\n"
     ]
    }
   ],
   "source": [
    "print('here')"
   ]
  },
  {
   "cell_type": "code",
   "execution_count": 8,
   "metadata": {},
   "outputs": [],
   "source": [
    "import pandas as pd"
   ]
  },
  {
   "cell_type": "code",
   "execution_count": 10,
   "metadata": {},
   "outputs": [
    {
     "data": {
      "text/html": [
       "<div>\n",
       "<style scoped>\n",
       "    .dataframe tbody tr th:only-of-type {\n",
       "        vertical-align: middle;\n",
       "    }\n",
       "\n",
       "    .dataframe tbody tr th {\n",
       "        vertical-align: top;\n",
       "    }\n",
       "\n",
       "    .dataframe thead th {\n",
       "        text-align: right;\n",
       "    }\n",
       "</style>\n",
       "<table border=\"1\" class=\"dataframe\">\n",
       "  <thead>\n",
       "    <tr style=\"text-align: right;\">\n",
       "      <th></th>\n",
       "      <th>CN</th>\n",
       "      <th>PLT_CN</th>\n",
       "      <th>INVYR</th>\n",
       "      <th>STATECD</th>\n",
       "      <th>UNITCD</th>\n",
       "      <th>COUNTYCD</th>\n",
       "      <th>PLOT</th>\n",
       "      <th>SUBP</th>\n",
       "      <th>SUBPTYP</th>\n",
       "      <th>BNDCHG</th>\n",
       "      <th>...</th>\n",
       "      <th>DISTCORN</th>\n",
       "      <th>AZMRIGHT</th>\n",
       "      <th>CYCLE</th>\n",
       "      <th>SUBCYCLE</th>\n",
       "      <th>CREATED_BY</th>\n",
       "      <th>CREATED_DATE</th>\n",
       "      <th>CREATED_IN_INSTANCE</th>\n",
       "      <th>MODIFIED_BY</th>\n",
       "      <th>MODIFIED_DATE</th>\n",
       "      <th>MODIFIED_IN_INSTANCE</th>\n",
       "    </tr>\n",
       "  </thead>\n",
       "  <tbody>\n",
       "    <tr>\n",
       "      <th>0</th>\n",
       "      <td>357483133489998</td>\n",
       "      <td>264159792489998</td>\n",
       "      <td>2015</td>\n",
       "      <td>1</td>\n",
       "      <td>6</td>\n",
       "      <td>79</td>\n",
       "      <td>21</td>\n",
       "      <td>3</td>\n",
       "      <td>1</td>\n",
       "      <td>0.0</td>\n",
       "      <td>...</td>\n",
       "      <td>NaN</td>\n",
       "      <td>200</td>\n",
       "      <td>10</td>\n",
       "      <td>3</td>\n",
       "      <td>NaN</td>\n",
       "      <td>2015-11-17</td>\n",
       "      <td>489998</td>\n",
       "      <td>NaN</td>\n",
       "      <td>NaN</td>\n",
       "      <td>NaN</td>\n",
       "    </tr>\n",
       "    <tr>\n",
       "      <th>1</th>\n",
       "      <td>357483134489998</td>\n",
       "      <td>264159792489998</td>\n",
       "      <td>2015</td>\n",
       "      <td>1</td>\n",
       "      <td>6</td>\n",
       "      <td>79</td>\n",
       "      <td>21</td>\n",
       "      <td>3</td>\n",
       "      <td>2</td>\n",
       "      <td>2.0</td>\n",
       "      <td>...</td>\n",
       "      <td>NaN</td>\n",
       "      <td>4</td>\n",
       "      <td>10</td>\n",
       "      <td>3</td>\n",
       "      <td>NaN</td>\n",
       "      <td>2015-11-17</td>\n",
       "      <td>489998</td>\n",
       "      <td>NaN</td>\n",
       "      <td>NaN</td>\n",
       "      <td>NaN</td>\n",
       "    </tr>\n",
       "    <tr>\n",
       "      <th>2</th>\n",
       "      <td>357483135489998</td>\n",
       "      <td>264159792489998</td>\n",
       "      <td>2015</td>\n",
       "      <td>1</td>\n",
       "      <td>6</td>\n",
       "      <td>79</td>\n",
       "      <td>21</td>\n",
       "      <td>4</td>\n",
       "      <td>1</td>\n",
       "      <td>1.0</td>\n",
       "      <td>...</td>\n",
       "      <td>8.0</td>\n",
       "      <td>169</td>\n",
       "      <td>10</td>\n",
       "      <td>3</td>\n",
       "      <td>NaN</td>\n",
       "      <td>2015-11-17</td>\n",
       "      <td>489998</td>\n",
       "      <td>NaN</td>\n",
       "      <td>NaN</td>\n",
       "      <td>NaN</td>\n",
       "    </tr>\n",
       "    <tr>\n",
       "      <th>3</th>\n",
       "      <td>357483136489998</td>\n",
       "      <td>264159792489998</td>\n",
       "      <td>2015</td>\n",
       "      <td>1</td>\n",
       "      <td>6</td>\n",
       "      <td>79</td>\n",
       "      <td>21</td>\n",
       "      <td>4</td>\n",
       "      <td>2</td>\n",
       "      <td>1.0</td>\n",
       "      <td>...</td>\n",
       "      <td>6.0</td>\n",
       "      <td>290</td>\n",
       "      <td>10</td>\n",
       "      <td>3</td>\n",
       "      <td>NaN</td>\n",
       "      <td>2015-11-17</td>\n",
       "      <td>489998</td>\n",
       "      <td>NaN</td>\n",
       "      <td>NaN</td>\n",
       "      <td>NaN</td>\n",
       "    </tr>\n",
       "    <tr>\n",
       "      <th>4</th>\n",
       "      <td>357483487489998</td>\n",
       "      <td>264159804489998</td>\n",
       "      <td>2015</td>\n",
       "      <td>1</td>\n",
       "      <td>6</td>\n",
       "      <td>79</td>\n",
       "      <td>48</td>\n",
       "      <td>1</td>\n",
       "      <td>1</td>\n",
       "      <td>1.0</td>\n",
       "      <td>...</td>\n",
       "      <td>NaN</td>\n",
       "      <td>156</td>\n",
       "      <td>10</td>\n",
       "      <td>3</td>\n",
       "      <td>NaN</td>\n",
       "      <td>2015-11-17</td>\n",
       "      <td>489998</td>\n",
       "      <td>NaN</td>\n",
       "      <td>NaN</td>\n",
       "      <td>NaN</td>\n",
       "    </tr>\n",
       "  </tbody>\n",
       "</table>\n",
       "<p>5 rows × 23 columns</p>\n",
       "</div>"
      ],
      "text/plain": [
       "                CN           PLT_CN  INVYR  STATECD  UNITCD  COUNTYCD  PLOT  \\\n",
       "0  357483133489998  264159792489998   2015        1       6        79    21   \n",
       "1  357483134489998  264159792489998   2015        1       6        79    21   \n",
       "2  357483135489998  264159792489998   2015        1       6        79    21   \n",
       "3  357483136489998  264159792489998   2015        1       6        79    21   \n",
       "4  357483487489998  264159804489998   2015        1       6        79    48   \n",
       "\n",
       "   SUBP  SUBPTYP  BNDCHG  ...  DISTCORN  AZMRIGHT  CYCLE  SUBCYCLE  \\\n",
       "0     3        1     0.0  ...       NaN       200     10         3   \n",
       "1     3        2     2.0  ...       NaN         4     10         3   \n",
       "2     4        1     1.0  ...       8.0       169     10         3   \n",
       "3     4        2     1.0  ...       6.0       290     10         3   \n",
       "4     1        1     1.0  ...       NaN       156     10         3   \n",
       "\n",
       "   CREATED_BY  CREATED_DATE  CREATED_IN_INSTANCE  MODIFIED_BY MODIFIED_DATE  \\\n",
       "0         NaN    2015-11-17               489998          NaN           NaN   \n",
       "1         NaN    2015-11-17               489998          NaN           NaN   \n",
       "2         NaN    2015-11-17               489998          NaN           NaN   \n",
       "3         NaN    2015-11-17               489998          NaN           NaN   \n",
       "4         NaN    2015-11-17               489998          NaN           NaN   \n",
       "\n",
       "   MODIFIED_IN_INSTANCE  \n",
       "0                   NaN  \n",
       "1                   NaN  \n",
       "2                   NaN  \n",
       "3                   NaN  \n",
       "4                   NaN  \n",
       "\n",
       "[5 rows x 23 columns]"
      ]
     },
     "execution_count": 10,
     "metadata": {},
     "output_type": "execute_result"
    }
   ],
   "source": [
    "df = pd.read_csv('/Users/jhamman/workdir/carbonplan_data_downloads/fia/ENTIRE/BOUNDARY.csv')\n",
    "df.head()"
   ]
  },
  {
   "cell_type": "code",
   "execution_count": null,
   "metadata": {},
   "outputs": [],
   "source": [
    "df.to_parquet()"
   ]
  }
 ],
 "metadata": {
  "kernelspec": {
   "display_name": "Python 3",
   "language": "python",
   "name": "python3"
  },
  "language_info": {
   "codemirror_mode": {
    "name": "ipython",
    "version": 3
   },
   "file_extension": ".py",
   "mimetype": "text/x-python",
   "name": "python",
   "nbconvert_exporter": "python",
   "pygments_lexer": "ipython3",
   "version": "3.8.2"
  }
 },
 "nbformat": 4,
 "nbformat_minor": 4
}
