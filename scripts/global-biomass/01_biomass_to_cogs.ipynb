{
 "cells": [
  {
   "cell_type": "markdown",
   "metadata": {},
   "source": [
    "<img width=\"50\" src=\"https://carbonplan-assets.s3.amazonaws.com/monogram/dark-small.png\" style=\"margin-left:0px;margin-top:20px\"/>\n",
    "\n",
    "# Convert Global Biomass data to COGs\n",
    "\n",
    "_by Joe Hamman (CarbonPlan), June 29, 2020_\n",
    "\n",
    "This notebook converts Global Aboveground and Belowground Biomass Carbon Density\n",
    "Maps for the Year 2010 to COG format.\n",
    "\n",
    "**Inputs:**\n",
    "\n",
    "- local copy of biomass rasters\n",
    "\n",
    "**Outputs:**\n",
    "\n",
    "- Local copies of biomass rasters in COG format\n",
    "\n",
    "**Notes:**\n",
    "\n",
    "- No reprojection or processing of the data is done in this notebook.\n"
   ]
  },
  {
   "cell_type": "code",
   "execution_count": null,
   "metadata": {},
   "outputs": [],
   "source": [
    "import io\n",
    "import os\n",
    "import pathlib\n",
    "\n",
    "from google.cloud import storage\n",
    "from rasterio.io import MemoryFile\n",
    "from rio_cogeo.cogeo import cog_translate\n",
    "from rio_cogeo.profiles import cog_profiles\n",
    "\n",
    "from carbonplan_data.utils import setup\n",
    "\n",
    "# This is the COG profile:\n",
    "dst_profile = cog_profiles.get(\"deflate\")"
   ]
  },
  {
   "cell_type": "code",
   "execution_count": null,
   "metadata": {},
   "outputs": [],
   "source": [
    "workdir, upload = setup(\"joe\")"
   ]
  },
  {
   "cell_type": "code",
   "execution_count": null,
   "metadata": {},
   "outputs": [],
   "source": [
    "keys = {\n",
    "    \"aboveground_biomass_carbon_2010\": \"aboveground\",\n",
    "    \"aboveground_biomass_carbon_2010_uncertainty\": \"aboveground_uncertainty\",\n",
    "    \"belowground_biomass_carbon_2010\": \"belowground\",\n",
    "    \"belowground_biomass_carbon_2010_uncertainty\": \"belowground_uncertainty\",\n",
    "}\n",
    "\n",
    "for skey, tkey in keys.items():\n",
    "\n",
    "    # raw file\n",
    "    source = workdir / f\"Global_Maps_C_Density_2010_1763/data/{skey}.tif\"\n",
    "\n",
    "    # local target\n",
    "    target = \"./raster.tif\"\n",
    "\n",
    "    # This is where we'll write the COGs when we're done\n",
    "    cloud_target = f\"raw/2010-harmonized-biomass/global/300m/{tkey}.tif\"\n",
    "\n",
    "    # translate to COG\n",
    "    cog_translate(source, target, dst_profile)\n",
    "\n",
    "    # Upload to GCS\n",
    "    upload(target, cloud_target)\n",
    "\n",
    "    # Remove temporary file\n",
    "    os.remove(target)"
   ]
  }
 ],
 "metadata": {
  "kernelspec": {
   "display_name": "Python 3",
   "language": "python",
   "name": "python3"
  },
  "language_info": {
   "codemirror_mode": {
    "name": "ipython",
    "version": 3
   },
   "file_extension": ".py",
   "mimetype": "text/x-python",
   "name": "python",
   "nbconvert_exporter": "python",
   "pygments_lexer": "ipython3",
   "version": "3.7.8"
  }
 },
 "nbformat": 4,
 "nbformat_minor": 4
}
