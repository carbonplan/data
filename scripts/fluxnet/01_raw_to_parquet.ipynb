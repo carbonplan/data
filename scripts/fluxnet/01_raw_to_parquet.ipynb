{
 "cells": [
  {
   "cell_type": "markdown",
   "metadata": {},
   "source": [
    "<img width=\"50\" src=\"https://carbonplan-assets.s3.amazonaws.com/monogram/dark-small.png\" style=\"margin-left:0px;margin-top:20px\"/>\n",
    "\n",
    "# FLUXNET to Parquet\n",
    "\n",
    "_by Joe Hamman (CarbonPlan), August 7, 2020_\n",
    "\n",
    "This notebook converts FLUXNET csv files to Parquet format and stages them in a\n",
    "Google Cloud Storage bucket.\n",
    "\n",
    "**Inputs:**\n",
    "\n",
    "- `fluxnet` directory\n",
    "\n",
    "**Outputs:**\n",
    "\n",
    "- One Parquet dataset per CSV: `gs://carbonplan-data/raw/fluxnet/<name>.parquet`\n",
    "\n",
    "**Notes:**\n",
    "\n",
    "- No reprojection or processing of the data is done in this notebook.\n"
   ]
  },
  {
   "cell_type": "code",
   "execution_count": null,
   "metadata": {},
   "outputs": [],
   "source": [
    "import pathlib\n",
    "\n",
    "import dask.dataframe as dd\n",
    "import fsspec\n",
    "import gcsfs\n",
    "import pandas as pd\n",
    "from fsspec.implementations.zip import ZipFileSystem\n",
    "from tqdm import tqdm\n",
    "\n",
    "# run `gcloud auth login` on the command line, or try switching token to `browser`\n",
    "fs = gcsfs.GCSFileSystem(\n",
    "    project=\"carbonplan\",\n",
    "    token=\"/Users/jhamman/.config/gcloud/legacy_credentials/joe@carbonplan.org/adc.json\",\n",
    ")"
   ]
  },
  {
   "cell_type": "code",
   "execution_count": null,
   "metadata": {},
   "outputs": [],
   "source": [
    "workdir = pathlib.Path(\"/Users/jhamman/workdir/carbonplan_data_downloads/\")"
   ]
  },
  {
   "cell_type": "code",
   "execution_count": null,
   "metadata": {},
   "outputs": [],
   "source": [
    "storage_options = {\"token\": fs.session.credentials, \"project\": \"carbonplan\"}"
   ]
  },
  {
   "cell_type": "code",
   "execution_count": null,
   "metadata": {
    "collapsed": true,
    "jupyter": {
     "outputs_hidden": true
    }
   },
   "outputs": [],
   "source": [
    "zips = (workdir / \"fluxnet\").glob(\"*zip\")\n",
    "\n",
    "\n",
    "def make_fname(stem):\n",
    "    p = stem.lower().split(\"_\")\n",
    "    if \"AUX\" in stem:\n",
    "        name = \"_\".join([p[1], *p[3:4]])\n",
    "    else:\n",
    "        name = \"_\".join([p[1], *p[3:5]])\n",
    "    return name\n",
    "\n",
    "\n",
    "for zipfile in tqdm(zips):\n",
    "    print(zipfile)\n",
    "\n",
    "    zipfs = ZipFileSystem(zipfile, mode=\"r\")\n",
    "    csvs = zipfs.glob(\"*csv\")\n",
    "\n",
    "    for csv in csvs:\n",
    "        fname = pathlib.PosixPath(csv)\n",
    "        name = make_fname(fname.stem)\n",
    "        blob = blob = f\"gcs://carbonplan-data/raw/fluxnet/{name}.parquet\"\n",
    "\n",
    "        df = pd.read_csv(zipfs.open(csv, mode=\"rb\"))\n",
    "        ddf = dd.from_pandas(df, chunksize=1000).repartition(\n",
    "            partition_size=\"50MB\"\n",
    "        )\n",
    "        ddf.to_parquet(blob, storage_options=storage_options)\n",
    "\n",
    "        print(\"--> \", blob)"
   ]
  }
 ],
 "metadata": {
  "kernelspec": {
   "display_name": "Python 3",
   "language": "python",
   "name": "python3"
  },
  "language_info": {
   "codemirror_mode": {
    "name": "ipython",
    "version": 3
   },
   "file_extension": ".py",
   "mimetype": "text/x-python",
   "name": "python",
   "nbconvert_exporter": "python",
   "pygments_lexer": "ipython3",
   "version": "3.8.2"
  }
 },
 "nbformat": 4,
 "nbformat_minor": 4
}
